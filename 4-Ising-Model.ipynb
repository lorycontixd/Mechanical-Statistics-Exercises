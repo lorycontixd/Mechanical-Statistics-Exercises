{
 "cells": [
  {
   "cell_type": "code",
   "execution_count": 5,
   "metadata": {},
   "outputs": [],
   "source": [
    "import numpy as np\n",
    "import matplotlib.pyplot as plt\n",
    "import pprint\n",
    "from IPython import display\n",
    "%matplotlib inline"
   ]
  },
  {
   "cell_type": "code",
   "execution_count": 6,
   "metadata": {},
   "outputs": [],
   "source": [
    "import matplotlib as mpl\n",
    "\n",
    "mpl.rcParams['axes.titlesize'] = 16\n",
    "mpl.rcParams['axes.labelsize'] = 14\n",
    "mpl.rcParams['legend.fontsize'] = 12\n",
    "mpl.rcParams['xtick.labelsize'] = 12\n",
    "mpl.rcParams['ytick.labelsize'] = 12"
   ]
  },
  {
   "attachments": {
    "image.png": {
     "image/png": "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"
    }
   },
   "cell_type": "markdown",
   "metadata": {},
   "source": [
    "# The Ising model in 2D\n",
    "The Hamiltonian of the Ising model is\n",
    "\n",
    "$$\n",
    "\\mathcal{H} = -\\sum_{\\langle ij \\rangle} J s_i s_j - H \\sum_i s_i\n",
    "$$\n",
    "\n",
    "In this exercise, we focus on the case $J=1, H=0$, that is, a ferromagnetic system with no external field. Remember that the sum $\\langle ij \\rangle$ runs over neighbouring sites only. In our 2D lattice, each site has 4 neighbours. \n",
    "\n",
    "<img src=\"attachment:image.png\" width=\"250\"> \n"
   ]
  },
  {
   "attachments": {
    "image.png": {
     "image/png": "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"
    }
   },
   "cell_type": "markdown",
   "metadata": {},
   "source": [
    "We will work with **periodic boundary conditions**, so that all spins have 4 neighbours. \n",
    "\n",
    "<img src=\"attachment:image.png\" width=\"250\"> \n"
   ]
  },
  {
   "cell_type": "markdown",
   "metadata": {},
   "source": [
    "# The Metropolis algorithm\n",
    "We will build a simple implementation of the **Metropolis** algorithm for the 2D Ising model. \n",
    "\n",
    "As a reminder, a single update of the Metropolis algorithm works as follows:\n",
    "\n",
    "1. Pick a site $(i, j)$ at random.\n",
    "2. Calculate the energy change $\\Delta E$ that flipping the spin $s_{ij}$ would produce.\n",
    "3. If $\\Delta E <0$, flip the spin with probability $1$.\n",
    "4. If $\\Delta E >0$, flip the spin with probability $e^{-\\beta \\Delta E}$."
   ]
  },
  {
   "cell_type": "markdown",
   "metadata": {},
   "source": [
    "### Exercice 4.1\n",
    "Write a function that, given an integer $N$, returns an $N \\times N$ array whose elements are randomly picked from {-1, 1}. "
   ]
  },
  {
   "cell_type": "code",
<<<<<<< Updated upstream
   "execution_count": 26,
=======
   "execution_count": 5,
>>>>>>> Stashed changes
   "metadata": {},
   "outputs": [],
   "source": [
    "class Ising:\n",
    "    def __init__(self, N=10, J=1, h=0):\n",
    "        self.N = N\n",
    "        self.J = J\n",
    "        self.h = h\n",
    "        self.configured = False\n",
    "    \n",
    "    def create_initial_config(self):\n",
    "        self.config = np.random.rand(self.N, self.N)\n",
    "        self.config = np.array([[-1 if self.config[i][j] < 0.5 else 1 for i in range(len(self.config[j]))] for j in range(len(self.config))])\n",
    "        self.configured = True\n",
    "        return self.config\n",
    "    \n",
    "    def graph_config(self, figsize=(8,8)):\n",
    "        if self.configured:\n",
    "            fig, ax = plt.subplots(figsize=figsize)\n",
    "            plt.title(\"Spin Configuration\")\n",
    "            plt.imshow(config)\n",
    "    \n",
    "    def metropolis_single_update(self, temperature:float):\n",
    "        assert temperature >= 0, \"Temperature cannot be negative.\"\n",
    "        assert self.config.shape == (self.N, self.N), \"Spin configuration must be a squared matrix\"\n",
    "        if not self.configured:\n",
    "            self.create_initial_config()\n",
    "        beta = 1/temperature\n",
    "        i,j = np.random.randint(0,self.N-1,size=2)\n",
    "        s = self.config[i,j]\n",
    "        #E1 = self.specific_energy(i,j) # Stato iniziale della transizione\n",
    "        #self.flip_spin(i,j) # Flip di spin casuale\n",
    "        #E2 = self.specific_energy(i,j) # \n",
    "        deltaE = self.energy_change(i,j)\n",
    "        if deltaE < 0:\n",
    "            #accepted\n",
    "            return deltaE \n",
    "        else:\n",
    "            r = np.random.rand()\n",
    "            p = np.exp(-deltaE/temperature)\n",
    "            if r <= p:\n",
    "                #accepted\n",
    "                return deltaE\n",
    "            else:\n",
    "                # rejected -> reflip\n",
    "                self.flip_spin(i,j)\n",
    "                return 0\n",
    "                \n",
    "                \n",
    "        \n",
    "    def energy_change(self, i:int, j:int):\n",
    "        if self.configured:\n",
    "            return -2*self.config[i][j]*(self.config[self.pbc(i-1)][self.pbc(j)] +\n",
    "                          self.config[self.pbc(i+1)][self.pbc(j)] +\n",
    "                          self.config[self.pbc(i)][self.pbc(j-1)] +\n",
    "                          self.config[self.pbc(i)][self.pbc(j+1)])\n",
    "        else:\n",
    "            raise RuntimeError(\"Trying to calculate energy of empty configuration.\")\n",
    "    \n",
    "    def total_energy(self):\n",
    "        \"\"\"\n",
    "        Compute the energy of a configuration.\n",
    "\n",
    "        The energy is defined as $E = -\\sum_{(a, b)} S_a S_b$,    \n",
    "        where the sum runs over pairs of adjacent spins.\n",
    "\n",
    "        Parameters\n",
    "        ----------\n",
    "        config : np.array, (N, N)\n",
    "            The system configuration.\n",
    "\n",
    "\n",
    "        Returns\n",
    "        -------\n",
    "        E : float\n",
    "            The energy of the configuration.\n",
    "        \"\"\"\n",
    "        # list of pairs of adjacent sites as four-element tuples:\n",
    "        # (i1, j1, i2, j2) represents two adjacent sites located\n",
    "        # at (i1, j1) and (i2, j2)\n",
    "        horizontal_edges = [\n",
    "            ( i, (j-1)%self.N ,i, (j+1)%self.N)\n",
    "            for i in range(self.N) for j in range(self.N)\n",
    "        ]\n",
    "        vertical_edges = [\n",
    "            ((i-1)%self.N, j, (i+1)%self.N, j)\n",
    "            for i in range(self.N) for j in range(self.N)\n",
    "        ]\n",
    "        # summing lists in python concatenates them\n",
    "        # [1, 2, 3] + [4, 5] = [1, 2, 3, 4, 5]\n",
    "        edges = horizontal_edges + vertical_edges\n",
    "        E = 0\n",
    "        for i1, j1, i2, j2 in edges:\n",
    "            E -= self.config[i1, j1]*self.config[i2, j2]\n",
    "        return E\n",
    "\n",
    "    def get_energy_evolution(self,temperature, n_updates=50000):\n",
    "        \"\"\"\n",
    "        Compute the energy evolution of a 2D Ising instance.\n",
    "\n",
    "        Parameters\n",
    "        ----------\n",
    "        N : int\n",
    "            The system size.\n",
    "        T : float\n",
    "            The temperature.\n",
    "        n_updates : int\n",
    "            Number of Metropolis updates.\n",
    "\n",
    "        Returns\n",
    "        -------\n",
    "        Es : np.array, (n_updates, )\n",
    "        \"\"\"\n",
    "        \n",
    "        energies = list()\n",
    "        for i in range(n_updates):\n",
    "            self.metropolis_single_update(T_c)\n",
    "            ene = self.total_energy()\n",
    "            energies.append(ene)\n",
    "        return np.array(energies)\n",
    "\n",
    "    def flip_spin(self,i,j):\n",
    "        if self.configured:\n",
    "            self.config[i,j] *= -1\n",
    "        else:\n",
    "            raise RuntimeError(\"Trying to flip spin of empty configuration.\")\n",
    "        \n",
    "    def pbc(self, i):\n",
    "        \"\"\"\n",
    "        Periodic Boundary Conditions: ...\n",
    "        Parameters:\n",
    "            - i (int)\n",
    "                1D index of spin site in the configuration\n",
    "        Return:\n",
    "            The index of the spin with PBC applied.\n",
    "        \"\"\"\n",
    "        return i%self.N\n",
    "        \n",
    "        "
   ]
  },
  {
   "cell_type": "markdown",
   "metadata": {},
   "source": [
    "Let us create an initail configuration with our `create_inital_config_function`. A system size of $N=100$ will be enough."
   ]
  },
  {
   "cell_type": "code",
<<<<<<< Updated upstream
   "execution_count": 19,
=======
   "execution_count": 6,
>>>>>>> Stashed changes
   "metadata": {},
   "outputs": [],
   "source": [
    "ising = Ising(100)\n",
    "config = ising.create_initial_config()"
   ]
  },
  {
   "cell_type": "markdown",
   "metadata": {},
   "source": [
    "To plot our system we can use `plt.imshow()`, as follows:"
   ]
  },
  {
   "cell_type": "code",
<<<<<<< Updated upstream
   "execution_count": 9,
=======
   "execution_count": 7,
>>>>>>> Stashed changes
   "metadata": {},
   "outputs": [
    {
     "data": {
<<<<<<< Updated upstream
      "image/png": "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\n",
=======
      "image/png": "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\n",
>>>>>>> Stashed changes
      "text/plain": [
       "<Figure size 576x576 with 1 Axes>"
      ]
     },
     "metadata": {
      "needs_background": "light"
     },
     "output_type": "display_data"
    }
   ],
   "source": [
    "ising.graph_config()"
   ]
  },
  {
   "cell_type": "markdown",
   "metadata": {},
   "source": [
    "### Exercise 4.2\n",
    "We will write our Metropolis update function. Given a site $(i, j)$, what is the change in energy $\\Delta E$ that flipping $S(i, j)$ entails?\n",
    "Recall that only 4 spins are connected to $(i, j)$, so you don't need to compute the energy of the whole system."
   ]
  },
  {
   "cell_type": "markdown",
   "metadata": {},
   "source": [
    "#### <span style=color:red> Answer </span>\n",
    "The change in energy between two different states depends strictly from the terms that directly involve the flipped spin. In fact, the difference in energy between two spin configuration states $\\mu$ and $\\nu$ can be calculated as a difference of the Hamiltonians, obtaining: $$E_{\\nu} - E_{\\mu} = -J\\sum_{i n.n. to k} s_i^{\\mu}(s_k^{\\nu} - s_k^{\\mu}),$$ where the sum is computed on the nearest neighbours of the flipped spin k.<br>\n",
    "Of course, the configuration has a finite size, therefore calculating of the nearest neighbour in the probability of transitioning from state $\\mu$ to state $\\nu$ must include some sort of periodic boundary conditions.\n",
    "Since\n",
    "$s_k^{\\nu} - s_k^{\\mu} = -2s_k^{\\mu}$, an efficient way to calculate the energy difference is: \n",
    "$$ E_{\\nu} - E_{\\mu} = 2Js_k^{\\mu} \\sum_{i n.n. k} s_i^{\\mu}$$"
   ]
  },
  {
   "cell_type": "markdown",
   "metadata": {},
   "source": [
    "### Exercise 4.3\n",
    "Write a function called `metropolis_single_update()`.  \n",
    "The **input** should be:\n",
    "\n",
    "+ *config*, a lattice configuration as an (N, N) array.\n",
    "+ *T*, the temperatue.\n",
    "\n",
    "There is no need to return anything since in python, functions can modify its input, so we will be updating config *inplace*. But it is useful to return the energy change $\\Delta E$ if one later wants to track the energy during simulations. To simplify things, we will use **periodic boundary conditions** (in python, the modulo operator is `%`)."
   ]
  },
  {
   "cell_type": "code",
<<<<<<< Updated upstream
   "execution_count": 10,
=======
   "execution_count": 8,
   "metadata": {},
   "outputs": [
    {
     "name": "stdout",
     "output_type": "stream",
     "text": [
      "Delta E:  -16\n",
      "-16 \n",
      "\n",
      "Delta E:  8\n",
      "0 \n",
      "\n",
      "Delta E:  -8\n",
      "-8 \n",
      "\n",
      "Delta E:  -8\n",
      "-8 \n",
      "\n",
      "Delta E:  0\n",
      "0 \n",
      "\n",
      "Delta E:  -8\n",
      "-8 \n",
      "\n",
      "Delta E:  -8\n",
      "-8 \n",
      "\n",
      "Delta E:  8\n",
      "0 \n",
      "\n",
      "Delta E:  8\n",
      "0 \n",
      "\n",
      "Delta E:  8\n",
      "0 \n",
      "\n",
      "Delta E:  8\n",
      "0 \n",
      "\n",
      "Delta E:  0\n",
      "0 \n",
      "\n",
      "Delta E:  16\n",
      "0 \n",
      "\n",
      "Delta E:  0\n",
      "0 \n",
      "\n",
      "Delta E:  0\n",
      "0 \n",
      "\n",
      "Delta E:  0\n",
      "0 \n",
      "\n",
      "Delta E:  0\n",
      "0 \n",
      "\n",
      "Delta E:  -8\n",
      "-8 \n",
      "\n",
      "Delta E:  16\n",
      "0 \n",
      "\n",
      "Delta E:  8\n",
      "0 \n",
      "\n",
      "Delta E:  -16\n",
      "-16 \n",
      "\n",
      "Delta E:  -8\n",
      "-8 \n",
      "\n",
      "Delta E:  8\n",
      "0 \n",
      "\n",
      "Delta E:  8\n",
      "0 \n",
      "\n",
      "Delta E:  0\n",
      "0 \n",
      "\n",
      "Delta E:  -8\n",
      "-8 \n",
      "\n",
      "Delta E:  8\n",
      "0 \n",
      "\n",
      "Delta E:  8\n",
      "0 \n",
      "\n",
      "Delta E:  -8\n",
      "-8 \n",
      "\n",
      "Delta E:  0\n",
      "0 \n",
      "\n",
      "Delta E:  8\n",
      "0 \n",
      "\n",
      "Delta E:  0\n",
      "0 \n",
      "\n",
      "Delta E:  0\n",
      "0 \n",
      "\n",
      "Delta E:  16\n",
      "0 \n",
      "\n",
      "Delta E:  0\n",
      "0 \n",
      "\n",
      "Delta E:  0\n",
      "0 \n",
      "\n",
      "Delta E:  8\n",
      "0 \n",
      "\n",
      "Delta E:  0\n",
      "0 \n",
      "\n",
      "Delta E:  -8\n",
      "-8 \n",
      "\n",
      "Delta E:  0\n",
      "0 \n",
      "\n",
      "Delta E:  -8\n",
      "-8 \n",
      "\n",
      "Delta E:  -8\n",
      "-8 \n",
      "\n",
      "Delta E:  -8\n",
      "-8 \n",
      "\n",
      "Delta E:  0\n",
      "0 \n",
      "\n",
      "Delta E:  -16\n",
      "-16 \n",
      "\n",
      "Delta E:  -8\n",
      "-8 \n",
      "\n",
      "Delta E:  8\n",
      "0 \n",
      "\n",
      "Delta E:  -8\n",
      "-8 \n",
      "\n",
      "Delta E:  16\n",
      "0 \n",
      "\n",
      "Delta E:  8\n",
      "0 \n",
      "\n",
      "Delta E:  8\n",
      "0 \n",
      "\n",
      "Delta E:  8\n",
      "0 \n",
      "\n",
      "Delta E:  -16\n",
      "-16 \n",
      "\n",
      "Delta E:  0\n",
      "0 \n",
      "\n",
      "Delta E:  -8\n",
      "-8 \n",
      "\n",
      "Delta E:  -16\n",
      "-16 \n",
      "\n",
      "Delta E:  16\n",
      "0 \n",
      "\n",
      "Delta E:  -8\n",
      "-8 \n",
      "\n",
      "Delta E:  0\n",
      "0 \n",
      "\n",
      "Delta E:  0\n",
      "0 \n",
      "\n",
      "Delta E:  -16\n",
      "-16 \n",
      "\n",
      "Delta E:  -8\n",
      "-8 \n",
      "\n",
      "Delta E:  0\n",
      "0 \n",
      "\n",
      "Delta E:  0\n",
      "0 \n",
      "\n",
      "Delta E:  0\n",
      "0 \n",
      "\n",
      "Delta E:  0\n",
      "0 \n",
      "\n",
      "Delta E:  16\n",
      "0 \n",
      "\n",
      "Delta E:  0\n",
      "0 \n",
      "\n",
      "Delta E:  0\n",
      "0 \n",
      "\n",
      "Delta E:  -16\n",
      "-16 \n",
      "\n",
      "Delta E:  8\n",
      "0 \n",
      "\n",
      "Delta E:  0\n",
      "0 \n",
      "\n",
      "Delta E:  0\n",
      "0 \n",
      "\n",
      "Delta E:  -16\n",
      "-16 \n",
      "\n",
      "Delta E:  0\n",
      "0 \n",
      "\n",
      "Delta E:  8\n",
      "0 \n",
      "\n",
      "Delta E:  -8\n",
      "-8 \n",
      "\n",
      "Delta E:  8\n",
      "0 \n",
      "\n",
      "Delta E:  -8\n",
      "-8 \n",
      "\n",
      "Delta E:  0\n",
      "0 \n",
      "\n",
      "Delta E:  0\n",
      "0 \n",
      "\n",
      "Delta E:  -8\n",
      "-8 \n",
      "\n",
      "Delta E:  -8\n",
      "-8 \n",
      "\n",
      "Delta E:  0\n",
      "0 \n",
      "\n",
      "Delta E:  0\n",
      "0 \n",
      "\n",
      "Delta E:  -8\n",
      "-8 \n",
      "\n",
      "Delta E:  -8\n",
      "-8 \n",
      "\n",
      "Delta E:  16\n",
      "0 \n",
      "\n",
      "Delta E:  -8\n",
      "-8 \n",
      "\n",
      "Delta E:  0\n",
      "0 \n",
      "\n",
      "Delta E:  0\n",
      "0 \n",
      "\n",
      "Delta E:  0\n",
      "0 \n",
      "\n",
      "Delta E:  8\n",
      "0 \n",
      "\n",
      "Delta E:  -8\n",
      "-8 \n",
      "\n",
      "Delta E:  -8\n",
      "-8 \n",
      "\n",
      "Delta E:  16\n",
      "0 \n",
      "\n",
      "Delta E:  -8\n",
      "-8 \n",
      "\n",
      "Delta E:  -16\n",
      "-16 \n",
      "\n",
      "Delta E:  16\n",
      "0 \n",
      "\n",
      "Delta E:  0\n",
      "0 \n",
      "\n"
     ]
    }
   ],
   "source": [
    "for i in range(100):\n",
    "    x = ising.metropolis_single_update(1)\n",
    "    print(x,\"\\n\")"
   ]
  },
  {
   "cell_type": "code",
   "execution_count": 9,
>>>>>>> Stashed changes
   "metadata": {},
   "outputs": [],
   "source": [
    "for i in range(100):\n",
    "    x = ising.metropolis_single_update(1)"
   ]
  },
  {
   "cell_type": "markdown",
   "metadata": {},
   "source": [
    "## Visualizing the simulation on real time\n",
    "To see if our Metropolis algorithm works, you might want to simulate systems at different temperatures, and observe how the configuration evolves trought time. To do this you need the `display` module. Below you will find an example of how to use it.\n",
    "\n",
    "For the 2D Ising model, the **critical temperature** is known to be\n",
    "$$\n",
    "T_c = \\frac{2}{\\ln(1+\\sqrt{2})} \\simeq 2.2691853...\n",
    "$$\n",
    "(with $k_B=1$). Try executing the cell below at different values of the temperature, for different system size. "
   ]
  },
  {
   "cell_type": "code",
<<<<<<< Updated upstream
   "execution_count": 11,
   "metadata": {},
   "outputs": [
    {
     "data": {
      "image/png": "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\n",
      "text/plain": [
       "<Figure size 576x432 with 1 Axes>"
      ]
     },
     "metadata": {
      "needs_background": "light"
     },
     "output_type": "display_data"
=======
   "execution_count": 10,
   "metadata": {},
   "outputs": [
    {
     "ename": "NameError",
     "evalue": "name 'create_initial_config' is not defined",
     "output_type": "error",
     "traceback": [
      "\u001b[0;31m---------------------------------------------------------------------------\u001b[0m",
      "\u001b[0;31mNameError\u001b[0m                                 Traceback (most recent call last)",
      "\u001b[0;32m<ipython-input-10-f2950fc299aa>\u001b[0m in \u001b[0;36m<module>\u001b[0;34m\u001b[0m\n\u001b[1;32m      2\u001b[0m \u001b[0;34m\u001b[0m\u001b[0m\n\u001b[1;32m      3\u001b[0m \u001b[0;31m# create initial random configuration\u001b[0m\u001b[0;34m\u001b[0m\u001b[0;34m\u001b[0m\u001b[0;34m\u001b[0m\u001b[0m\n\u001b[0;32m----> 4\u001b[0;31m \u001b[0mconfig\u001b[0m \u001b[0;34m=\u001b[0m \u001b[0mcreate_initial_config\u001b[0m\u001b[0;34m(\u001b[0m\u001b[0mN\u001b[0m\u001b[0;34m=\u001b[0m\u001b[0;36m100\u001b[0m\u001b[0;34m)\u001b[0m\u001b[0;34m\u001b[0m\u001b[0;34m\u001b[0m\u001b[0m\n\u001b[0m\u001b[1;32m      5\u001b[0m \u001b[0;34m\u001b[0m\u001b[0m\n\u001b[1;32m      6\u001b[0m \u001b[0;31m# set up figure, plot first frame\u001b[0m\u001b[0;34m\u001b[0m\u001b[0;34m\u001b[0m\u001b[0;34m\u001b[0m\u001b[0m\n",
      "\u001b[0;31mNameError\u001b[0m: name 'create_initial_config' is not defined"
     ]
>>>>>>> Stashed changes
    }
   ],
   "source": [
    "T_c = 2/np.log(1+np.sqrt(2))\n",
    "\n",
    "# create initial random configuration\n",
    "newIsing = Ising(N=100)\n",
    "config = newIsing.create_initial_config()\n",
    "\n",
    "# set up figure, plot first frame\n",
    "fig, ax = plt.subplots(1, 1, figsize=(8,6))\n",
    "# draw the initial configuration,\n",
    "# naming the plot \"im\".\n",
    "im = ax.imshow(config)\n",
    "\n",
    "for t in range(100000):\n",
    "    # update the system\n",
    "    DeltaE = newIsing.metropolis_single_update(temperature=T_c)\n",
    "    # replot every 1000 MC updates\n",
    "    if t%1000==0:\n",
    "        # update the data of the plot (not the whole figure!)\n",
    "        ax.set_title(f\"Iter {t}\")\n",
    "        im.set_data(newIsing.config)\n",
    "        # rerender\n",
    "        display.display(plt.gcf())\n",
    "        display.clear_output(wait=True)"
   ]
  },
  {
   "cell_type": "markdown",
   "metadata": {},
   "source": [
    "### Exercice 4.4\n",
    "Write a function that computes the energy of a configuration, and another that tracks its evolution over time."
   ]
  },
  {
   "cell_type": "code",
   "execution_count": null,
   "metadata": {},
   "outputs": [],
   "source": []
  },
  {
   "cell_type": "markdown",
   "metadata": {},
   "source": [
    "### Exercise 4.5\n",
    "Compute the energy of your system during a long simulation, and plot it as a function of time. **Tip** Use logarithmic x-axis!"
   ]
  },
  {
   "cell_type": "code",
   "execution_count": 35,
   "metadata": {},
   "outputs": [],
   "source": [
    "ising = Ising(N=100)\n",
    "ising.create_initial_config()\n",
    "energy_evolution = ising.get_energy_evolution(T_c, n_updates=1000)\n"
   ]
  },
  {
   "cell_type": "code",
   "execution_count": 36,
   "metadata": {},
   "outputs": [
    {
     "data": {
      "image/png": "iVBORw0KGgoAAAANSUhEUgAAAY0AAAEVCAYAAAAckrn/AAAAOXRFWHRTb2Z0d2FyZQBNYXRwbG90bGliIHZlcnNpb24zLjQuMywgaHR0cHM6Ly9tYXRwbG90bGliLm9yZy/MnkTPAAAACXBIWXMAAAsTAAALEwEAmpwYAAAy10lEQVR4nO3deXydZZ338c/vLNmbpE3T0jbdKaVlKUhBBRFQFh1GQMAFRoYq2yDwyDKDzssN1Bkf13l0EBwWBwouo+I4ssioyCKySFkKlFYo0NLSliZtkzbNes65nj/OfZ+cnJ6TnOSsSb7v1yuvJvd6pXd7/851/a7FnHOIiIhkI1DqAoiIyNihoCEiIllT0BARkawpaIiISNYUNEREJGsKGiIikjUFDRERyVpRg4aZ3WVmW81st5m9YmYXJu2rMbMbzazNzDrM7NGkfWZm3zCzHd7XN8zMill2ERGBUJHv93XgAudcr5kdCDxsZs85554BbvbKswTYCRyWdN7FwBnAMsABvwfeAH5YvKKLiEhRg4Zzbk3yj97XQjPbC5wGtDjndnv7n0k69nzgO865zQBm9h3gIhQ0RESKqtg1DczsRmAFUA08B9wPnAlsBK43s/OArcB1zrm7vdMOAlYnXWa1ty3d9S8mXjOhtrb2iAMPPLAAv4WIyPj1zDPPtDnnmtPtK3rQcM592syuAN4NHA/0Ai3AwcDdwExv331m9rJzbi1QB3QkXaYDqDMzcymTZznnbibe1MXy5cvdqlWrCvwbiYiML2a2MdO+kvSecs5FnXOPEQ8WlwLdQD/wNedcn3PuEeAh4GTvlE6gPukS9UBnasAQEZHCKnWX2xCwEHghzb7kgLCGeBLct8zbJiIiRVS0oGFm08zs42ZWZ2ZBMzsFOAd4EHgUeBP4ZzMLmdkxwAnA/3qnrwSuNrNZZjYTuAa4vVhlFxGRuGLmNBzxpqgfEg9WG4ErnXO/ATCz04Fbgc95+/7eObfOO/c/gAXAi97Pt3rbRESkiGw8pwUyJcL7+/vZvHkzPT09JSjV+FNVVUVLSwvhcLjURRGRPDCzZ5xzy9PtK3rvqXKwefNmJk2axLx589DA8tw459ixYwebN29m/vz5pS6OiBRYqRPhJdHT00NTU5MCRh6YGU1NTaq1yZjinGP77h62dfTQ0x8tdXHGlAlZ0wAUMPJIf5cy1tzx+Aauu+dlAOY11fDwP51Q4hKNHROypiEiE9vW3T2EAsaxi6by9u7eUhdnTFHQEJEJJxJ1VIYCLJ1ZT2wcdwYqBAUNEZlwojFHMGAEzFDMGBkFjTI0b948qqurqaurS3xdfvnlpS6WyLgRicUIBwMEDNU0RmjCJsLL3T333MOJJ55YsOtHIhFCIT1+mZiSaxoKGiOjtwZw/T1reHnL7uEPzMHSmfV8+UNpZ3PP2u23386tt97Ku971Lm677TYaGxu58cYb+eAHPwhAR0cHV199Nffffz+BQIBPfvKTXH/99QSDQW6//XZuueUWjjrqKFauXMmll17KVVddxYoVK3jkkUdYvHgxp5xyCg8//DCPPfYYl112GVVVVXznO99J3P+0007jhBNO4Kqrrsrp9xAptf6oIxQwzIyYYsaIqHlqjHnqqadYvHgxbW1tXHvttVxwwQX4o/pXrFhBKBRi/fr1PPfcc/zud7/j1ltvHXTuggULePvtt/n85z/PZZddRm1tLdu2beOOO+7gjjvuSBx7/vnn89Of/pRYLAZAW1sbf/jDHzj33HOL+wuLFEA05ggGjYDXW3w8z4yRb6ppQM41gEI444wzBjUffetb3yIcDjN37lwuuugiIP5i//SnP83bb7+NmXH//ffT3t5OdXU1tbW1XHXVVdx8881ccsklAMycOZMrrrgCiI+tuPvuu3nppZeoqalh6dKlnH/++Tz88MMAHHXUUTQ0NPDggw9y0kkn8bOf/Yzjjz+e6dOnF/cvQqQAIjFHOBAg4I0xijkIarhRVlTTKFO//vWvaW9vT3z5gWK//fZLHFNTUwNAZ2cnGzdupL+/nxkzZtDY2EhjYyOXXHIJ27dvTxw/e/bsxPetra1EIpFB25K/h3hQuuuuuwC46667OO+88/L/i4oUWeueXu5ZvYVAYKCmEXOOf/v9K3zmZ8+xu6e/tAUsc6ppjBOzZ8+msrKStra2jAnu5JHbzc3NhEIhNm/ezAEHHADApk2bBh3/iU98goMPPpjVq1ezdu1azjjjjIKVX6RYnn1zFwCLp09K/J+IOcf3HnwVgHOOmsO7FjSVrHzlTjWNcWLGjBmcfPLJXHPNNezevZtYLMZrr73GI488kvb4YDDImWeeyXXXXUdXVxfr1q1j5cqVg45paWnhyCOP5LzzzuOss86iurq6GL+KSEH5+YvLTtg/0TyVnNKIKTM+JAWNMvWhD31o0DiND3/4w8Oes3LlSvr6+li6dCmTJ0/m7LPPZuvWrRmPv+GGG+jo6GC//fbjvPPO45xzzqGysnLQMeeffz4vvviimqZk3PBjQjClecoXUdAYkpqnytCGDRsy7luxYsWgn5N7fTQ0NHDTTTdx0003pT0v9dzm5mbuu+++xM+f/exnaWlpGXTMnDlzmD17Nscff3zW5RcpZ36ACBiJmkZyoIiqJ9WQVNOYwNatW8cLL7yAc46//OUv3HbbbYNqNP39/Xzve9/jwgsv1Ey2Mm748cHM8P9Z90diif3RqILGUBQ0JrA9e/Zw5plnUltby8c+9jGuueYaTj/9dADWrl1LY2MjW7du5corryxtQUXyyKWpafRH1TyVLTVPTWBHHnkk69evT7tvyZIl7N27t8glEim8geapgZxGfzSppqGgMaQJW9PQCND80d+ljCXeJAfxoOFFjb7koKF/z0OakDWNqqoqduzYoSVf88BfI7yqqqrURRHJih8UzAbGLnX1Diz5un57Z8HL0B+N8fSGndRVhuiPxuiLOEJBY/ncyWX/TpqQQaOlpYXNmzfT2tpa6qKMC1VVVfv0uhIpV4mcRsAIezWN2x/fkNh/40PrufqkAwpahv9ds43Lf/LcPtvvvvRojpg7uaD3ztWEDBrhcJj58+eXuhgiUgKJcRpmvO/AaQD09MdrGpWhAMFA4T/p7+mJpN3e2Zt+ezmZsDkNEZmYksdphIPxV2BvJB40DpxRTzEahzL10BoLo9EVNERkQkkepxH0prbt9cZpVIYCRelyG01KvCcbC919FTREZEJJHqcRCuwbNIrR5TZTcIjG0geTcqKgISITit8EFDBL5C8GBY0idLnNFJgyVEDKioKGiEwo/vs6YEYo4OU0vER4RSiAc4XPLWSqaURU0xARKS9+ItwCJEaE93k1jQovMV7o3ELmmoZyGiIiZSV5GhEzIxSwpOapIFD4l3fmmkb5B40JOU5DRCaOX6zaxPf/+Gri5007u4H4OA2Ir6uxtSO+rSIU/xz96vY9HNrSWLAy/erZzWm3r3mrA5bPTruvXKimISLj2hOv72BHZx9Hzp1CT/9AzqC6Il6r+MeTF3PGYbO4+L0LeM+iqQC8ubOroGXyg9MpB00ftL0qHCzoffNBNQ0RGdciUce0SZV892OHcd5tT9G6pzcxEhzgovcuSHz/Wmt83qlCN0/FYo7TD5vJtz+yjEWf/y0A1eHgoBUEy5VqGiIyrkVjjpCX4PbHZWSaKcTfX4ycRjBgiSYyv0xjIGYoaIjI+NYfjSWCgR88Ms0km27510KIxhyhwMDU7P69x0AeXEFDRMa3SCw+7ThkUdPwjivGOI1gYPDr1ww1T4mIlFq8puE1T3k1jUwz2frbi1XTSBYI2JhY0KyoQcPM7jKzrWa228xeMbML0xzzJTNzZnZi0rZKM/uRd942M7u6mOUWkbErEnWEU2oamZqn/BxDwXMa0dg+gWusNE8Vu/fU14ELnHO9ZnYg8LCZPeecewbAzBYCHwG2ppx3HbAImAvsBzxkZi875x4oXtFFZCyKf6ofXMMIZAga/nGFDhppaxpqntqXc26Nc67X/9H7Wph0yA+AzwJ9KaeeD3zVObfLObcWuAVYUeDiisgYde8LW7j50de488mNPLdpVyJX4dc4MuU0/DTDpl37jtP467Y93PnkxsTaG6PV2Rthb180MS27L+bgp395MzHQsFwVfZyGmd1I/IVfDTwH3O9t/wjQ65y7P7nqaGaTgRnA6qTLrAbOyHD9i4GLAebMmZP38otIedvbG9lnKdW2zvjn0N3einmZVs6r9gbXpdt/9c+fZ82W3SyYWssx+08ddfkeXPs2AJMq469fMzj7HS384pn4KPHrf/MyPzzviFFfv9CKngh3zn0amAQcC/wK6DWzScC/Ap9Jc0qd92dH0rYO7xrprn+zc265c255c3Nz/gouImNCvze/+BmHzUxsO2Fx/F1w9MKmQcekCgUDTJtUOWj8hO/t3T3AwOSGo9XrjUo/4/BZALzx9VP51keWJfYXejR6rkoyItw5FwUeM7NPAJcSz1Xc6ZzbkObwTu/PeqAn6fs9hS6niIw9fjqipnLg9ebnMvw8wlCpg3Aw0+p9+UmS+9f2l5oda0pd6hDxnMb7gf/j9YzaBswGfm5mn3XO7SKeGF+WdN4yYE3RSysiZc9/qVeGBl5vlpiccPhEdzBgaVfQ8/MguS7S5F87U7ffcle0moaZTQPeB9wLdAMnAud4X18BwkmHPw1cDfzW+3kl8AUzWwVMBy4CPlmckovIWOKPdfCnOYeBF76fCB+ql1IwYETT7PZbrHId+OfXNFJ7T/nKvf9UMZunHPGmqB8Sr+FsBK50zv0m9UAziwK7nHN+09SXgZu8c7qBb6i7rYik49cEKpJqGsnToMPQzVOZahrmN0/lXNNwg8oy1hQtaDjnWoHjsjx2XsrPvcCnvC8RkYzSNU8FUnIaQ9U0QgEjkqaqkWieyltNI312oNxDSalzGiIieeXHg4qkRLM/mM9/UQ8VNOIjs/fd7+dFch2AN9ZrGgoaIjKuJGoa4eSgEf8zmMhpZD4/FIwv/9rdFx/E19MfpasvQsRrssrQWzdrfnffTDmNch8VrkWYRGRc+OKvX+LOJzfyx2vireBVgxLh8Re032S1X31VxutUhgL86dU2lnzpAY5e2MQTr+8YlAN56a0Ozj6iZdTlfHnL7niZMgSNddvKezSBahoiMi7c+eRGYOCTelVFMNFE5b+gl8+dwr98+GC+8LdLMl7nC6cu5Z8/eCAVoQCPv7Zjn6R5fVVun7Wb6irTbv/FP7wbgCUz6nO6fqEpaIjIuOI3PQXNOHr/+Ahw/0N9RSjA371zLi2TazKev2x2I5cct5CqUPrXY65zGTrnmF6/b+A4ct4UTl46veynR1fQEJFxxc9pBGygq22mWW2Hkqn5KNecQ8y5jOWxMbDkq4KGiIwriaARsESPp0wBYCiZXuy51jRiLvO1A2a4Mh/ep6AhIuNKrzehYMAs0Sw1mt6tmV7suTYfxZwjU8VnLCzEpKAhIuOKv95FMDDw4k83a+1wEt10UyJOzs1TsaGbp8q9y62ChoiMK8k1jeFW6htKpoCTj+apTAP7zEw5DRGRYvLXqwiYJXIZo4gZiRd76gs+12lEhm6eyr35q9AUNERkXPnRY28A8Zf9QE5j5FHDP8XhBgWOXF/qbphEeLqY5JzjBw+tp3VP7747i0xBQ0TGhVmN1QBs6ehm8fRJzJ9ayxmHzWLRtLpRDZjzX+w9/TG+dsbBie25N0+5jIn5TDmNFzZ38K3//StX//z53G6eB5pGRETGhSUz6qmvDvPbzxyb2DazsZoTDpw2quv5tYtDWxo456g5nHPUHJZ/7feFHadB+pyGP19VlzcfVimppiEi40LMOfK5gqqladqyPHSJjbmBGXNTDZfTKId5cRU0RGRciMbcqLrWZjIwnbolbctHTiNz81TGnEZOd8wvBQ0RGRfivZLyFzQSU5AMChrp19oYiSFHhAfS5zT8TXn89UZNQUNExoV481T+3qr+Czq59pKPEdtDJcIhc++p+N7SRw0FDREZFwrWPBVMzmnkY8LCoXMaQzZGlT5mKGiIyPgQc/HmnXxJN5o8kIcR22M9p6Eut5JX0ZhjzZaOnEfNFlI4GGDpjPpRzXxaTG+1d7N9d8+ozp3bVMuU2oo8l6jwuvuivNbayZIZ9Vk1NbXu6WXzri4Adnf35/V39m+fmgjPVNNwzvHq9k7mTKkh5hxbO3pY2Fw36Jj+aIynN+xkaYZxIwGDnXv7cM7R1tnHlvZuls6sH8hp5P5r5UxBQ/ImGnNcvHIVD67bXuqiDOubZx3KR4+cXepiZNQbiXLSdx8Zdb/8ZbMb+Z/LjslzqQrvi//zEr98ZjPf/egyznzH8EuqnnvLk7y6vTPx88lLp+etLOmmVR8qp/H8pnY+fOPjnHn4LNq7+/njuu08/I/HM29qbeKY//eHV+jpj/Hsm+1prxHxLv7Y+jauv+dl1m/v5NoPLOaw2Y1emXL/vXKloCF587X7XubBddu58sRFLPP+kZejL/76JR5Ys62sg8bW9h66+qJc/N4FvHth04jOvfOJjbywub0wBSuwbR3xmtXOvX1ZHd/e3c9xBzSz4ph5ABw8syFvZUnMPWXZ5TR2dcXL/OJbHWzc4dV+evoHHbPB257J2Ue08OOn3qSju59d3t9BR3d/on2qHBLhChqSFyuf2MB//nkDnzpmPleeeECpizOkk5ZO58dPvUlXX4SaivL8L/BWezcAxy9u5uiFU0d07nMbd/HwX7fHE8Nl3gSXiT9T7XBiMUfL5GpOWDy6Ud9DSUyNHkzNaaQPGv3R+Pbkv/PUZtrhnkZ9dThxnh+rYrGBZZnKoaahRLjk7KF127nuN2s4cck0Pn/qklIXZ1gnLplOXyTGY6+2lbooGb21Kx40Whozr2WdSVNdJTEH7V3ZfVovJ/7rMdugEc1zN9tkfvPUPl1uMxQt4gWN5J5RI03t+fmTaMwlzo0kXURBQ8a8tVt3c/lPnuXA/er53scPHxOfbI+aP4VJVSEeXFu+uZfN7d2YwX4NVSM+t6kungzekWUTTznp84JFX7ZBY4gFjXIVTDMifKjmKX9+qGBgIPil1kqGiyH+/59IzCXOjcVcWa2xoaAho7Z9dw8X3P40dVUhbluxnNrK8mzqSRUOBjjugGYeXLedWJn28nprVzf71VdRERr5f9Gm2koA2jpLP432SPk1DH/1veEMtQpervzuu9kmwhNBwzI3Tw0nmKamEXUuEYTKIaehoCGj0t0X5cKVq9jV1c9t5x/JjIbqUhdpRE5cMp22zl5Wl2nC+K32rsRU3yM11a9pdI7/mkZ8FbzClCXdyn2BQOa5p/xmpOQgM9LPJIODhkt8r2lEZEyLxRxX/dfzvPhWB98/53AOnpW/HivFcvziZoIBK9smqrfau5k1eXRBo6kuXtPYMaZrGtnnNAo13iYRNFIS4dFMQSMaG3QejHz0uB+gojGXaMuKJiXCy4GChozYN/53HQ+s2cYXTl3KSXnsF19MjTUVLJ87mT+sfbvURdlHNObY2t4z6ppGY3WYgE2MnEYsz1OHJEv0nspyanS/91RyDNsnaAzz9g95bWKRQTWN8loCdmw0Qo/S+u2d/O2//6nUxRhXorF48vsT75rDp7y+8WPViUum8y/3r2Xzri5aJo+8l1ImX7v3ZZ58Y8eoz4/G4i+N0dY0AgFjSm0lP3nqTZ7esJMffuIIGmtyGynd1RfhkjufSYxF8F34ngWccfisnK7d1tnLZT9+lr19Ed72RsD/ZvUWvnn2oVx85zM8/cZOuvujHHdAM/9x3hFUhYOJcwvZeypR00i6/t7eCKs3tfPxm5/g7945l1MPmcHlP32WDW1dvLx1NwBPb9g1UD4vwmzt6ObynzzHMxt3MRS/VrNmS0ciON397Gae8v49/enVNh5f38bR+4+sG3Y+jeugEQoa0yeNvPeJDO3YRVO59pTFeZ2GuhSOnD8FgJe37M5r0PivVZuYXFPBoml1wx+cwfypNRyfw9iDfzhuAQ+8tI0nX9/Jy1t25/ySeaNtL396tY1DWxpo9pq/nnx9B79/+e2cg8Zft+3hqTd2csTcyRy/uJk/eE2Gb7V38+grrYnjHnmlla0dPcz3Rlg754ZcbztXH1negpnxN4fMSGxb740+f/L1nTz5+k5OOHAa97+4LeM1/ArCy1t2DwoY917xnrTH11bEA2JNRXBQLaW9a2CQ4J1PblTQKJR5TbXctuLIUhdDytT8pvjLZ8OOvXm7Zk9/lD09ES557wIuf9+ivF13pC48dgHvPaCZk//t0bw0U+3tjfdmuvaUA3nPovgL6/QbHmNvXyTna/s9pb70t0tZNruR7z/4Kt/9/St0p5lCxe+hBAOf4gtV0/jAwTP4wMEzBm1bNK1u0LQl/cM0o/ll9JuuAP71w4dkzAOaGU21FTgvpVFTEaSrL8rxi5u594WtACXvfquchkxYDTVhGmvCw07tMBJ+N9fmSZV5u+Zo+ZP3pTYpjUZnb/yTbl3VwOfM2soQe3vzEDT64y/eynD8deR3M+5Mc+3kXIefkC7m2KDUe/VnGunnSe4B5QsNU16zeMBwzhEuVNewHJRfiUSKaF5TLRvzWNNo3RMPGlPrSh80GqvDmOWn6+2envgLvC5pLE5NRShRA8mF31OqMhRvmqnwXpT+PZP1JdU0/Pd1oZqn0km9V3INIp2BUd0D5U5enyO9+PTrMQfhNMeWulVYQUMmtHlNNWxoy2dNI/6CLoeaRigYoKE6nPXkf0PxP/UnB43ayiBdeWyeqvRqGH6NY0/KZH+QqaaRcxGyllrTiESzq2lEkoLLcDUj8xZichmS/AoaIiU0t6mWLR3d9PTn/okZyqumAfEmqnwEDb8ZKrl5qqYixN5RTt2ezK9p+L2ihqpppMtpFLWmkdo8lW3QSK5pDLNSlEGippHu2FKPCi9q0DCzu8xsq5ntNrNXzOxCb/u7zOz3ZrbTzFrN7BdmNiPpPDOzb5jZDu/rGzbWu+5IWZg/tRbnSCzkkys/p+HP/1RqTbUV7Nib+yC/zp4IZlCT1N21rjKYl5yGH7AHahrxewyX04gVOBGeTmprUV9k6OYpP7AlTzo4XPOU2UCy22+eGnSXCVbT+DowzzlXD5wGfM3MjgAmAzcD84C5wB7gP5POuxg4A1gGHAp8CLikaKWWcWtuU7yr7Rt5aqJq3dNLQ3U40T5favmqaezpjVBbERr0SbumIkRXXzTn+bsSiXAvaPg1jdS1KCClplGCRHjqJ3+/BlGRoY3Mf/mPJBEOAzWUUJrrlvrTclG73Drn1iT/6H0tdM79PPk4M7sBeCRp0/nAd5xzm7393wEuAn5Y2BLLeDfP63abr2R4W2dvWeQzfFNqK3n8tR38fNUmTlm6H2/s2Ms6bxBaqql1lZyYYYT/3t7IoHwGxHMaAN390VFNVvn4+jbe3NnFc5vaCQYs8YL0cxqbd3bvc86jr7bxjrmTaa6r5I/eeI5iNjqkthb99qX4GI1Q0EjXUufXYP1my/ixQ39Wf3t3L794ZjNA2tHuv1vzNi9sbufQlsYRlDx/ij5Ow8xuBFYA1cBzwP1pDnsvkBxgDgJWJ/282tuW7voXE6+ZMGfOnNwLLOPa5NoKGqrDeRur0bqnNzFhYDnYf1ode3oiXPvLF9jxgT7uenJjYoGndJ745/elnXxyb2+UmsrBtadqbwGrvX2REQeNSDTG3//oL4lmm9lTBu45w5sO/hFvYN8hsxp48a0OKkIBfvLUm9RWBDn7iNlce/cLAOxXX7wBvB9dPpsnX9+Z+Pmmh1/DLL799sc3MGdKDW/uHKi1vrC5Axicn2keQb6ryhvsd8ScydznjdPoi8Y47YY/s+H/nprT7zJaRQ8azrlPm9kVwLuB44FBDa5mdijwJeD0pM11QEfSzx1AnZmZS5mUxTl3M/GmLpYvX14+E7ZI2cpnD6q2zl4OKdEnwHQ+dcw8/vbQGbzv2w+zfU8PrXt6+cS75nDZCfsPOu6Rv7byuV+9yM69fWmDRm8ktk+TW6X3iXm4bqfp9ERiRGKOy0/Yn7971xwaqwcC7YH71QMD+Ys7PnUUjdVhOvsiHPfNh9jbF6Xby4N87+OHFXX+szPf0cL7l0zn8K/8jpiD6087iNOWzWRybQX/eMpiqsNBuvujhALGCd9+mHBo8NgTgKUz67O+36eOmcfxi6fRUB3mK/e+nPffZzRK0nvKORd1zj0GtACX+tvNbH/gt8BnnHPJk0Z1Asl/0/VAZ2rAEBmNuU2147amYWZMr69iSl0Fb+3qpi8ao2VyDTMaqgd9zfFyO7u70ye2+6Kxfdb2CIfiTSfDjYpOp9d76TdPqmRGQzXVFYMDUkN1ODEmozIUIBAw6qvCVIWD9EdiiRxBg7c8ajE1VIcTy7JOm1TJZG8QZV1liGDAqKsMURUOUl8VTnTJHW3ex8xK8jsOpdRdbkPAQgAzmwv8Afiqc+7OlOPWEE+C+5YxuPlKZNTmTa1lS3t31gv/ZNLVF2FvX7Sschq+KTUVvN4WD4yTa/Z9CdVXxbelSz4D9EWiiZqFL5yoaYw8aPQkutmmfwUlB6jKpO8rQgH6orFEorhUK0X6QWuo/EQoaInxGZmmUx9OOS6EWbSgYWbTzOzjZlZnZkEzOwU4B3jQzGYBfwRucM6lS26vBK42s1lmNhO4Bri9WGWX8W1eUw0xB5t3ZW7rz0bbHm9gX5mM0Ug2ubaCN7ygkW7GW//T7O7uTEEjlqhZ+Pyg0TeaoJHoZpu+l5nfGylgg1/M4WCA/uhATaNQ06IPx685pBux7QsFA/TH/GVfR3efUo/JSKeYNQ1HvClqM7AL+DZwpXPuN8CFwALgOjPr9L+Szv0P4B7gReAl4D5vm0jO5voTF7bl1kTV6o3RmFqGNY3JNRWJF+3kNEFjoKYxRPNUyqfqihxyGn4320w1jdR5qJLv2ReJJV7ahVqAaTh+zSFTV1uAcMAGmqfGUU2jaIlw51wrcFyGfdcD1w9xrgOu9b5E8sqfajvXiQv9bpVlWdNIChTpmqcmVYUwg44hahr7vMBDuTRPeTWN8NA1jdSXcjgUoC/qSjJGI5k/wDs8xBruwYAleoeNNmiU4xjmUuc0REpuck2YSVWhnMdqlNMMt6mm1A4EinTNUwEvgZupeao/6qhIaUpK5DRGkQhPHQWeKjHQL+WeFUEblAgv5hQiyfygNdQstOFgIKmmMbr7lGHMUNAQMTPmNdUm2vxHq62zF7OBKcnLyeSkMjWmqWlAvIkqcyJ83+Ypvz1/NDmN1PmmUvm5jtSgUm6J8KFzGkk1jVFGjVIFxaGM60WYRLI1b2ot96zewqLPpxtrmp1IzDGlpqIs10BoSgoamcpXXx1OdLn9xK1PJZYYrQoH2dMT2bfLbZqcxjMbd3LWTU9kHCQIcNZNj/P8pnYAqjMFjfDg0eG+qlCQP6/fwVfvXQuULhE+r6mGDTu6MtaUIP7Cf2FzB/M+dx/LWtIvujScCZ3TEClnl52wkDlTqnNeFa1UUzsM59hFzVxz0gEsHGIJ2vqqUKKm8czGXRw0s4ElM+r56V/eBNJ/6ofBOY07n9gIwFOv78y4DOzqTe0cNruRk5dO54Dpk9Iec+WJizhkVgNHzpsyaPvl79ufB9dtT9QKh5kwtmD+/Zx38OTrO1gwNfPf5+mHzeSP6+JTnfjLxN596buHvfZPLnon597yFKCahkjZOnC/+sRI5PGotjLEFe8fevnZ+uowm3Z20R+N0d0f5YTF0/jokS2JoJG5ppF981QkGh8JftwBzVxy3MKMxx0xdwpHzJ2yz/bD50zmmP2b+PP6eC2oVM1Th7Q0cMgwtYd3zJmc+D7moGVyddrfKdXRC5PW/y6/mKGchojENVSH2d3dT6fX7XZSVWjQJIUZcxppEuGO9FW24Qb1ZSO5ea1UzVPZSJ4CPRKLjarWUI41DQUNEQH8RHgkMblefXWY2oqkoJFmzASMLBHu95rKlADPRnLwKtU4jWwkT6PeH02/Ct9wyvHXU9AQEQDqq0N09kbY1RUf2T6pKr5+hv+yy9g8laam0Z9hcaJE0MhhvZHksRHlXNNI7Vk1mqJO9BHhIlLG/FHhW7yp0yd5S7v6n+xTe12FQ/v2nvJlWju8x19wKYfmqeSaRqlyGtlILdvomqfyVZr8UdAQEYDEzK3+eht+EKlIM703pB+n4YePrgxrruejeSr5E3w5N0+lBtnRFHXcjgg3s7VmlvtiwSJSMvVezcKfuNEPGom1u1NrGoF9e0/5g9660y1jB4mZhHPKaYyR5qnUZV1HU9Mox18vX11ufwA05elaIlIC/ky3/op5ieapDDWNQMAIBYyH1m1PzFnlr1T30F+3c9T8KRy7qBmApzfs5P4Xt7K1vQfIPKgvG+FBifBRX6bg8tM8VX5RIy9Bwzl3Qz6uIyKls6C5jlmN1bR19nLwrPpEc9VHjpjNyic2sGj6vgPZjpo/hRff6kis1eFbu3UP33/w1UTQ+I9HXuOP67ZTWxliZkMVc71Fn0ZjWUsjDdVhptdXlt0CRcnMjMNmN/L8pnYmVYU4fE7jiK+RHHeOXTSVP73alr8CjpKN58Xvli9f7latWlXqYohMOBfe8TRb2nu4/zPHAnDuLU/SF4nxy0uPLnHJxoZ5n7sPgAevOY6FzYOD9TcfWMfNj77O+n/9m4Ld38yecc4tT7evjCt3IjJWVVeEEklviCfAc8ljTFTpcjYBswxDJ4tDQUNE8q46HKArKRne3R9T0BiFdF2KzUa/Pkc+KGiISN7VVIToTqlpVFcoaIxU+qBhOU+smQsFDRHJu6pwcFC3257+KFVDTCMu6aUNGt6fpcpH6ymKSN7VVATpi8YSK9d1q6YxKumCht8Nt1S1DQUNEck7fxyG30TV3RfNaWzGRJUuEe5vKlVeQ+tpiEjeVXm1itY9vYSDAXojMSoVNEYs3TQp/qZSpTUUNEQk7xq9QXfn3vIUB82ML25VzgPxys1xBzTzyCutaZeT9XuldfdHS7K0sIKGiOTdyQdNZ86UGnbu7WP7nl5CAeNjR84udbHGjH/72GG83tqZtpvyJG9OsHSLXxWDchoikneVoSCnHjqDvkiMnv4oJx80fdAqgDK0KbUVLE9ZH93nzwkWi6n3lIiMIzXheA+qzt5ITosuyWB+j6oSxQwFDREpDL+L7a6uvkRiXHIXKHHvKQUNESkIvz2+pz+m7rZ55C/MpKAhIuNKcqBQ0MgfDe4TkXEpeQS4RoPnj5qnRGRcSg4U6cYbyOgETIlwERmHBjVPqaaRN+mmEbln9Ra+8OsXizKJoTpOi0hBLNmvnhMWN9MbifHO+enHHMjIJWoaSVWNK376HABf/tBBhIOFXVdcQUNECqKhJsx/fvKoUhdj3BlqnEY05ih0nwM1T4mIjCFDJcKLkRtX0BARGUOGGqcRLULUUNAQERlDhhqnES1ClyoFDRGRMWTo5qlxFjTM7C4z22pmu83sFTO7MGnf+81snZl1mdlDZjY3aV+lmf3IO2+bmV1dzHKLiJSLocZpjMeaxteBec65euA04GtmdoSZTQV+BXwRmAKsAv4r6bzrgEXAXOAE4Foz+0AxCy4iUg6GWu61GAP+iho0nHNrnHO9/o/e10LgTGCNc+4Xzrke4kFimZkd6B17PvBV59wu59xa4BZgRTHLLiJSDvyaxqadXfvsezPNtrzfv+B3SGFmN5pZF7AO2ArcDxwErPaPcc7tBV4DDjKzycCM5P3e9wdluP7FZrbKzFa1trYW6LcQESmNKbUVANz86Ov77Dv7h48X/P5FDxrOuU8Dk4BjiTdJ9QJ1QEfKoR3ecXVJP6fuS3f9m51zy51zy5ubm/NZdBGRkjt4VgMLm2upSDOf17gdp+GcizrnHgNagEuBTqA+5bB6YI+3j5T9/j4RkQmnZXLNhJ0aPUQ8p7EGWOZvNLNaf7tzbhfxZqxlSect884REZlwAlac7rVp712sG5nZNDP7uJnVmVnQzE4BzgEeBP4bONjMzjKzKuBLwAvOuXXe6SuBL5jZZC85fhFwe7HKLiJSTgJmE2JqdEe8KWozsAv4NnClc+43zrlW4CzgX7x97wQ+nnTul4knxjcCjwDfcs49UMSyi4iUDTMrypiMdIo2y60XGI4bYv8fgAMz7OsFPuV9iYhMaAHTyn0iIpKlgNmETYSLiMgIBQOmmoaIiGTHhmieen5Te0HvraAhIjLGDNV76pVthR3CpqAhIjLGpCbCQwHj7CNaAIgUuFeVgoaIyBgTr2kMBIeYc4SD8dd5NBYr7L0LenUREck7MyM5NsQchIPx2W9V0xARkUGSpxHx/xyoaShoiIhIkuREuP+ngoaIiKQVCBhRr4bh5zYq1DwlIiLpJDdPxdQ8JSIiQwmY0dbZBwwsvBT0ahrf/f0r/M/zbxXu3gW7soiIFER7dz8AvZFooqbhrx0O8JmfPV+wGoeChojIGHPIrPhCppGoS9Q0Ajb4mEIFjaJNjS4iIvkRDMQ/70diLhEskmsaULigoZqGiMgYE/IiRTTmEl1uLTVoFGgWXAUNEZExJugFjUg0luhFtU/zVFRBQ0REGDxlSCyR0xgcNSIFmoNKQUNEZIzxcxrx5qkMNQ01T4mICAzkNCJJQWOfnIYS4SIiAgM5ja6+SFKX25TmKeU0REQEoDocBODU7z/Gpp1dAPRHB+cw9vRECnJvBQ0RkTHmPYumJr7v6Y8HizlNNdx7xXu44D3zgcxriOdKQUNEZIyp8moaMJDwrq8KcfCsBt69oAkYmJMq3xQ0RETGsNS5p7yOVappiIjIvmKxwUHDiP+poCEiIvvwu9b6Par8TlSFWlVDQUNEZAzbp3nK+9OppiEiIqn6vPEYfi7DDxqFWsBPQUNEZAzri8S73AYTNY349phGhIuISKofPLQegIAXLXZ7g/oeeaW1IPdT0BARGcPeaNsLDDRL9Xkjw9/0Rornm4KGiMg4ECxwAtynoCEiMg4EUt7mqbPe5u0+BbmqiIgUVeostwW7T1HuIiIiBeUP7vNbpwoVQhQ0RETGgdSaRqEqHkULGmZWaWa3mdlGM9tjZs+b2QeT9n/UzNZ6+142szNSzr/KzLaZ2W4z+5GZVRar7CIi5S6QmD5k/CTCQ8Am4DigAfgC8HMzm2dms4C7gKuBeuCfgJ+Y2TQAMzsF+BzwfmAusAC4vohlFxEpa8GURcLHfPOUc26vc+4659wG51zMOXcv8AZwBNACtDvnfuvi7gP2Agu9088HbnPOrXHO7QK+CqwoVtlFRMpdIDDOE+FmNh04AFgDrALWmtlpZhb0mqZ6gRe8ww8CViedvhqYbmZNaa57sZmtMrNVra2FGREpIlJuKoLx1/mCqXUAHDl/SkHuEyrIVYdhZmHgx8Adzrl13raVwE+AKqAP+Ihzbq93Sh3QkXQJ//tJwI7kazvnbgZuBli+fHlhG/dERErkuS+exBOv7+DTP34WGFjNb9nsRv78ufcxs6GqIPctek3DzALAncQDw+XethOBbwLHAxXE8x63mtlh3mmdxHMdPv/7PYUvsYhI+ZlcW0FjTTjtvlmN1eNjcJ/Ff4vbgOnAWc65fm/XYcCjzrlVXr7jaeAp4ERv/xpgWdKllgFvO+cG1TJERCaSUOow8CIo9h1vApYAH3LOdSdtfxo41q9ZmNnhwLEM5DRWAheY2VIzayTe8+r2IpVZRKQspfaYKoai5TTMbC5wCfEE97akqtMlzrkfm9l1wC+9BHkr8K/Oud8BOOceMLNvAg8B1cDdwJeLVXYRkXIUGs9Bwzm3kSG6DjvnbgBuGGL/d4HvFqBoIiJjUilqGppGRERkjAoFFTRERCRLpWieUtAQERmjghOg95SIiOTJnCk1Rb+ngoaIyBilRLiIiJQ1BQ0REcmagoaIiGRNQUNERLKmoCEiIllT0BARkawpaIiISNZKsnKfiIjkx7GLpiZW7SsGBQ0RkTHs9k8elXn68AJQ0BARGcOKPSpcOQ0REcmagoaIiGRNQUNERLKmoCEiIllT0BARkawpaIiISNYUNEREJGvmnCt1GQrGzFqBjSmbG4CONIenbp8KtBWoaMPJVMZCXyfb44c7bqj92f79Z9pWqudSqmcyknPy/Vz0fyX348fq/5W5zrnmtHuccxPqC7g5m+3AqnIrY6Gvk+3xwx031P5s//6H2FaS51KqZ1LK56L/K+X3TEbyrAr1XCZi89Q9I9xeCvkqy0ivk+3xwx031P6R/P3rmYzsnHw/F/1fyf34cfd/ZVw3T+XCzFY555aXuhwymJ5L+dEzKU+Fei4TsaaRrZtLXQBJS8+l/OiZlKeCPBfVNEREJGuqaYiISNYUNEREJGsKGiNkZt8wsz+Z2Z1mFi51eQTMrMHM/mJmnWZ2cKnLI2BmR5nZE2b2qJn9VP9XyoOZTTezx83sETP7o5nNGOk1FDRGwMyWAbOcc8cC64CzS1wkiesCTgV+WeqCSMIm4H3OufcCG4DTS1sc8bQB73HOHQesBC4Y6QUUNEbmaOB33vcPAMeUsCzicc71O+daS10OGeCc2+qc6/Z+7ANipSyPxDnnos45/1lMAtaM9BoTMmiY2eVmtsrMes3s9pR9U8zsv81sr5ltNLNzk3ZPBnZ733cAU4pU5Akhh+ciBZLrMzGzucDJlNeAwDEvl+diZoeZ2VPA5cCzI733RF0jfAvwNeAUoDpl3w+IfzKaDhwG3Gdmq51za4B2oN47rgHYWYzCTiCjfS5SOKN+JmZWD9wJrHDO9RetxBPDqJ+Lc+554J1m9lHgn4F/GMmNJ2RNwzn3K+fcr4EdydvNrBY4C/iic67TOfcY8BvgPO+Qx4ETve9PAf5cnBJPDDk8FymQ0T4TMwsBPwOud879tbilHv9yeC4VSYd3EM8HjsiEDBpDOACIOOdeSdq2GjgIEhH6bTP7k7ft7qKXcGIa8rkAmNn9xJtBbjGzFcUt3oQ03DM5B3gn8EUze9jMPlbsAk5Qwz2Xw7webQ8BVwLfGukNJmrzVCZ1DOQsfB3EE0YAOOf+qaglEsjuufxNUUskQz4T59ydxJumpLiGey5/Ad6byw1U0xisk4Gcha8e2FOCssgAPZfyo2dSngr+XBQ0BnsFCJnZoqRtyxhFtzTJKz2X8qNnUp4K/lwmZNAws5CZVQFBIGhmVWYWcs7tBX4FfMXMas3sGOKDklTNLgI9l/KjZ1KeSvpcCrGyU7l/AdcBLuXrOm/fFODXwF7gTeDcUpd3onzpuZTfl55JeX6V8rloanQREcnahGyeEhGR0VHQEBGRrCloiIhI1hQ0REQkawoaIiKSNQUNERHJmoKGiIhkTUFDRESypqAhIiJZU9AQEZGsKWiIiEjWFDRERCRrChoiIpI1BQ0REcmagoaIiGRNQUNERLKmoCEiIllT0BApATO73MzWlbocIiOloCFSGlOBxaUuhMhIaY1wERHJmmoaIiKSNQUNERHJmoKGiIhkTUFDRESypqAhIiJZU9AQEZGsKWiIiEjWFDRERCRr/x8MN5UWGfS8PAAAAABJRU5ErkJggg==\n",
      "text/plain": [
       "<Figure size 432x288 with 1 Axes>"
      ]
     },
     "metadata": {
      "needs_background": "light"
     },
     "output_type": "display_data"
    }
   ],
   "source": [
    "fig, ax = plt.subplots(1, 1, figsize=(6, 4))\n",
    "\n",
    "ax.semilogx(energy_evolution, label=\"Energy\")\n",
    "ax.set_xlabel(\".\")\n",
    "ax.set_ylabel(\".\")\n",
    "ax.legend()\n",
    "plt.show()"
   ]
  },
  {
   "cell_type": "markdown",
   "metadata": {},
   "source": [
    "### Exercise 4.6\n",
    "Can you distinguish two qualitatively different periods? What do they correspond to?"
   ]
  },
  {
   "cell_type": "markdown",
   "metadata": {},
   "source": [
    "*Your answer here*"
   ]
  },
  {
   "cell_type": "markdown",
   "metadata": {},
   "source": [
    "# Efficient Metropolis\n",
    "Our implementation of the Ising model was not very efficient. To do this exercice, we will use part of the code from Sethna's book, which is much more efficient and can be found here:\n",
    "\n",
    "[Sethan's book computer exercices](http://pages.physics.cornell.edu/~myers/teaching/ComputationalMethods/ComputerExercises/Ising/Ising.html)\n",
    "\n",
    "To import code from an external file, we need to add its directory to the PATH\n",
    "\n"
   ]
  },
  {
   "cell_type": "code",
   "execution_count": null,
   "metadata": {},
   "outputs": [],
   "source": [
    "import sys\n",
    "sys.path.append(\"../code/\")\n",
    "from itotal_energyng_sethna import IsingModel"
   ]
  },
  {
   "cell_type": "markdown",
   "metadata": {},
   "source": [
    "Their implementation is based on a `Class`, which means we need to instantiate the model. For instance:"
   ]
  },
  {
   "cell_type": "code",
   "execution_count": null,
   "metadata": {},
   "outputs": [],
   "source": [
    "# create an instance of IsingModel\n",
    "ising = IsingModel(N=100)"
   ]
  },
  {
   "cell_type": "code",
   "execution_count": null,
   "metadata": {},
   "outputs": [],
   "source": [
    "# the state of the system is stored in .lattice\n",
    "ising.lattice"
   ]
  },
  {
   "cell_type": "code",
   "execution_count": null,
   "metadata": {},
   "outputs": [],
   "source": [
    "mpl.rcParams['axes.spines.right'] = True\n",
    "mpl.rcParams['axes.spines.top'] = True\n",
    "plt.imshow(ising.lattice)"
   ]
  },
  {
   "cell_type": "markdown",
   "metadata": {},
   "source": [
    "Notice that this implementation uses 0, 1 spins instead of -1, 1 as we are used to! To run the simulation, we call the `.SweepMetropolis()` method. If you go to the source file at `SethnasBookCode/Ising.py`, you can inspect all the code. You will notice that all `.Sweep...()` methods perform $N^2$ updates per time-step. This is useful because time-scales become independent of system size."
   ]
  },
  {
   "cell_type": "code",
   "execution_count": null,
   "metadata": {},
   "outputs": [],
   "source": [
    "ising.SweepMetropolis(nTimes=100)"
   ]
  },
  {
   "cell_type": "code",
   "execution_count": null,
   "metadata": {},
   "outputs": [],
   "source": [
    "plt.imshow(ising.lattice)"
   ]
  },
  {
   "cell_type": "markdown",
   "metadata": {},
   "source": [
    "The cell bellow will display 3 systems side-by-side, running at different temperatures. All parameters are set at the top. Try changing some values and see what happens."
   ]
  },
  {
   "cell_type": "code",
   "execution_count": null,
   "metadata": {},
   "outputs": [],
   "source": [
    "#################\n",
    "# set parameters\n",
    "system_size = 100\n",
    "H = 0.0\n",
    "T_below = 1.5\n",
    "T_critical = 2.269185314213022\n",
    "T_above = 3.5\n",
    "n_sweeps = 100\n",
    "###############\n",
    "\n",
    "# create three instances of IsingModel\n",
    "ising_below = IsingModel(N=system_size, T=T_below, H=H)\n",
    "ising_critical = IsingModel(N=system_size, T=T_critical, H=H)\n",
    "ising_above = IsingModel(N=system_size, T=T_above, H=H)\n",
    "\n",
    "# give them names\n",
    "isings = [ising_below, ising_critical, ising_above]\n",
    "labels = [\"below $T_c$\", \"at $T_c$\", \"above $T_c$\"]"
   ]
  },
  {
   "cell_type": "code",
   "execution_count": null,
   "metadata": {},
   "outputs": [],
   "source": [
    "fig, axx = plt.subplots(1, 3, figsize=(17,4))\n",
    "heatmap = {}\n",
    "for ax, ising, label in zip(axx, isings, labels):\n",
    "    heatmap[label] = ax.imshow(ising.lattice)\n",
    "    ax.set_title(label, fontsize=16)\n",
    "\n",
    "for _ in range(n_sweeps):\n",
    "    for ax, ising, label in zip(axx, isings, labels):\n",
    "        ising.SweepMetropolis(nTimes=1)\n",
    "        heatmap[label].set_data(ising.lattice)\n",
    "    display.display(plt.gcf())\n",
    "    display.clear_output(wait=True)"
   ]
  },
  {
   "cell_type": "markdown",
   "metadata": {},
   "source": [
    "### Exercice 4.7\n",
    "How much faster is Sethna's implementation with respect to ours? Use the cell magic `%%timeit` to measure how long a command takes to execute.\n",
    "\n",
    "To do a fair comparison, remember to take into account what \"one update\" means for each case."
   ]
  },
  {
   "cell_type": "code",
   "execution_count": null,
   "metadata": {},
   "outputs": [],
   "source": [
    "%%timeit\n",
    "# your Ising implementation running for some number of updates\n",
    "..."
   ]
  },
  {
   "cell_type": "code",
   "execution_count": null,
   "metadata": {},
   "outputs": [],
   "source": [
    "%%timeit\n",
    "# Sethan's implementation running for some **equivalent** number of updates\n",
    "..."
   ]
  },
  {
   "cell_type": "markdown",
   "metadata": {},
   "source": [
    "*Your answer here*"
   ]
  },
  {
   "cell_type": "markdown",
   "metadata": {},
   "source": [
    "## Magnetization\n",
    "We will now compute the magnetization $M$ as a function of the temperature $T$. To speed up simulations even more, we will use the Wolff algorithm, which Sethna's code already implements in the `.SweepWolff()` method."
   ]
  },
  {
   "cell_type": "markdown",
   "metadata": {},
   "source": [
    "### Exercise 4.8\n",
    "For a system of size $N=100$, approximately how many sweeps of the Wolff algorithm are necessary in practice to be in equilibrium? Try starting with smaller values of $N$, and increase gradually. "
   ]
  },
  {
   "cell_type": "code",
   "execution_count": null,
   "metadata": {},
   "outputs": [],
   "source": [
    "# set system size, temperature\n",
    "...\n",
    "# run some Wolff sweeps, check if equilibrium\n",
    "...\n"
   ]
  },
  {
   "cell_type": "markdown",
   "metadata": {},
   "source": [
    "*Your answer here*"
   ]
  },
  {
   "cell_type": "markdown",
   "metadata": {},
   "source": [
    "### Exercise 4.9\n",
    "Write a function that computes the magnetization of a 2D Ising system after certain equilibration period."
   ]
  },
  {
   "cell_type": "code",
   "execution_count": null,
   "metadata": {},
   "outputs": [],
   "source": [
    "def calculate_magnetization(system_size=None, temperature=None, equilibration_time=None):\n",
    "    \"\"\"\n",
    "    Calculate the magnetization of a 2D Ising model.\n",
    "    \n",
    "    Parameters\n",
    "    ----------\n",
    "    system_size : int\n",
    "        The lattice size.\n",
    "    temperature : float\n",
    "        The simulation temperature.\n",
    "    equilibration_time : int\n",
    "        Number of Wolff sweeps before measuring M.\n",
    "        \n",
    "    \"\"\"\n",
    "    # instantiate model\n",
    "    ...\n",
    "    # equilibrate\n",
    "    ...\n",
    "    # compute magnetization\n",
    "    ...\n",
    "    return m\n"
   ]
  },
  {
   "cell_type": "markdown",
   "metadata": {},
   "source": [
    "### Exercise 4.10\n",
    "+ Compute the magnetization for a system of size $N=64$, for diverent values of $T\\in[1.5, 3.5]$.\n",
    "+ Remember to choose wisely the equilibration time!\n",
    "+ Plot $|M|$ as a function of $T$, and mark the critical temperature in your plot using the `plt.axvline()` function."
   ]
  },
  {
   "cell_type": "code",
   "execution_count": null,
   "metadata": {},
   "outputs": [],
   "source": [
    "# define range of temperatures\n",
    "temperatures = np.linspace(..., ..., num=...)\n",
    "# system size\n",
    "system_size = ...\n",
    "# equilibration time\n",
    "equilibration_time = ...\n",
    "\n",
    "# loop over temperatures, compute magnetizations\n",
    "magnetizations = []\n",
    "for temperature in temperatures:\n",
    "    magnetization = ...\n",
    "    magnetizations.append(magnetization)"
   ]
  },
  {
   "cell_type": "code",
   "execution_count": null,
   "metadata": {},
   "outputs": [],
   "source": [
    "# define critical temperature\n",
    "T_c = ...\n",
    "\n",
    "mpl.rcParams['axes.spines.right'] = False\n",
    "mpl.rcParams['axes.spines.top'] = False\n",
    "\n",
    "fig, ax = plt.subplots(1, 1, figsize=(5,4))\n",
    "ax.scatter(\n",
    "    ..., ...,\n",
    "    # style keywords\n",
    "    edgecolors=..., color=..., s=...\n",
    ")\n",
    "ax.axvline(\n",
    "    ...,\n",
    "    # style keywords\n",
    "    c=..., lw=..., ls=...\n",
    ")\n",
    "ax.set_title(...)\n",
    "ax.set_xlabel(...)\n",
    "ax.set_ylabel(...)"
   ]
  },
  {
   "cell_type": "markdown",
   "metadata": {},
   "source": [
    "## Susceptibility and Specific Heat\n"
   ]
  },
  {
   "cell_type": "markdown",
   "metadata": {},
   "source": [
    "In this exercice, we will compute the susceptibility $\\chi$ and the specific heat $C$. Using formula (6.13) in the book, we have that\n",
    "$$\n",
    "C = \\frac{1}{T^2} \\left\\langle (E - \\langle E \\rangle)^2 \\right\\rangle.\n",
    "$$\n",
    "Remember that this is only valid in **equilibrium**, which means that we can only measure energy fluctuations **after a transient** equilibration time."
   ]
  },
  {
   "cell_type": "markdown",
   "metadata": {},
   "source": [
    "### Exercise 4.11\n",
    "Find a convenient formula to measure the susceptibility $\\chi$ in a simulation."
   ]
  },
  {
   "cell_type": "markdown",
   "metadata": {},
   "source": [
    "*Your answer here*"
   ]
  },
  {
   "cell_type": "markdown",
   "metadata": {},
   "source": [
    "### Exercise 4.12\n",
    "Write a function that computes the energy of an Ising configuration.\n",
    "\n",
    "As usually, you can use the **template** below if it helps you, or if you prefer you can also write **your own function** from scratch."
   ]
  },
  {
   "cell_type": "code",
   "execution_count": null,
   "metadata": {},
   "outputs": [],
   "source": [
    "def compute_energy(ising):\n",
    "    \"\"\"Compute the energy of an ising object.\"\"\"\n",
    "    config = ising.lattice*2-1\n",
    "    N = len(config)\n",
    "    \n",
    "    edges = ...\n",
    "    E = 0\n",
    "    for i1, j1, i2, j2 in edges:\n",
    "        E -= ...\n",
    "    return E / N**2"
   ]
  },
  {
   "cell_type": "markdown",
   "metadata": {},
   "source": [
    "### Exercise 4.13\n",
    "Write a function that computes the susceptibility and the specific heat of a 2D Ising system. You might use the Wolff algorithm to speed up your simulations."
   ]
  },
  {
   "cell_type": "code",
   "execution_count": null,
   "metadata": {},
   "outputs": [],
   "source": [
    "def calculate_susceptibility_specific_heat(system_size=None, temperature=None, equilibration_time=None, n_samples=None):\n",
    "    \"\"\"\n",
    "    Simulate a 2D Ising model and measure its\n",
    "    specific heat and susceptibility at equilibrium.\n",
    "    \n",
    "    Parameters\n",
    "    ----------\n",
    "    system_size : int\n",
    "        The lattice side length.\n",
    "    temperature :  float.\n",
    "        The simulation temeperature.\n",
    "    equilibration_time : int\n",
    "        A transient period to allow for thermalization.\n",
    "    n_samples : int\n",
    "        The number of samples taken to compute fluctuations.\n",
    "\n",
    "    \"\"\"\n",
    "    # initiate model\n",
    "    ...\n",
    "    # thermalize\n",
    "    ...\n",
    "    \n",
    "    # create empty lists for magnetizations, energies, and their squares\n",
    "    ms = []\n",
    "    m2s = []\n",
    "    es = []\n",
    "    e2s = []\n",
    "    \n",
    "    # loop over n_samples \n",
    "    for _ in range(n_samples):\n",
    "        # change from 0,1 to -1,1 notation\n",
    "        ...\n",
    "        # get magnetization\n",
    "        ...\n",
    "        ms.append(m)\n",
    "        m2s.append(m**2)\n",
    "        # get energy\n",
    "        ...\n",
    "        es.append(e)\n",
    "        e2s.append(e**2)\n",
    "        # update system\n",
    "        ...\n",
    "    \n",
    "    # compute susceptibility and specific heat\n",
    "    susceptibility = ...\n",
    "    specific_heat = ...\n",
    "    \n",
    "    return susceptibility, specific_heat\n",
    "\n"
   ]
  },
  {
   "cell_type": "markdown",
   "metadata": {},
   "source": [
    "### Exercise 4.14\n",
    "+ Compute $C$ and $\\chi$ at different temperatures, for a small system of size $N<50$. You will need to find what are the right equilibration times. A good range of temperatures is $T \\in [1.5, 3.5]$.\n",
    "+ Make two plots, showing $\\chi$ and $C$ as a function of $T$. Mark the critical temperature $T_c$ with a vertical line using `ax.axvline(...)`."
   ]
  },
  {
   "cell_type": "code",
   "execution_count": null,
   "metadata": {},
   "outputs": [],
   "source": [
    "# define range of temperatures: 50 points from 1.5 to 4.\n",
    "temperatures = ...\n",
    "# system size\n",
    "system_size = ...\n",
    "# equilibration time\n",
    "equilibration_time = ...\n",
    "# n_samples\n",
    "n_samples = ...\n",
    "\n",
    "# loop over temperatures, compute susceptibility and specific_heat\n",
    "...\n",
    "...\n",
    "...\n"
   ]
  },
  {
   "cell_type": "code",
   "execution_count": null,
   "metadata": {},
   "outputs": [],
   "source": [
    "fig, (ax1, ax2) = plt.subplots(1, 2, figsize=(10,3))\n",
    "\n",
    "ax=ax1\n",
    "ax.plot(...)\n",
    "ax.axvline(...)\n",
    "ax.set_ylabel(...)\n",
    "ax.set_xlabel(...)\n",
    "ax.set_title(...)\n",
    "\n",
    "ax=ax2\n",
    "ax.plot(...)\n",
    "ax.axvline(...)\n",
    "ax.set_ylabel(...)\n",
    "ax.set_xlabel(...)\n",
    "ax.set_title(...)\n"
   ]
  },
  {
   "cell_type": "markdown",
   "metadata": {},
   "source": [
    "### Exercise 4.15\n",
    "Discuss whether or not your results proof the existence of a phase transition."
   ]
  },
  {
   "cell_type": "markdown",
   "metadata": {},
   "source": [
    "*Your answer here*"
   ]
  },
  {
   "attachments": {
    "image.png": {
     "image/png": "iVBORw0KGgoAAAANSUhEUgAAA+oAAAHyCAYAAAB8hDQNAAAgAElEQVR4Aey9CXgU15X2n8lMZv0y8595Jt+M55vMOBnHHtvJJF7GxiaAl3gb7xvGYI/tgIE4dgADxgSb3QsOGLzFK2Cz7/u+SYA2bGwQICEh0L7vQmLxxvk/7xVXdBfVUtXtaum2eOt5Sq3urrp1+62qe+7vnnNPfUe4UAEqQAWoABWgAlSAClABKkAFqAAVoALWKPAda2rCilABKkAFqAAVoAJUgApQASpABagAFaACQlDnRUAFqAAVoAJUgApQASpABagAFaACVMAiBQjqFp0MVoUKUAEqQAWoABWgAlSAClABKkAFqABBndcAFaACVIAKUAEqQAWoABWgAlSAClABixQgqFt0MlgVKkAFqAAVoAJUgApQASpABagAFaACBHVeA1SAClABKkAFqAAVoAJUgApQASpABSxSgKBu0clgVagAFaACVIAKUAEqQAWoABWgAlSAChDUeQ1QASpABagAFaACVIAKUAEqQAWoABWwSAGCukUng1WhAlSAClABKkAFqAAVoAJUgApQASpAUOc1QAWoABWgAlSAClABKkAFqAAVoAJUwCIFCOoWnQxWhQpQASpABagAFaACVIAKUAEqQAWoAEGd1wAVoAJUgApQASpABagAFaACVIAKUAGLFCCoW3QyWBUqQAWoABWgAlSAClABKkAFqAAVoAIEdV4DVIAKUAEqQAWoABWgAlSAClABKkAFLFKAoG7RyWBVqAAVoAJUgApQASpABagAFaACVIAKENR5DVABKkAFqAAVoAJUgApQASpABagAFbBIAYK6RSeDVaECVIAKUAEqQAWoABWgAlSAClABKkBQ5zVABagAFaACVIAKUAEqQAWoABWgAlTAIgUI6hadDFaFClABKkAFqAAVoAJUgApQASpABagAQZ3XQKsKHD9+XGbMmCEzZ84U/M/l3FLg2LFjMn36dPnkk0/kxIkT59aPt+DXQv8PP/xQZs2aJSdPnrSgRqwCFaACVIAKUAEqQAWoQHsoQFBvD5Xj+BjvvfeefOc731Hr+++/H8e/5NytOgZY3n77bfnVr34l//zP/yw/+MEP5Morr5RBgwbJp59+2qow2E+ffwA7l/ZVYNq0aS36f/zxx+17cB6NClABKhBDBbZt2yYPP/yw61pVVRXDI7PoaBU4XlIoKff2aHVtPJwV7WG4PxU45xXotKBeXl4umzZtkldffVWGDh0qH330kezZs6fNE56YmCjLli1rWdevXy979+6VyspK+fbbb9vcP9oNYJxCj9/a/9XV1dEers39AQca1OBV5RJfCuB6+o//+I+Wc/jnf/7n8ld/9Vct73FftLYAzvX5nzt3bmub8rsYKIDBMa3/woULY3AEFkkFqAAV6BgFEKmn2zfna2FhYcdUikf1pEDTkUOy7p/+pNW1bt8XnsriRlSACkRWoNOB+tdffy1DhgyJ2Pj369dPamtrIyrSo0ePiPuef/75Kgw8liGoycnJEY/vNGRpaWkRf0dQX3z11Vdq4GD58uWC/7nElwL33Xefup7gQU9KSlLh0xhwOnz4sDqvTU1Nrf4gnPMlS5bIihUrBPcWF+8KZGZmyuLFiyU1NdX7To4tv/zyS1XGqlWr5JtvvnF8y7dUgApQgfhVAH2pmpqalvXgwYMt/R+Cut3ntbOB+rHiAildt1yOTH9LDowdJkc+fMPuE8DanTMKdCpQR4N/8803q4b+hz/8oYwZM0bQwUV41UsvvSTwJgJ2H3jggYgnWIP6ddddJ+PGjZOxY8fKb37zG8F7Dcr/8i//0mbIcMQDtPEFjNPkyZNb1mHDhrUc97nnnmv5HNuUlJS0URq/PpcVQCfoz/7sz9T1g8gMLu2rQM+ePZX2aEe4UAEqQAWoQOsKlJWVtfR3COqta9XR35765hs5WV0Ztq4777thHvZ48qhnT50YVvfPBz7c0RLz+FRAKdCpQP3o0aNqrtM111wjFRUVZ53i7du3txgBhMW7LRrUJ06ceNbXu3btkquuukqV8f3vf1/y8/PP2iboD0JHmA8dOhR08XFbHhKbrV69Wo3Ex+2PiHHFs7OzW673+vr6GB/NX/GYN49BtLq6On87xtHWBPU4OlmsKhWgAh2uQGcG9XOhz7L+XwjqHX4TsQKdToFOBeo4O6dOnWo1O7IG7UhertZAHeXDaw+POrzrjz/+eMwviGhAHaGyGExAOP3OnTultLRU6dNWpRHuDKPiXBGG29aCY2I/Z5h0UVGRJCQkyJEjRzyH8KIshGhv3LhRMD8X89lefvlleeSRR+Sv//qv1TnAZ7FeAJWff/650tFvghtosXv3bvnss88EGbzbWiLpB++C1s9rroSsrKwWUMcgltclmvMfegxcA27nr0+fPi3z5GfPnh26i7o2oFlr00v0demmAz7T3+PVOV0DuSZwP0BLaIr2wm3B53l5eYLpJZs3bxaEsXs5f6HHvv/++5X+L7zwQlidsA3Oc6QlKP1RPq5dXHu4BvF/W0uk66+goEBplpub2y65OtqqJ7+nAp1VAbQPsDdI9OmlzYl0zxYXF7fYjNbaG6eOaENhOzBVqr0HUqMBdbTZ6O/oNjsjI8OTfm3ZDNj8lJQUFZmJdjCSzYCO0NnN5vnps6AM9Ps6Qn/8huNlJVKRsFFy/jhZMic+LwXzZkh12k755kTb9sMvqH/71VfSlHc4bJUQmwyvvfN7fBZpqd+/RwoXzZLs1ydIxvjnJO+T96Vyxxb1m9z2+aqutqX8/WOGhHnUdz16R8t3ug7fnGz9yTcnK8ulImGT5Lw9SbJeGy3FKxfJ0exMt0M3f3bq1FnHwLFOheTDQpk4B1mvjZH8udOl9otdkcvjN51SgU4H6m2dJUACIPvRRx913bQtUMdO7777bgsAoeMfy8UU1AGwF1xwQUs9ddj+X/7lX0r//v1bjQZ47LHHztoP+99www1t/lR4SbHt008/rbaFVpiGoI+P1y5duihjFqkwDAgg2/jf/M3fhO2Hff/kT/5E/uIv/kL+7u/+TpUTy0z0mFuMgZ3vfve7YfXA75k3b16rwIIBieuvvz5sX5TTtWtXgac70oIQdfzOwYMHqw4BdPjXf/3XsONfe+21AmBqazEF9d69e4cdT5+7W265pa1Dqu9x/t58882WwRS9v/P8IfLFmcxu6dKl6tg/+tGPIh4L1zDKQuJH54IObujx7rzzTrVJY2OjmsLiPJfOSAMMEAwcOFBlxw8tB///6Z/+qWAqCgbrIi1///d/H3Z8Zxn6faSIHpSrPfF6W/16++23RzrsWZ8j+qZ79+5nXX9o39CRjLRgTj2Oh9+JDinOox6Y1PXo1q1bq+1HpLL5ORWgApEVAGTiyRxoZ/S9hvYK7ST6AZGWNWvWqO2feuoptQlsotPmXn311ZKTkxOpCPU5Bgh+97vfndVu/+IXv5D09PRW9w3qSxNQx8Dmb3/7WznvvPNadAvVD7a0tQH2ffv2he2n7RwGSZ555pmwNhTlupUVRJ8FA6noN2knhP4Nl19+uRw4cCAoiSOW83XjUUkf8ZswWA1NFrft6n+XkjVL4Q2LWIZfUHeb5/7N8TMOjRPlZWfV52TV2dGyDZn7JK3nTWdt21L/874rewY/IThe6JLzzh8i7+OSKK8p/0jo7i3/f/v113Lw1RcilvXFbx+VL+vO7jdg8KOljiHHw+/BUrjwY9l4/l+EbbOty/ktx+U/54YC5xyoA5TQAJp61HFZwDusG9FYz/01AfXXXntN1Q9GHvPxMc8e8/UfeuihFgMO+IvkIZ8yZYrccccdLetFF12kyvMD6jB2GAxBHQB+eMzU888/32KEABFuC+AAdYa+eIzYH/7wB1m5cqVK4od9AGlIbBfrZerUqS0GGr9/wIABqjMASNbnHhDttmCKhR5k+OlPf6qSGyLB4aWXXqr2Rdb1LVu2uO2qEryh/P/5n/9RukE/DC5BvxEjRrR4ojEI4LZALxwba2h2dxh//Tle4e2NtOD6CT3/F154oaq37sBE2g+f4/zde++9avt/+qd/UjkV9PnDvYc6YTAn0hItqGOABHr16tVL1eE///M/1XWODjB0xfWDji/+x6CPm1ceifcwteXBBx+U4cOHCzrASCSpzzvyVUTyUGEQDMfGikfhYR/UQX+mX+HtirS88sorYfrrATevoL5169aW++y//uu/5Nlnn1UDP6gH6oNrwW2QA/XRoI4BDrQXuP5wH+P6Q44MDJKhDOQC4UIFqEAwCiDK52//9m/VvXXJJZeo+xX37c9+9jP1GdqtDRs2uB5MgzruSQyy457FI8+cNhftbyRvMAAZMI97+x//8R8FSXdhr2Fz8dn3vvc9Wbdunevxg/zQBNRxfPw22DX0HTDICHD/8Y9/rOqO+sNuR2qzMUACm6EHqDFIjGiw2267Te2PNi/U7jujtILosyDa8YorrlDHQ7/nySefVPrr/iryKyGyMFZLY06WAADdoDH0s40/+ks5Vhh5ymdHgPqxonzZ8rN/bLPu+B27+4Xnp/ID6uv/358KIgCcCwY4Uu7t3ubxt172z+IcZIgE6ogEKN+yTpxz/vEb0nrf6qwC33dyBc4pUEfjq0crAQRuixePOvYDhMAAvPjii27FBPaZX1DHqDiMKurm9hthrObPn6/Ceb1WEl41lOcH1LE9YAceztBFdyrwvZtnD4+Aw3fwTDqjFQBV+lFjM2bMCC020P9DM+8j1N4Jc/Au4JF/bgMdMOIa6gD3oVMA8N2vf/1r9fv+7d/+7aywbPwI7VGHBui4OR8piOzr+A4rOhjOBY9TQxQAVj0wgG0xKq8/xyt+l9fl9ddfV8fzAuo4LzgeOnvOxwfi2tPaRHrUX7Sgrn8TvBOoB+4FdFjx/+9//3sVgo5M93gPfd0WPNrRrVOHCAt9bwFo21q0ZzzSoGBb++vv9cCbF1BHRID2gMM7E/o7cL0iBBO/HfAf+p0+lgZ1bIOoFacnTZ8ffI8BSy5UgApEpwDuQz0Y17dv3zC7APsBO4L7Dfe125SgUJsKWMVUl9AFgI39sUbKc4Pj4vsbb7zxrIiht956S30Hm+Vm80KPFe3/pqCOnERu7Rm00EmE23q8KPaHBhjo0L8Zg5OwJfjd+A4DJs4liD6LjmKEjXU+lUjbLww8OAcJnHUxeY8w67NA87zvSup91ykvdPIdXQSQCkiEh7e1pSNA3RmyDiDOnjJeCubPVF7utAdvVHXffMnfyYmKsrDqIzQ9rc9tak245kdhsA3419/hFR55tyVr8riw/aBX+db1Urlzq3z+m95h3yFiIXQB+KcP7y+7n3wwbLvP+t4vCddeEPaZHjDZ9/vmaNXQcvh/51bgnAJ1hNmiscWIJUJh3RavoK5HP5ERPpaLX1Dfv3+/+o34nUF1pE1AHUDjhHToBKMHQ4j6IRu/c4EXE98hCsBtGT16tPoeXtFYLBgd16PnrXmdIx1bG20MCLnNL0SotfZKusGqBnV0LpyQjmNqyIRGO3bsiFQN9blp6LuzUD+grr3pbskYUS5gGXWPFFGhQdA09F3XXYM6jgUtMbCiF60hIgX8Lvr6HDlyZJu7dgSo6zYOgxAYtHMu6ATqwQYM2DkXDeq4RhES6lwaGhrU+YOuGNDiQgWoQHQK4D7E/QQIdMslgvZKR0c5pwrhyBrUcV8jF4VzQTugba5bJBfmciO6CE8IQV4Ot0V7dmM5QI7jmoK6W531Z3q6Y6gN0N+FvmpQ1zYDYe960aCOwQrnom2CaZ8Fg6HQH+cPc+CdC/okOtph1qxZzq+jfo853RoC8QrYrkzcHFZuU36uemxZ2IcubzoC1JNuuyqs/rkzzo50RCh5dWrr/SWTrO/Hy4rDQtM3XfR/5Kv6MwlyMQiCKQMt+p73XTl66OxpLI2Hs85sExICj/32jx4sB8Y+2/L94fded1GeH3VmBc4ZUIcBhJcPjXBrCci8groOpUVnPJaLX1AHHGqjjEEEN1j0W18TUMd8sUiLjmpAB8O56DBrN4jFtgjZxTmEYQvitzmPHzpfDcl8/C4IGUf9EHoXaXniiSfUNm7XjgZ1tw6BLk97CCKFQurtOgLUAdj4/ZG8F+go6vPn5h2KBagj+iUUWvE/QiQR2ul3AaCj/ggtbWvpCFDXj6fEVItIiw7xhHfduWhQR+RKpEXPoUWSPS5UgApEp4BOOolw50iL9qrfc889Z22iQR3tXKQFnna0W27TjjAtDt/BdkVa/vjHP6ptMLUnlkssQF3/vrYG3kNBHRF9of0LRDbosHrn74+2zzJq1CilLQa5Iy3aw6/zEETazuTz1Puvb4FAgOHewb82KUbt0xGgvuvR28Pqv/W//q/kz/7QdU54az/MBNTzZn0Qduz05waedYj0YU+GbYOBEecSCdQPvz9VbZr78R9byihZy0ftOvXr7O/PGVDXIcfwxLqFSOkT7RXUkVAJxi3Wmd/9gjp+x4QJE1TdUD+EryKZCjrVbmCkf3drr0GDOiIaUDc3UNej35E8shrkMOgSi0WDMuoHr6zfRRtthKtFWvDbUD7C0Z2LPn5roI5ziv1tBHXMa0bdXn31VedPU++RvR/fRxrI0ec3SI/6+PHjXevS1ocY6EDYKKYT4PdguoCes4m55m0tHQHquG6gLzrWkZbWolK8gLoeaCOoR1KYn1MB7wroeeiY4hJp0dNfMJ3JuXgBdZ0vww3U0ZahzQDQRlowPxrbID9HLJdoQR2h/Wiz4fnXbTbqjLrfd999rVY9FNTxpA6vS7R9Fp2TB/22SMvatWvVb4CDKOhl839+vwUCAeoIBzddOgLUnbCsvdeoC8LeAe3OueFuv88E1A+MHRqm3RdP9ZGi5fPDVoTM6zrhFUnnnIsbqCd0/YkgSR2W0vUrJO2hm9WKfAJczi0FzglQR2IwNNToxGL+aWuLV1DXiZmQuCSWiwmoI1Rqzpw5LfOB8duxooMNL7tbeFVrvyFoUNfz+91AHdEOqCtADmG2zgVzuPA95tTFYtEdota8E5GOC0OvvY1uYcV6Px2ejHBG5+IF1HVmcRtBXf82JCt0Ti/BdYk5kDh/8BC5LbEA9S+++MLtUBE/A4BqIEdd3VYbQR3hmYg0QX2hY6RFe8cw4ONcvIC69s4R1J3q8T0V8KcA2kQdIRUpigwl6ilV2Bb7hC5eQF1nRHcDdT1QgNB3hN+7rbqOmCcfy8UU1DGNDglW3dpq/ZkfUMcj3rwu0fZZdF/Si/7I8RLk4pZVvXqX+ZSmjgB1hJfvGfR4GAyHgjH+3/Dvfy6H3nxFWnu0mwmo73rkf1o9rrMeeL97wENnnUI3UC9eveSs7fjBualApwd1PEYLDTUgFdDb1uIF1EPDywGxsVxMQF3XB0nQME8cHlxkf9YGC0bXTye7PUEddUYCF9QV4bcff/yxIIkXOiN33323+hzedLdHpOjfHc0rvKY4tkmHxCuof/jhh+oYAB7nEu+gDg2QrRgaIroAHUycv9WrV6vQSnyOQZBIjziLBai7zbV26q7f477QU0cQiorpD0hqqBMK6jDFeAb1d955p+U+0r9bvxLUtRJ8pQKxV8ArqMMOou1E7oigQR1PJkHZSFYG2G1txbSZWC4moJ6QkNAyQI7ISUA2ksvpNhvJPPH7/IC6W36dSL872j6LfqoO+jutaY/vIj1WOFLd2vr8RHnpWaAZb6Cuf2P5lrUq+ZtzsCAUlvF89UiLCah/+vg9Z+kXejy3/5Fgzrm4gXroY+qc2/P9uaVApwZ1PMYLnW4Yt7YSb+nT7gXU0ZlHw4/VLeGXLiuI12hA3Xl81FUnwUOyqdA5WM5tQ9+3J6jjuIA9XU+tM15xLpEdFY8yidWiQQWeSZOpAjp7b2uh73pqArKvO5d4B3X8Hpw/PHs39Nzp84eOFDpjkZaOBnWdlR7PE3ZbbAZ11Fc/P7m10Hc8qQLnA9N3nIu+/lubo06PulM1vqcC5gpoUG4t9H3SpEnqnsWAu3OJ1qOup+gg0WdHLyagrkE3UpRWrEEdmkXTZ8EAAtpjTEnqiGXThX8TBpsI3TZdnJBct6/1aLagnqMeWt+T1ZVStHSufPq/d4X9LkDzhn/7Xks4eeg++N8E1DMnPh92jL1D+kpTQV6rK+rnXFxB/YT/qZfOcvm+cyjQaUEdIV4AO3jSU1JSPJ+ttkAdDTKes4yGFaH0etTW8wF8bhgkqOPQyDCKumP1miytvUEd2VlRP0ADMtJikCUzMzMsIZhPGT1vjpF0rY/JIAyef479W0v6oh+RhbltzqUzgPqgQYOUBvgtOH94rjzOn5eBj44E9dBOYqSBPdtBXU8tQF6KSIvumGPQxLkQ1J2K8D0ViK0C+kkZeHZ5pEU/Pg0Zxp1LtKCO+diwWbfe2vHPZw5tgwsLC50/9az3iMzS9totoz12aA9Qj6bPgqSm+A2tJfM764cH+IHz0Wx4NJjbghDztpbNl/5/YeBavSup1V3cQD00a/rxksKw8gDbrvPNHdNB9EEx6OD0agOK3ZYjH74Rtm3K3V3dNgv7DI+ACy0/sfvFrYbXh+0c8oagHiIG/z1LgU4J6vCkY64wvMZ+56e2BeoffPBBi2GIlNn6LJWj+MAE1J2hcaGHP3LkSEv9vQ5gtCeoA+b048ta87yG/qYg/8dzSvUIPRKj+V30HG0MELlFLODxWHq+38qVK88qPt5BHQn49O8zmZ6gkxZhkM0tRwEeP4Tv0LHBEwAiLaGPZ/Ma+l5SUtJybyxa5J5QB1mPcWwvoe/I/I9tTa6j0N+l8yZ4eY66nn/+/e9/3zUZIsL4dR6F9evXhx5G/U9QP0sSfkAFYqqAnn8Ou+fW5uEzbROXLDl73mq0oI4BabRTaFdNBqeDFAf2EXXBimSebS1oz/T2yMvjtjz99NNqm1iFvkfbZ9HOAejv1Va5/U7TzwoWhMMmwBOPAMMzvrHg2eM577wmO2++XL4+1tTqYZLvujYMXJHx/JsTxwWQjyRo3371Zdj+JyvLw7bHsSsSNqptEPqd9vAtZ33vBPWGrAOS2O0iKVo8Wx0n9AD4LBSk8Tz4r5vcH82M0PnQbfE/pgGg7l/V1UrZ5jXSlH8ktHj5sqZK8Ei20P0OvjLqLFiv3LGlOYlchAEFgnqYrHzjUKDTgTo62GjwMI/5wIEDjp/b9ls3UIfXPDc3V2V410YBXtFYe9NRW7+gjvlaSE6CzKfOBcmmdPZ7GH6897K0J6gjYkE/MxbPDsX8egyOYEXSFsBZdXW1l2obb6MzrOJcYzQej2YJXTDnGo9YcyZLwzYw2pjfjn3hBQH46wWPBdMZdhEa7nb9xDuoQyvdqezSpUvY+cM8S3jXI81Ph07I2qvvsRUrVmjp1Cu83BgA0d8HDeo4iE7U59apQxZhfWxE1bS1IPMwtkeSIOeghZ/pG35AHQMUOlnjwIEDw65dDBzpR0Fh2oXbgB5Bva2zyu+pQLAKwEboKTeYgxxql2FPdATWJZdc4vrEmmhBHb8GU8rQViEM3wnIaNNhe1ubThOkIjpDvTPzult7hePq7d0GMl9//fWWNhtJ81pb0PfQ7bufOepB9Fn0IzMxtcGpP64P2JL33nuvteobfwcQTbmnWxhsAjzX/+ufyZaf/WPY5+kjIz92FhUApIZCK/5HIrdNP/lr9XnZptXh9Tx1Sjb+6C/D9tl4/l9IWu9bW/ZxlhcK6sdLi2Tr5ee17A+Pflqf22T/i4NUGSgrdH9kgY+0ILEe6hq6Pf5XIH7ed9Xnu588O6Il9+N3z9on4Zofy55nHpPPfn2fbPvvH7Z8j8eshS7ffHlSDYDAE+887o6bfqG++3xg20+YCS2T/3c+BToVqKMjqrMeI3MpGvDW1rq6urPOqAZ1ZESGYYR3VXsI0YgDFF555ZUwY3pWIVF8AAOB4+pVP5cax0ayF/05Xvfu3XvWkfB8Z21skHkbwIHkbABL/Rx5DGQgyV6kBSPQN9xwQ8uq64DfHvq525w2TDnA8SM9fgvH1CCBDobbgrp973vfa/kd+vfoV5wPhIuhExOrRYej4ZioL8ITATn68Vf4/I033nA9PELwNFBizjqACZ5YrSPKixTpYQOoo76h51l3IjE3OfRzzHV2W2bPnq3gVJ8v5yvOH66d0A5paDk6fBvXKcIBR4wY0RLlgMEPDACgTDdQz8nJUefqzjvvbLl+kIQH5w9r6PPUQ4+p/9feLZSPAS882g3h7pdddplqWxDiiGsTdcPgUWsLoBn3Kcr6h3/4B0FoK+ZR4j7GZxgQcluQxC5UZ33NwUse+vnYsWPddleP7dODXWi/MA0Dx9bl4N50aztQGEHdVVJ+SAViqgDaMp37Ae0D2onQtgK2O9JUtSBAHQOHul3FwCKmcGH6DPoPGoQxANseUW6TJ09W7SP6cqgT+iN4xBoGUZuazvbo4gkraE+xIoEp2kXYJuS5QRlIbgqbg/+RSNO55OXlKduAZ9TrctAP1DbDbUDeWUa0fZbi4mLB4CmOD/uCQQfojzro/hL6tEiSF4ul8Ui2bO9xyVmw6IRHgGxTfm7EKsDDvPGCZih37ov3btCZMf65iMdNuPYC2X7DT8O+DwX14lWLIwK98/jbupwvCKVvbcl5e1LYsZxl4H3d3t1hReARanuH9mtzP+wLIP/m5ImW/RFt4HaM0M92/OrnLdvzn3NTgU4F6mjEdUPb1is6vW6LBnW9P4wWGn80nPDuIjQrlktycrLn3xDpESKA5a5du7Z4NvVvgaEC+OBRJq0teNa83qe1V2Rhdy5BgDrKLCoqkgULFgiMNhLpYAVA6keZoF7wAsRyAXDD8w0o0zpAQxhUhGi3tgAYAYg6zBj7o7MAzVrzptoA6joHg/7NkV4xcBFpwfzC0PMHbzQ6nnpaAcqM9Ig97Ksfw6ePDcjUHgXtYXIDdR1GqPdzvrp19EJ/A7w2eG667jTr/dEGbN26VW0K7wY6rRjMaWvBdfDDDhIAACAASURBVKyjKHRZeMV1hUz4botbIr7QffX/rYXUwyuDtsx5/aHj3dojKgnqbmeEn1GB2CuAqD0MUqLPoe9x2Az0PQBykZYgQB1lY+AUg5I/+MEPWo6PegAQMdDsZc54pDr6+RweakSyOQfr4XhAjh23BdFamOqodcMrEmJu2rRJbT5r1iz1OwDtzgXh5qH7Of93c+g4y8D7aPsscDzApmiHiq4HBl3R92ntGnCrj9/PAJAHJ73o6lVGkrjPBz4sx4oL2iy2PiNdtl9/6dkAet53ZXe/B0Qc4d+Yk+6WPR1e9S/raiT9uYFhZYWCOiqD9+nPPxVxgADJ8jLGDZfjZSVt1h2Pb4PX222wAWHzeAwcBjXcFoTGh3rPQ2EbXvmcd6eEQTrKIKi7KcnPnAp0KlB3/rhz/T1CqzFajHBjTAPwanBs1w1zu7URQ+cm1gs8o5i7h9Vt3nlrx4fxxX779+8PC0NubZ/O/p0ejMA5LCiIbPgxZxwDV3ht7wXhhoBd5HFwu2/gZXGGs7dWx/r6evWoxF27drWLV0rXRV9/uP/RAeZCBaiA3QoAmAGkAEjntKv2qjk852h78/PzXadotUc9jh49qmyn13qgzc7Ozlb1dnOoYJAWc9o7YvHbZ8FgPn437GOkkP9Y/Q7AKmC0dP0KQTK2+gN7FVD6OR7mtzdk7pPilYtUBvbqlO1qrnvEMk6dkvr9e9TxyresE8xd972cOiXHy4qlKmmbYN596YaVyvtt8pizr482SO3ez1R98Btq93yq5ql7qRMGDqpTd0jhok8Ec9MRnu8cnPBSDrehAloBgrpWgq8drgBGpDGi7BaeFlo5GC6M8gP0/DwPPrQM/h+8AujU4fy9++67rRaOASR4inD+2oruaLUgfkkFqAAVoAJUoIMUYJ+lg4TnYanAOaQAQf0cOtm2/1TMvwK8YVoCPJCRFiRzw3ZYO2qEPFLdzuXP4QXAOUF+B3hDIi1JSUkt58/N8xFpP35OBagAFaACVMAWBdhnseVMsB5UoPMqQFDvvOc2Ln9Z9+7dFcQhEQwSeyH8C2G7SKSDTPbDhw9vyQqPJDNc7FEAkQ46vwHm8WNeYOj5Q/K0YcOGtURDtPasb3t+FWtCBagAFaACVMBdAfZZ3HXhp1SACgSjAEE9GB1ZSkAKIGGNzn6qvebOVyT6GjNmTIfNnQvop3bKYhD+jkEW5zkLfY+ICSQLcns8XacUhT+KClABKkAFOqUC7LN0ytPKH0UFrFGAoG7NqWBFQhVA0i08txVAjsdLYe4znueOrPJI7sbFbgUwPQHnb/To0er8jRw5Up0/ZDpv6xFpdv8y1o4KUAEqQAWoQLgC7LOE68F3VIAKBKMAQT0YHVkKFaACVIAKUAEqQAWoABWgAlSAClCBQBQgqAciIwuhAlSAClABKkAFqAAVoAJUgApQASoQjAIE9WB0ZClUgApQASpABagAFaACVIAKUAEqQAUCUYCgHoiMLIQKUAEqQAWoABWgAlSAClABKkAFqEAwChDUg9GRpVABKkAFqAAVoAJUgApQASpABagAFQhEAYJ6IDKyECpABagAFaACVIAKUAEqQAWoABWgAsEoQFAPRkeWQgWoABWgAlSAClABKkAFqAAVoAJUIBAFCOqByMhCqAAVoAJUgApQASpABagAFaACVIAKBKMAQT0YHVkKFaACVIAKUAEqQAWoABWgAlSAClCBQBQgqAciIwuhAlSAClABKkAFqAAVoAJUgApQASoQjAIE9WB0ZClUgApQASpABagAFaACVIAKUAEqQAUCUYCgHoiMLIQKUAEqQAWoABWgAlSAClABKkAFqEAwChDUg9GRpVABKkAFqAAVoAJUgApQASpABagAFQhEAYJ6IDKyECpABagAFaACVIAKUAEqQAWoABWgAsEoQFAPRkeWQgWoABWgAlSAClABKkAFqAAVoAJUIBAFCOqByMhCqAAVoAJUgApQASpABagAFaACVIAKBKMAQT0YHVkKFaACVIAKUAEqQAWoABWgAlSAClCBQBQgqAciIwuhAlSAClABKkAFqAAVoAJUgApQASoQjAIE9WB0ZClUgApQASpABagAFaACVIAKUAEqQAUCUYCgHoiMLIQKUAEqQAWoABWgAlSAClABKkAFqEAwChDUg9GRpVABKkAFqAAVoAJUgApQASpABagAFQhEAYJ6IDKyECpABagAFaACVIAKUAEqQAWoABWgAsEoQFAPRkeWQgWoABWgAlSAClABKkAFqAAVoAJUIBAFCOqByMhCqAAVoAJUgApQASpABagAFaACVIAKBKMAQT0YHVkKFaACVIAKUAEqQAWoABWgAlSAClCBQBQgqAciIwuhAlSAClABKkAFqAAVoAJUgApQASoQjAIE9WB0ZClUgApQASpABagAFaACVIAKUAEqQAUCUYCgHoiMLIQKUAEqQAWoABWgAlSAClABKkAFqEAwChDUg9GRpVABKkAFqAAVoAJUgApQASpABagAFQhEAYJ6IDKyECpABagAFaACVIAKUAEqQAWoABWgAsEoQFAPRkeWQgWoABWgAlSAClABKkAFqAAVoAJUIBAF2hXUT506JTauWkkb64Y6YbG1bqjXt99+K9988411K+ql9LP4urNVP62dzecWdbOxflo7m+9bm+um7lnV6vEPFaACVIAKUAEqQAXOXQXaDdSrq6sl98gRyc/Ls2rNy82VqspKqayosK9+ubmSn58v0K6srExQV2v0y82VosJCOXLkiMyfP1/GjBkjEyZMsGYdN26cTJs2TVJSUqS8vNwu7fLypCA/XxoaGuTAgQPy1ltvCepri37jx4+Xd955RzZv3iwzZsywqm7QCFqhXqtXr1bn2CbtUL/Jkyera66utlbdv/kW3bdoQ0pKStS1h7bFprqhbUP9ykpLmwfYzl27zF9OBagAFaACVIAKUAFpN1BH53D/vn2SceCAdWtxUZGCThvrd/DgQdWxRif2wP79VmmXnZUl+9LTZdKkSfLAAw9I7969rVl79eolv/3tb2XNmjVSUFBgnXZZBw9KTXW1GkgYNGiQPPTQQ1ZpN2TIEJk3b54agOnZs6c1dcM1Bq1Gjx4tH374oTrHONe2XHsPP/ywDBgwQF1z5WVlcjAz06p7Fm3IkcOHpba21rq6wTagfoB1etXZOwlaAVxTNq74nTbWK/QetK1+gnOJiLlvvpZvv7ZrPfXNNzihglhI63RDnSzWDdrZek6trdu336qm0rZrzeb2I7RuQduZWJTXbqBeWlqqOmGZGRli21pSXCyAdXQSbatbVlaWQDt4v9CRtal+OdnZcmDfPpkyZYoAlh577DFr1kceeUQGDx4s69atk8LCQuu0w3mtqamR1NRUGTp0qKC+tuj36KOPyvDhw2XhwoUC73qfPn2sqRs0Qn20Vx2DHLZp99RTTylQrygvFwzI2HTPog1BZBNA3ba6QSfUD4OS8WZIY2GcWWZwChxrapLqqio1OIoBUltWRN2cOHHCmvqE6oK6HT9+XOrq6qyqX21NjTRUV0vF9s3yxW97y+5f3yOf97vPivWzx++W7NdGS92RbKmrb7BKN5zPY/X1UrZplaQPfkx2//puKzTDufvs8bukcM6HUjhvuqQPfkJ2973Xnro9dodkTx4th9+ZJHsH/a9d19sTd0l12nY5aeF9iva2qalJRe+hrxvattjwf319fXAGJsYlEdQzMoSgbjZ4QlA30w1AQlA3H9QhqJtfdwT1GFtUFm+lAo1Hj0p5aalg8MymFdPuAMM21UnVpaxMqisqRA9w2FS/yspKqS0rk+JVS2THTZdLQtefSGK3i6xYE679sewd/IRUZ6RLVV2dVecVuh2trZHCRZ9I8h1dJKHrBVZohnMH3Q69PkFypk2U5LuulcRfXmhN3bZ1OV/2Dn5cDrzwtCTffrVV19u2a34kFZtXyYnGRqmurJSKsjJrrjm0t0cbGtRAH6YW29SGoC4YLIgXhwBBnaBu7PEjqJsDE0GdoN4RnnaCupUcyUrFWAEF6hZ1YnWn1VpQLy9XHX+rQX3NUtl521WS2OMS2X79pVasAMz0of2kOmOfpaBeK0VL50rKvd0ksfvFVmiGcwfdcqa9JDlvviQp93aX7RadUwwEpQ/rKxljBknK3V2t0i2h24VSsWWNnGhqVBFDul2x4RVT/wjqwRg2gjpBnaDeAdMxCOoEdYL62QNdDH0PxrCzlHAFCOr+IwngobMW1MvLpHj1Etl525UEdY9RIs0e9VopWmYxqL9hM6gPJqh7vNYwUEBQD7dB0bwjqBPUCeoE9bA56Jyjbj6IAO04R/1sAPc6KEFQj8acc99IChDUOyGor1osO28lqHv1njaDep0ULZ+nvNZWetTfmCgp93Sz1KNOUPd6rRHUI1kis88J6gR1gjpBnaAeUCJEgro5pAPmCepmhpx7ta4AQZ2g3h7h8daHvtcB1OfbC+rTCOp+rlOGvvtv1/RgA+eou9hMZn0368AiRJpZ3/17OJn13b9mOus8PerRaUePullbR1B3MZz8KBAFCOr+O7RWh74jmdxKetQ1dHh5VR51gPqKBZJyXw+r5lrrOeqHpk6QlHu6WuhR7ycZY+hR93Kd6W0Y+h6I6VKF0KNOjzo96vSo06NOj7pxO+A1rN3LdvSoB2fcWdIZBQjqnRHUF8nOW67gHHWP84Y1qBevWGgpqE9Umd+RsM2+ZHIEdQ3gXl8J6mfsT7T/EdQJ6sYddGZ9N/ccMpmcudeaj2czv+4AwnyOerRmk/vHmwIE9c4F6jXwqK9YKDtvvpyg7hfUVy6UVOVRv8iyrO8A9fEqYdv26+3J5I/H2KUPI6h7BXS9HUE9OCtJUCeoE9TpUadHnR5143bAi6fc6zb0qAdn3FnSGQUI6gR1P3N/TbeNhznqxSsXWQnqh6ZNlOwp4yUZHnULQT2Toe++noVOUD9jf6L9j6BOUDfuoNOjbu7ZpEedHnWv8BrkdvSoR2syuX88KkBQ74SgvnwBPeoevenwciL0vbG+TkpWLZbU+zFH3S6PejOoj5Pku6+1E9THDuHj2XxcbwT14CwlQZ2gTlCnR50edXrUjduBoAcS8vPy5NSpU8FZOZZ0zitAUO9soF6qspfvuPkyhr57hKdmUK+XktWWgvpUeNTHEtSvv9TzlARmffffrunQfGZ9d+kWMOu7mfeVWd/NPK/M+m6mGzK/M+t7dNox67tZWwfgZ+i7i/HkR1ErQFD336G1Oet7TRlBXQOH11cF6g31UrJmiaTef519HnWA+uSxknwXPepep14Q1P23a/p+Iai7mFWCulnnlaBuBk0EdTPdCOrmumntCOpmbR1B3cVw8qNAFCCo++/QxgWo30SPugaPtl6bQb1BStYuldQHbAT1CZL9hzGSfNc1DH336FUnqPtv1/R9QlB3Ma0EdbPOK0HdDJwI6ma6adgcPny4LFy4UMaPHy/Iso7PbVmZ9d2sLdEgzKzvLgaKH3VqBQjq/ju01oP6svmyg6DuOcEXQL2poUFK1y6T1Aeut9CjPkGyXxstyXcS1OlR999eaQD3+kpQdzH5BHWzzjVB3QwQCepmuhHUzXXT2tGjbtbW6YEEzlF3MaD8KCoFCOr+O762g3rhsrmy46afW/XMbauzvlcA1I9K6bplkvagnaCe9dqLknRnF3rU6VH3PADlFcyd2xHUXUwqQd2s80pQNwMngrqZbho26VE30w/z+wnqZm0dQd3FcPKjQBQgqHc2UC+RwqVzZcevCOpOAIn0vrKiQpqOHpXS9csl7cEbrPSoE9S9J5KD152h7/7bNX1/ENRdTCtB3azzSlA3AyaCupluBHVz3bR2BHWzto6g7mI4+VEgChDU/Xdo7faoA9TnENQ9ZnwHnMQFqE+iR91r2DtB3X+bpiEdrwR1F9NKUDfrvBLUzcCJoG6mm4ZNetTN9KNH3aydA6QT1F0MJz8KRAGCuv9OrfWgvmSO7LiRHvVQ+Gjt/xZQ37BC0nreIIndLHuO+usTJOvVFyTpjqsZ+s7Qd4a+h1g+Pkedz1E3fn5yTna2HNi3T6ZMmSK9evWyJtkYYJOgbgaaBHVz3bR29KibwzofzxZinflvYAoQ1DsZqJeWSOGS2bLjxp9xjrpHr7oC9cZGKd24sjn0naDu6XnlCddeIOnDn5TMsc9Kyt1dJbH7xZ728+MZN92Woe/+2zU9mEWPuot5pUfdrPNKj7oZOBHUzXTTsEmPupl+9KibtXP0qLsYTX4UmAIEdf8dWqs96qUlUrB4lmwnqHv2PCpQb2qSsk2rJK3njVZ61A++MkqSbrfMo05Q93yNaQjGa3lZmRxtaJC6ujo17SL0Oxv+J6i7mFeCulkHlqBuBkwEdTPdCOrmumnt6FE3a+sY+u5iOPlRIAoQ1Anqpl5LP/vZnfW9QpqamqR802p7Qf3lUZJMUPfssadH3X+7pgcJCOouppWgbtZ5JaibgRNB3Uw3DZv0qJvpR4+6WTtHj7qL0eRHgSlAUPffobXbo14qBYs+ke3X/5Sh7z5C3481HZPyzWskredNdnrUX/69JN9+lV1z1EM96vcw9F2Dbluv9KgHZr6Ec9Q5R51z1E8nstKw0B6vGICpqamR1NRUGTp0qJpTD0i2YQVsEtTNzgVBnaAenHlmSUEpQFDvhKC+kKDeFiyFfo/Q92PHbAf1kZJEUKdH3ePgU+j17fd/etRdrCs96mYdWHrUzYCJHnUz3ehRN9dNa8fQd7O2jqHvLoaTHwWiAEG9M4L6x81A0+MSz2DjJ4zdZFvbQ98VqG9ZK2kP3WynR/2lkZJ0Gzzq/p4nHsvtm5PJ9W9OJkePuuf56vSoB2K6VCH0qNOjTo86Pephnnx61M1hnR51c0gnqAdn2FlSuAIEdYJ6LGFOlx0PoF6xZZ2loD5eDk4cIUm3XklQ9zhQwTnq/ts17XmnRz3cRqp39KibdWDpUTeDJnrUzXTTXmGGvpvpR1A3a+f0dBM+ns3FePKjqBUgqPvv0Fo9R72kRAoWzJTt113KOeoew4R16LvVoD7BZlAfKin0qNOjHrU18l8APer0qNOjTo86PeoB5QcgqBPU/Zth7hFrBQjqnRDU589shnSGvnuCpxZQ37pe0h6+xcLQ9/GSOeE5Sbr1Cjs96uMI6tob7eWVoe/BWTWCOkGdoE5QJ6gT1I3bAe0ND+KVHvXgjDtLOqMAQb0zgvoMSexxMT3qfj3qW9fLLoK658GAljnqBHVPA0Ia4gnqZ+xPtP8R1Anqxh30nOxsObBvn0yZMkV69eoVBnsdnb2coe9modsMfTfXTWvHZHLmXnWCerQmnfu7KUBQJ6jreeSxfI2LOeoA9d632ulRH0+Pup/rk3PU/bdreiCBc9RdLCXnqJt1XjlH3QycCOpmumnY5Bx1M/0Y+m7WzmlvPEHdxXjyo6gVIKj779DaPEe9uqRY8ufNkMTu9Khr8GjrtSX0fdsGi0F9OEPfPSaSA9AT1P23a/o+Iai7mFWCulkHlqBuBkwEdTPdCOrmumnt6FE3a+sA6wR1F+PJj6JWgKDuv0NrP6hPJ6h7DHsHnFgP6lPGS+a4YZJ0y+Wew9L9eJ9Nt2Xou/+2A9cbQ9+jNlstBTD0naHvDH3nHPWwaQvwCtOjbgbs9KibQzpBvcUu85+AFSCo++9sxw2oX8/nqGsvYWuvGtQrbfWoWw/qw5j13cfAEEE9OCNGUCeoE9QJ6gR1JpMzbgd02HoQr/SoB2fcWdIZBQjqnQvUa4qLJX/OR1bNs4bHNh7mqFcmbJBdfeybo549ZbxkjB0qO2++zD6P+nMDlLefj2fz3o4Q1M/Yn2j/I6gT1I076EwmZ+49xJSGmpoaSU1NlaFDhwpC9RE6bcNKj7r5eaBH3fyeoEc9WnPO/SMpQFD33sHWXlmbPeoK1Gd/qMDYNKQ5FvvFB6hvtBjUn7UX1MfTo67bBi+vBPVI1sj/5wR1DeqFhXJg/35jaA3Cm+QsA96lrIMHBfP78/Py1PxN5zYd9R51O5SdLfv37ZPJkyfLQw89JIAUW9Y+ffrIoEGDZO3atVJYWGiVdjhnoaD+7LPPCupri3YYNBg2bJgsWLBAxo8fL71797ambtAI9Rk3bpxMnz5dfve731mnXegc9YOZmVZde7hvjxw+LLU1NYK6dVT7Eem4yqOemyunTp3yb824BxWIoABBvZOBekmR5M/+gKDuIxS5JfQ9AaB+m1XRCBjgyJ4yTg6MHSI7b7LQoz5igGQS1Pl4tgj2JdYftxuol5WVqQ4rwNOWFR1VrCXFxVJSVGRl/QB00C4/P18OAvAs0Q+6HT50SGk2depUBXL9+vUTW9YnnnhCeao3bNggRUVFCkhs0Q71yM7KUrC0a9cuee655+Txxx+3Srvnn39eFi1aJC+99JKqW9++fcWWFVpNnDhRZs6cKRjkwLm2pW6oBwYPMDiEUWeca9wrtlx7aEPycnNVNAfaFpvqprTKyFBtHUE91qb/3CqfoN4JQX3WB5LY9SdWhUkrj/qQflKdsU+q6up8gY0XL2U02zhBPeGXF1qjXQuojxkiO276hWzvYU/egYRrfizpI/o3g/rdXZsTGPrIzB6LyA1dJs5hxZY1cqKpUaqrqqy63uhRD87GthuoHzt2THUO62prxZa1trZWsDY1NqoVXiZb6oZ6qPrU1UlTU5OUl5erzn9xUZHYsAJ+4enHIMKePXtk48aNsnnzZqvWHTt2yJEjR6SqqkqKCgut0E2fOwwONTY2Kv2SkpJk06ZNVmmXnJystEPEBP63bd23b5+q3+7du62r22effipo77DW1dU138eWtHtoUxrq6+XEiRPNdbOkXrrdVfVraAjOwrEkKiAiAPWKsjKV+RrAYsuKzvXx48etqY/WBUCIuul+W2VlpdiyVlXXSE1pieTP/lC2d79Ydtz4c2tWAGb68P5Sc3C/VNfVW6MZzh36QTifVds3y6f/e4eCYVu0g26HXp8gGfCo33KZ7Ljhp9asGAza9/xAOThhuKTe210NbthSPzye8AyoVytQ1/dwR7+ivT169KjqZ3R0XdyOj6mn8eIQaDdQR0ORc+iQCrtE6KVNK4wSRn9sq9/hnBwV8p6XlyfTpk2TwYMHq5BkhCV39Ip51S+88IJ88sknMmvWLFWfkSNHii3riBEjZNKkSbJw4UJ56623rNNu1KhRsnPnTtm7d6+89tprgvraoh286a+++qoagEEDV1hQYNVaUFCgBjgwyFZSUmJV3aAVBmG++vJLwXM6c48cEdzHtrR3qAsGrerr61XdbKmXrgfqB/3ixYCSguNDgeMYNMOgVF2dVSvuwy+//NKqOmmNULeTJ07I0YYGq+qHeh2trpLyLWskfVg/2TdigDVr+vAn5cgHr0tDQa40NDbapVtdnZw8cVzq934u2ZNetEo7nMeiJbOlYNb7cuDFp2X/yN9Ys6YPe1LyZrwlRfOnS+b44QrabakfBoXq9qTJV8dPSEO9Xfcp2lsMDMEhpdsUm14xiBAvS7uBOryv8M5hDqJtKzqG8HTaWD+Ep2IdPXq0PPzwwyrpGOYQd/SKOdUDBw6UN998U15//XU1R72j6xR6fMxjxsDGBx98oOZZ9+rVq8M1C61f//79lRcdyeSGDBmi5l2Hft+R/+v5/clJSWqgCLkbbLpnUR+Eb6NNwRQCm+qGuqBO8FhjABCh5TbVD9ph8ACDHLbVDTqhfsjHQVCPly5EfNQTMHyssVF1HNF5tGn9+uuvrapPizZHj0p9VqYUzvlQ8me+Lfkfv2PFWvDJu1KxaZUczUyXogUzJH/We5I/5wM71lnvSdmG5VKTul0K535khV76vBXMfl/qvkiThgN7pGjRx3bp9sm7UvNpshxvPCrHv/xSjp84YdV64quv5MuvvpbjJ05aVa/jx0/IN99+K998841gMPJYU5M9bUljo5w8eVL1hVraFIvaXugVL0u7gjo6YZGSCHXk5xrUbawfOv1Yx44dq5Jm2ZAVHHVAUi8kzYK3GnPUAcK21A31AOhi/jJAHfOZAe621A/aDRgwQIW625r1HYMHCHdHbgQAVEfen85joz6IMlGgnp1tXf1CQR3zrp3178j30E6Dum11gy6oH0E9XroP8VNPeIXLSktV5Byi52xZEbGE0Hdb6hNWj+IiyV+xSIUgb736fNl69Y+sWBO6XiB7Bz8hBfNnyvYbfipb//vfraiX0ufKH8ru/j0l+7UXVTi+LZqhHok9LpEj09+Ugrkfyc5brpCt//1Da3Tbcvn/k+ypE6U6P1cqKiqtuh/QbmBgu/50zoGwe6SD2xLUDVEvAGK0JbbVDdPsoB3C4G2qG+qCqT3x4hAgqOus70VF1mV9R8eVoG72qCyCupluehCGoG7+mDGCurl2BPX4gd94qimTyflNJlchFcXFUrB2maTcfrVs73GxNYnHdtz4M0kfMVCKlsySpNuvVgCqk2t19Gtit4tkzzOPSc60CZJyZxerkqLtvPUKyf34XSlc9Imk3NvNuqRoOW9PkpqCfKmsap5rHU3ivCD3BdQhZBvQWVVRoaAzyPKjKQt1A6RjxeMUoykr6H1RNz1tBoMIQZcfbXmYmkhQd1hxeL9s9FgDhulR9w919Kj710x79OlRNwc57XWlR91MQ3rUHYaJb88JBQjqBqCO/B/rl0vKHTaC+gApXDxLdt52FUHdYwZygHrex+8p3VLu7U5Q9/hoO4K637ajeXuCenCmlR51grpRSDhBnaAOaO6IFbBJUDfTnqAenPFkSfGjAEHdb2e7QioUqK+U5DvgtbbJo/5z5VEvXPyJ7LzdVlCfaKVHPe+T91TSNoK69/uBoO5dq1AvN0E9OPtIUCeoE9QfM4du7SX380qPuhlk6kEBgrq5fgT14IwnS4ofBQjqBp3tkhIp2rhaku+0ENSfGyiFCz+RnbddaalH3UZQ7ouOSAAAIABJREFUv1yaQX2OpNxHj3ooVLb2P0HdoO04/SQthr4HYyMJ6gR1gjpBPewawEAC56ibwzDnqJtrh4EEJpMLxrizlDMKENQNOtu2gvqvTnvUF35sMai/ZJ1HPenW06C+dI6kEtQ9z5kmqBu0HQT1M8YngP8I6gT1MEjz6hlm6Lu5F54edXOQ4xz16LVj1vcALCeLiCsFCOoGne3SEinavEZSbPOoK1AfIIUA9Vtt9ahbCOq3XC75s96XomVzJfW+HpyjzjnqngcrWos4iPQdQ9+DM5EEdYI6QZ0e9bBrgB716GCYHnVz/ehRD864s6QzChDU/YN6ZWmJFG9eqzzDVs1RB6g/N0AKFsyUnbcQ1L1muk/SoL583mlQv8iaTP4Jv7xQmPXd/z0KGGbWd/+6YXCBWd/P2MeW/5j13azzysezmXmu+Xg2M90QUUFQN7tX9Rx6grq5fgT1FpPJfwJUgKDuvzNbWVoqxVvW2Qvq8wHqV1g6R91Sj/rsD6Ro+XxJvR8edYJ6JG9w6OcMffffdkA/etSDM2D0qNOjHuZNZei7OeD60W7AgAGyefNmSU1NlaFDhwoGFrzuH+vtCOrmoAlYJ6ib60dQD864s6QzChDU/Xe2m0F9PUHd4+PP4NnGc9T3queoWwzqKxYQ1D2GvWvg5HPU/bcfBPUz9ifa/wjqBHUjQATMPfXUU/LWW2/J1KlTpVevXkblxAo66VE3H3AgqJuDJkE9Ou0I6tGadO7vpgBB3X9HW4H6tg2Wg/rl1nnUbQb1gtkfSvGKhZJ6/3X0qHuEdXrU/bcdeoCDWd/drJH/zwjqBHUjwCaoRwfC9KibAx1gjs9RN9MP2jGZnH9DyT3iWwGCuv/OdmVpmZQkbJKUu66x6znqeo76vBmy4+bLCOoePf6Yo14w50MpXrlQUh8gqIeGt7f2P0Hdf9tBUA/WXhLUCeoEdSaTC7sG6FE3g2DOUY9ON+hHj3qwBp6lNStAUPff2a4sK5OSxM12gvrw/pI/b7qdoD7occl5w9LQd4D6qkUEdY/edA2cDH33334w9D0460tQJ6iHQZrXUHR61OlR12Da3q/0qJsDMT3qwRlPlhQ/ChDU/Xe0K8tKpdRmUJ9LUPea8R3bqazvcz6S4lWLJfWB6xn67hHW6VH333boAQ6GvgdjIwnqBHWCOj3qYdcAPermIIxBCyaTM9ePHvVgDDtLCVeAoO6/sw2Peun2LZJy17X2hb7Dow5Qv+ky2d7jEmseM6aSydnsUZ/7kRSvXiJpDxLUWwt3D/2OoO6/7SCoh9ufaN8R1AnqYZBGj7q5p9yPdpyjHh3McY66mX70qEdrMrl/PCpAUPff2VagvnObpNxtKajP+Uh23PQLgrqfOepzp0vJ6qWS9uAN9KjToy6hAxJB/8/Q9+AsJUGdoE5Qp0c97BqgR90MgvUUAHrUzfWjRz04486SzihAUCeo+wkTN932jEf9ZZUt3yZvv0omB1BfQ1D3A6X0qPtvO+hRP2N7gviPoE5QD4M0P15hPp7NzPsOEKZHPTqYo0fdTD961IMwmywj3hQgqPvvbMOjXpaSIKn3dLUz9H3Oh7Ljpp9b6lG3FNTnzZDStcskrecN6pnvpgMSQe+X8MsLJeftSVJTkC+VVdUx9fT6gXQNnEwm57/9oEc9OCtJUCeoE9TpUQ+7BuhRN4NgetSj0w360aMenHFnSWcUIKj772g3g/p2e0F99gey41cEda/QDI964fwZUrpumaQ9eCNBnaHvMR0QIaifsT/R/kdQJ6iHQRo96mZecq+6YTt61KMDOsAcPepmGtKjHq3J5P7xqABB3RTUd9gJ6sOelHyCuq8kegrU582U0nXLCeoeIZ0edf/tho5YIKgHZykJ6gR1gjo96mHXAD3qZhBMj3p0utGjHpxhZ0nhChDU/Xe4K8vLpDx1p7Wgnjfrfdlx488sDH1/QnLetDP0vXD+TClbv0LSet5Ej7pHWOccdf9thx7g4OPZwu2Q6TuCOkE9DNK8eoYBc5yjbuZ9p0c9OqCjR91cP3rUTU0l94tnBQjq/jvbCH0vT0uS1HstnKM+7EnJ++Q9grrHjO8Ij28OfZ8pZRtWEtQ9QroGTs5R999+0KMenMUkqBPUCer0qIddA/Som4MwvMLM+m6uHwYS8vPy5NSpU8FZOZZ0zitAUPff0VagvitZUu/tZl8yudOgvv0GCz3qgx+316O+YKaUbVwpaQ/Ro65DtNt6pUfdf9uhBzjoUQ/G9BLUCephkEaPupmX3KtunKNuDnE6tJwedXMN6VEPxnCylPhSgKDuv7ON0PeKTwnqXpO1YbvEbhfKXoD6W69Y+Xi2wgUzpXzjKkl76GaGvnv0qhPU/bcdBPVg7SNBnaBOUKdHPewaoEfdHITpUY9OO3rUgzXwLK1ZAYK6/852JUBmd6q9HvWP35Xt1//UsjnqtoP6x1K+aTVB3SOka+Bk6Lv/9oOh78FZX4I6QT0M0rx6hjlH3dzzzjnq0cMcs76baUiPenDGkyXFjwIEdf8d7WZQT7MY1P/YnPW8xyW+sp/78ZD73dZ6j/rCj6V88xpJe5ge9bZC3vX39Kj7bzv0AAdD34OxkQR1gjpBnR71sGuAHnUzCNah+Zyjbq4fPerBGHaWEq4AQd1/Z7uyolwqPt9lL6jPfIeg7jeZ3KKPpXwLQP0Whr579KoT1P23HQT1cPsT7TuCOkE9DNLoUTf3lPvRbsCAAbJ582ZJTU2VoUOHyiOPPGJ0Hrwe0892BHVz0GToe3TaEdSjNenc300Bgrr/znZlRYVUfPGppN3b3c5kcjPfkcQelzL03SOsq6zviz6R8i3rZBdBXbTHvK1Xgrr/toOg7maFzD8jqBPUjQCRoe/mQM/Q9+hhjqHvZhoy9N3cWHLP+FWAoO6/s11VUSGVez6zFNT7Sd7MtyURYe8MffcU+g9QL1r0iVRsWS+7et9Kjzo96p4HK9oazHD7nnPUg7OXBHWCOkGdoe9h1wA96mYQzND36HSDfvSoB2fcWdIZBQjqZqBetWe3taCeO+OtZk8/Qd0HqM+Siq0EdTewjPQZPer+2w5oSVA/Y3+i/Y+gTlAPgzSvIdL0qNOjrsG0vV8Bc/Som0ExPerRmkzuH48KENT9d7bhUa/a+7mk3mdj6Hs/Iahf6gnQdUI85VFfPEsqtm2gR92jN10DJ7O++28/COrBWUqCOkGdoE6Petg1QI+6GQTrAQsmkzPXjx714Iw7SzqjAEHdf0e7qrxcqvbtkbT7etg3R31oP8mdftqjfr1tWd+fsPM56jdfLkWLZ0llAkE9kvfc7XN61P23HXqAg1nfz9igaP4jqBPUwyCNHnVzT7kf7ZhMLjqYo0fdTD961KMxl9w3XhUgqPvvbCuPutWg/qYkdr9YthPUPXnWd958uRRqUO/DOepuUO72GUHdf9tBUA/WUhLUCeoEdXrUw64BetTNIJge9eh0g370qAdr4FlaswIEdf+dbYB69X5bPep9JfejN6xKiIYQ8+bnqMOj/qqk3NnFqkR3Z0B9o+wiqHtOpEZQ9992ENSDtbwEdYJ6GKT58Qo/9dRT8tZbb8nUqVOlV69eRuV4PZ7f7fC4s2effVY++OADmThxovTu3dua+gGE6VE3hzrAHD3qZvrRox6sAWVp8aEAQd1/Z1uB+oG9kna/jaHvfSX3QwtB/ZcXyt7BT0jO27aD+m1WDXIk/PJCyXl7ktQU5EtlVbVniHbzgAf9GUHdf9tBUA/WLrYbqJeUlMiB/ftFe51sei0pLpaioiLr6odOdVZWllrHjBkjDz/8sADybFgBwgMHDpQ333xTXn/9dXnooYesqJfWpk+fPjJkyBB5//33Zfz48WogQX/X0a/Q7sknn5RNmzap56hjQAEDCR1dL318aDd48GBJTk6W/Px85eW06X5VoJ6bK6WlpYL54HhvU/1C56gfzMy0qn7Q6sjhw1JTUyO21Q3nEPXLz8uTU6dOBWvpWNo5rQBB3X9nG6Bek7FP0u6/zsI56gD1acqDrZOl2fCaGAbq19jpUU/cJLseIah7BXqCuv+2g6AerLltN1AvKyuTrIMHJTs72541K0sOZWUJ6oYVHexD2dlWrblHjsiRI0eU13rQoEHKSwyw6+gVEDxq1CiZOXOmfPTRR/L00093eJ1CNQFoAtDnzp2rBhN+97vfWVM/aDdy5EjZsWOHfPHFFzJhwgSx6dxCu3Hjxslnn30mRYWF6r6w7b4tKChQ9yygE/etTfVDnU6ePCnVVVVyOCfHqvYEWhXk5wuy2OZYVje0vagfrjmCerCG/lwvjaDuv7NdVVkpNZkAdTs96kdsBPVuF8newb+Ww29PkpQ7LQL1HpeIDn2vStwknz7yP/Z61KurpaKiwp61vFzZy4aGBsE9oQDfkvphEAF9DdXf0HXzkdHe62CFyXaoG5PJBWN52w3U4bHes2eP7Nu3z5o1PT1dsKJuTU1NqmNdU10ttqzV1dVSW1MjaCAOHz6s6mqTfvCAYRBh9+7dsnbtWtmwYYM167p16yQhIUFFI6COOM82aZeRkSFVVVXKK5yYmCiory36rV+/XlCn3NxcK687nEtAJu7bzMxMK8/t8ePH5dixY1JbXS24j21qUwDpJ06cUG2LTXWDRqhPQ319MNaNpVCB0wo0NTZKZWWl6mijs23Limse96It7YOuBwYZ69D3yDss6cOflM+efEB29+9pxfr5wF6SPXmsymD+6f/eIZ89cY81K+pz8JVRUrhghgqB393/QSs0Qz0+/20fKdu0Wmo+TZJ9IwaKTdrtevR2yZ/7kdQVF0pNVaVUl5dZs1aVlUlDba001tdJTUW5VJfZVbcvT5yQr778Uupqa61imOrKSkG7C37R7YpNr+gHSZxE7rULqMM7Mnv2bBXai7m5tqz9+/cXrLNmzVKGOyszs9k7Bw+dJWvOoUNSXl4uCM/H//DQ2bIiLBqh+W+//bb069dPMGfdlhVh+fBab968WXlebdMuLzdXjdLCa/3CCy+oe8Im7UaPHi3Lli2TV199Vfr27WvNPYu2A/V55ZVX1H07fPhwde3Z1KYgsgODCAAD7SW2pT3B/Yr7FkbKtrpBI9SvsKCAHnUidqAKYKoHBmyR28KmFZFB8IZhUM+29fixY/LV8eNytLRY6ovy7VmLC6SpvEwaszMVrBfOn6nAGHDc4eu8GVKxdZ00lRTI0TK7dGsoKZSTdXXSeOiglCyfL4XzLdBLn7N506Vmd4rUZ+yV8sRNUrpplZRtXm3FWrJhpVR/liy1ez+T8m0b7KrbppVyvLRQvvnqK8H9alUb0tSk2jYMRFpVr9M6wZkSL0u7gfqMGTPkwQcftGYerp6PiyRlM6ZPV+EsNs6hR8cVc3FtnCuck50tB/btk8mTJ1s1BxznFvOsEU4OT3VhYaFV84QRiYDzis5jamqqDB06VNVXX5Md/Yo59MOGDZMFCxao6QM2zZ+HNqgPQvPRpuAc41x3tGb6+NAOAy7ogCNcDNN9bJo/jzngmE5TW1trXd04Rz1eug3xVU84ChDNN3/+fFm8eLFV6+rVq9WgmUloaaz3gUcMHezqmhqpQFitJWtlVZXUVpRL8ZplsvO2q1QId2KPi9U8+o5+TfjlT1Toe1VGulTV1VujGc5dZXW1HK2rlcIlsyT57msloduFVmiGc5bQ9SdyaOpEyXljoqTc3VXlHkjsfpHYsG7rcr7sHfS4HBj1jCTf0UUSf/kTK+oFbRKu/bFUbF4lJ5oalTc91m2Cn/IZ+h6cnWxXUO/Zs6c1mbcB6OhcE9TNskejU61BfcqUKVZmfcdc63gBdQCe38z2sdoe9wU81QsXLlSgDhCO1bFMykV9QkHdNu0I6uZtCpPJBWfcWVKzAgD1vXv3qoHHpUuXik0rpowhusVPB7i9tlWgfnpKYHsd08txEKlUW14mxWuWys7br5LEHpd4eo54eySbU8nkhvSVqoy9UmXZeYVuR2trpWjpXEm5t9vpZ9BfaoV20C1n2kuS8+ZLknJvd6uS8GEQIX1IX8kYPah5EKH7xVZohusZgy0VW9YQ1A3m5SMMP15y4RDU6VE39vgR1M2BxOlRtw02CeqPGQ1OYJCDoG5+XxDUiddBK0BQ959IDsBsPaivXtrsUSeoexroaQH1ZRaD+hsEdT8DSgR1s7YN7RtB3WFpYSgRpkqPuv8ObDyEvtOjbnZeQ0PfCerewZgedf/Xmw6/Z+i7wzjxbadXgKBu1pm1H9SXyM7brqRH3aM3UYF6XZ0ULZ+nvNaJFnmGWzzq0yZKyj3d7POoD6VH3Uu0S+g2DH0PzrTSo06POj3qGebgowHI7ys96t7B3BkeT1A3v14J6sEZT5YUHwoQ1DspqK8iqIeCUVv/nwH1+QT1672H/KvQd4K6p6iN0GuQoB6cfSSoE9QJ6gT1sDBvzlE3H0Rg6Lv5IAIGuxj6HpxxZ0nNChDUOyuoL5adt9KjHgpHrf3fAuorFkjKfT2snKN+aOoESbmnKz3qHgcSGPpu1rbhPmHou6OHwNB3884rQ9/NoAmh5EwmZ6YdQd1MN3j+CermbR1B3WE4+TYQBQjqZp1Z60PfVwHUr2Dou8/Q9+IVCyXVSlCfKIden6AStm23KO+A8qgP6ysZY5hMrrWBIOd39KgHYr5UIfSo06NOjzo96vSoP2YO56Gh+QR1gnpw5pklBaEAQb0TgnpZmRSvXCQ7byGoOwEp0nvtUS9eqUH9ImuylzfPUQeoj28G9evtyeR/BtQHM+u7x0EhXIME9SCsV3MZBHWCOkGdoE5QJ6gbtwN+8zO0tj1D34Mz7iypWQGCeucD9RqA+gqCeiQod/scoN5YX6cGOFLvR+i7XaB+aNpEyZ4yTpLv7irbrQP1fpIxhqDudl1F+oygHpwFJqgT1I076Hw8m7n3kMnkzD3YTCZnft0xmVxwxpMlxYcCBPXOCuoLZefNlzP03aOXsxnU66Vk1WKxG9SvJahzjrrv5HWRBgwifc456g77DUPJx7OZda45R90M6DhH3Uw3Pc+az1E304+h72btnPay06PuMJ58G7UCBPVOCurLFxDUPUI6YKUF1FdbCupTJ0r25LGSfDdB3euz1JlMzqxtw/1AUHeYVoK6eeeVoG4GTAR1M90I6ua6ae2eeuopKSgoUCPCWQcPGkesaHgN8pUedYdx4ttOrwBB3awza3MyORX6rkD9MnrUPcK6AvWGeilZs0RS77/OvtB3gPofxkryXbaB+gWSPoyh75E805E+Z+h7cKaVoe8MfTcGCYa+RzcAU1NTI6mpqTJ06FDBwEJoUrKO/J9Z381hnR5183sCAxL0qAdn3FlSswIE9c4I6qVStHy+7LiZoB4JlJyfN4N6g5SsXSqpD9gI6hMk+w9jJPmuaywLfW8G9UzOUfcVjk5QD84CE9QJ6gR1JpMLGyQgqBPUg/Ti+ymLoB6ccWdJBHUnrPl5b7dHvVSKls2THTfZCurpUlVX5wts/Jwbk20B6k0NR6V07TJJe+B6Cz3qEyTrtdGSfKeloD52CLO+e4zewPVJUA/OAhPUCeoEdYI6QZ1Z343bAT8g3ta2BPXgjDtLIqibAJ3ex3ZQL1Sg/gsLQ9/7SVWGhaBeUSlNR49K6bplkvagraD+oiTd2cVOjzpB3dfAE0E9OAtMUCeoG3fQGfpuHubLrO/mXmtmfTe/7jhHPTjjyZLiQwGGvnfO0PfCpXNlx02/kO097HnmNp4HvneIraBe0Qzq65dL2oM3WOpRJ6h7TSSH7ZhMzqxtw2Akk8k57DeTyZl3rJlMzgzomEzOTDedEI1Z38304xx187YO3nZ61B3Gk2+jVoCgbtaZtdujXiIK1H/1c4K6x3Dkyoo4APVJBHWCull7pSOBvL4S1B2mlaBu3nklqJsBE0HdTDeCurluWjtmfTdv7wjqDuPJt1ErQFA36/haD+pL5sgOgrrncGQF6o2NUrphhaT1vEESu10kfqAwltsiEuHQ6xMk69UXJOmOqxn6zueoe76uvYK5czuCusO0EtTNO64EdTNwIqib6aZhkx51M/3oUTdv6+hRdxhOvg1EAYJ6JwT10hIpBKjfSI+6E0AivW8B9Y0rJe3BG60E9YOvjCKoe4R0hr6btWv6/iCoO8wrQd2880pQNwMmgrqZbgR1c920dvSom7d39Kg7jCffRq0AQd2sQ2u1R12B+mzZfuPPGPruJ/S9qUnKNq2StJ4Wg/rt9Kh7jV7gHHWztg2wTlB3mFaCunnHlaBuBk4EdTPdNGzSo26mHz3q5m0dPeoOw8m3gShAUDfrzNoO6gWLZxHUPUI6wAQe9WNNTVK+abW9oP7yKEkmqHuekkBQN2vbCOouppWgbt55JaibARNB3Uw3grq5blo7etTN2zt61F0MKD+KSgGCulln1npQXzRLtt9Aj7oO5W3rtRnUj0n55jWS1vMmO0PfX/69JN9+lV1z1K+9QNKHPymZY5/lc9R9DAzx8WxRma2wnfl4Nj6ejY9n43PU+Rx1PkfduB1o69nofr4nqIfZZ74JQAGCOkHdayhxtNvZ/ni2Y8dsB/WRkkRQp0fdx4BAWwNUkb5n6LvDuNKjbu5hokfdzMNJj7qZbtorzNB3M/0Y+m7e1jH03WE4+TYQBQjqnRHUS6Vg4Sey/fqfco66R6hRHnWA+pa1kvbQzXZ61F96XpJug0f9UmvWhFCP+j1dJbH7xfbUrduFUrFljZxoapTqqqqYZ0qPBL1un9OjHoj5UoXQo06PurEnLSc7Ww7s2ydTpkyRXr16hXllAXwduRLUzfUHbBLUzfQjqBPUgzPPLCkIBQjqnRHUS6Rg4cfNwNTjEmvAKR486hVb1lkK6uPl4MQRknTrldacTwwYENTN2g+CehDWq7kMgjpBnaDO0PewQRWCuhmk62gEzlE3h3WGvgdn3FlSswIEdbOOttVz1EtKpGDBTNl+3aX0qPv0qFsN6hNsBfX+zXPU6VH37LUnqAdngQnqBHWCOkGdoB5QBAg96uaQztD34Aw7SzqjAEG9E4M6vOn0qHuCJx36XrF1vex6+BYLQ9/HS+aE5yTp1iss9KgT1N3C21v7jKB+xgZF+x9BnaBOUCeoE9QJ6sbtgJ9kcW1tS496tCad+zsVIKh3UlCfP1MSCeqeIB1ARVA3m/feHPreXzLHDZUUetQ9X28EdaclMn9PUCeoG3fQOUfd3HuIJIE1NTWSmpoqQ4cOFcyp78g5/aHHZug7Q9/bAupYfU9QNzfm3NNdAYJ65wP1aoS+z58hiT0upkfdb+g7POq9b7XToz5+uL0edYK6Z0jHwBBB3d0emXxKUCeoE9TpUQ8bJCCoE9RjBeJtlUtQNzHj3Kc1BQjqnRHUiyV/3ozmDNwMffcEUC0e9W0bLAb1YZJ0i6Wh7wR1T9eZDocnqLdmlfx9R1AnqBPUCeoEdYa+G7cDbcG3n+8J6v4MOLduWwGCemcF9emnH5XFrO8ajlp7tR7Up4yXzHEA9cvtnKNOUCeot21uYrIFQZ2gbtxBZ+g7Q99DQ+bb6/8+ffrIuHHjZMaMGTJo0CDrpg0w67v5fUFQj4mdP6cLJah3dlA3m3sci2d1x8Pj2Spt9agT1H0PUCTwOeq+Bg9CB7JqqqsFtiEeFoI6QZ2gTo86Per0qBu3A3485m1tS1CPh25DfNWRoN75QL2muFjy53xk1TxrgH9cgHrCBtnVx7456tlTxkvG2KGy8+bLfANrLAZddJlnkskNYzI5j/kQAMQMfQ/OThLUCerGHXR61M09h0wmZz4PnB518+sOIJx75IjU1tZK1sGDxvd+W8Bt+j1BPTjjzpKaFSCod0JQLwGof0hQ9wFOOvS9MmGj7Opzm1XaYYCjGdSftRPUnxsgmeMJ6qEe6bb+J6gHZ4EJ6gR14846Qd0cmAjqBHVTmI1mP4J6cMaTJcWHAgT1zgjqRZI/+wPlwdaeTxte48Ojbiuoj5MDY4fIzpss9KiPIKi3BebO7wnqwdnHdgP16dOny/3336/mk+JRVDas8MyhHh999JGa57B/3z5BR9amFV6v0tJSyc/Lk4z9+62q26HsbIFmr732mvTs2dOKc6qvq4cfflieeeYZWbNmjRQWFMgBy7TDecXj2VJSUmTw4MGC+uq6d/Rr79691SPj5s+fL2PHjpVevXpZUzdog/qMGTNG3bc4xzZphzZl4MCBUlBQIOXl5XIwM9OqexZtyJHDh9W1Z13dDhxQ92l+bm7czB0LzhSzpFgpAFDfs2ePLFiwQJYsWWLVCvtUV1cnFWVlVq3oZFdVVsqxpiaprqqyqm6VlZVSU1IkebPeF4Ql4xFttqwJXX8iewf3laqMdKmqteu8hnrU03rfKqirTbplTx4rB0YPlh2/+rlKEmhL3bZ1+bGkDz/9HPW7rlWRCLbUDeewYssaOdHUKFWVVSrc3Ja2BG1IQ0NDc/uGyA/L2jjOUXdYXBhKGEgAyfPPP2/NOmLECMGKuuGkATwP5+RYtSJMFQ1saUmJHMnJUZ1sdLRtWAvy85VmGIQZMmSI0lJr2tGvw4YNk4kTJ0piYqKUlZVJzqFDVp3XvNxc1YChA/nqq6/K8OHDrbkvnnvuOTX4snbtWnnnnXcEWtp036I+qBfu25deeklQX1vqh+t+7NhxanANbQruXxvuVV0HtG9FhYXq2sNntrV3uE+Li4oI6g4byrfmCqD/ceDAAVm2bJmsXr3aqnXz5s1SX18vVRUVVq3oc9RUVcmxY8ektqZGqisrrVkxwF1bVioFC2aqDOHJd3YRW9akW6+U/b9/RmqyMqSmrs6qc4pziPNZnZwgnw/sJcl3dFFzrlPu6drhr6hLzjuvycGXfy+p918nKXd3fJ20Lkm3XiWZY5+VQ5PHyKeP3i7Jd13b4XrpukG3qu2b5OSxY83XW3WNVFmyVlZXS+OxY83tW2WlVfckZU2oAAAgAElEQVQC2lu0a7AN8bC0m0f9iy++kIULFypjCYNp0/r5559LU1OT8qrbZDBhLDGqjRH3Q4cOKa/A3r17xYp1zx7Zv3+/5ObmSnZWlqSmpMiuXbusWdPS0pReJSUlUg+PRXm5VQ0FvBTHjx2TwsJC2bhxoyxdutSqe2LTpk3q/CYkJCggtul+hVaoF9qUdevWWaUbdNJeMgyu7UtPl7179thxz+7dq+4JRHOgvYNnyqb2DnWpqKhQ7V08GE/WMT4UQGcsPz9fkpOTJS1tl1XrF1/sUfdiQ3292LYebWiQ48ePq3YCg922rIhUqqkol5ov0uTwB1Pl8EdvWrPmfDhNitcuk6byUjna2GTXOW1okJPHj0t9+ueS88ZEyRgzWA6OG2rFmjlmsJSuXizFS2ZL1kvPy8Gxz1pRL+iT+eLvpHD2B1K8dLYc+sOLkjl2iD11GzNY6tN3y/GKMqnJyZKqrAxr1orMA9JYXqqicuBZt619a2xsjA8DJiLtBurowD777LMycuRI61Z0/DFKC2+O8lrDc23BCm9XXl6eWt944w3ltYbn1YYVXs1Ro0bJihUrVDQCOkLwsNuyoj4lxcVSVVWlPHQ5FpzP0GsKHnUMIGDQBVMH4Im15d6Ad3ry5Mmyfv16effdd5XH2pa6oR7woP/xj39UgP7KK69YpR3qN378eOVRB7Dj/dChQ624Z9FuoA2eNGmSCstX3n7L7gu0wbhv42WkO24s/TlcUVxLGFDevn27gnUAuy3rp59+qkAdg/G2rfD0o04YgN+xY4c1686dOyUjI0OOnzghDfDYNTZatTYdOy7HAMSWnVOcz2NHG6Rqx2bJGD9M9o0YIPuf/40VK0LLi5fPl5KVi+TghOdk/4iBVtQL+qQPe1JyP5gqBbPek4xxQ2WfRXXb91x/qd2dImXrlsmBF56RfUP7yr5h/axY9zz9qBQtmCGNDQ1SX9fcltjUxmEgMl6WdgN1hEc/8MAD8uijj1qz6rnAeo66bfOYMVceScfgscacXMzFtUU/aNe/f3+ZPXu26ljbqF12draqG6DYtvqpOerV1ZKamqoGYDAv3JZzi3nWGIjBnE48r9ym6w4aoT6YO482BXPUbdIO98VvfvMbNUcd+vXt21egpy3nFloB2IuLi+2bP396jjruV4J6vHQh7K8nriVMMZo7d64sWrTIqnXVqlUKhjGf07ZVR7igjoiGtEW7xYsXS1JSkpr/iqhD23RDSC08iJWnH1FlS/2g1dGaailY+LEk3XaVbOtyvprjj3n+Hb1u/e9/l+zJ4+TQ6+Ml6Y6rJeGaH3d4nbQmW6/4V9nzzP/K/pFPyc5brpRtXX5kTd22XX2+gvQjH0yTnTdfLtuusadum39xnmS99JzUIceFhfcpolrjpZ/RbqA+Y8YMlXDssYCeVxxEOeg8o5wZ06er0GjAXDQZlWOxLyAdK8AEHf4gfncQZUA7JM2aM2eOgmEMKsTi95uWifpgugBC31UiPsvqx6zvnT/rOzq3Tz75pIL0IO65IMrAQAKiNwDqGCwyvb9itR/uW9yv8WJA7cdU1hDXEiKXMHCG6DmbVuQBgZfJmTHZhveY04zpMagj8oHYohuiMxERAY8Y4NMGrVrqUFam5r7aWDecy6O1NVK0dI6k3NtNJWyzIVM+6oBs+TnTXpKcN1+WlHu7y/Yel1jzLHUkbEsf2lcyRg9Sc+cTu19sTd0Su18k5RtXSt7Md9TceZt023r1j+TQpFFSV12t2pGWe8THIwVjuQ+TyTn6BjCUBHWzR3kR1M10I6ibgzAGYeB1BWgijNumASLAKuoDTz/alEGDBqmM9EFAbBBlQLunnnpKedQJ6v7vXYK6w3jybdQKENTNH89GUPepnfWgXitFy+baC+pvvGQnqA/rq+b0I8mdlaD+8bsEdZ8DAAR1h2klqPvvsGqPFUHdTDuCOkE9CPD2WwZB3ex+1e0dQd1hPPk2agUI6j5h83SHlx51A91sB/W6OilaNk/BsFXAqT3qAPV7LPSoWw3qqyTvE4K6X+87Qd1hWgnq5p1XgrqZdgR1grpfyA5ie4K62f1KUHcYTb4NTAGCugFwlperx7HRo+5Tu3gA9eXzJeW+7nZ5hjWoT5soKfd0sy/0fVg/ez3qm1ZJ3qz3JPmurlbpxtD3wExY+2V9Z+i7WQeWoG6mG0GdoB4EePstg6Budr8S1IMz6iwpXAGCuk/YpEfdfN47Qd1o/nbzHPWJcmjqBIL69Zd61lDNUd+0SvJnvy/JdxPU/XjV6VEPt5MqMRBB3awDS1A3042gTlD3C9lBbE9QN7tfCeoOo8m3gSlAUCeo++nAR7VtPID6igWScl8PCz3qE1XWd8wDtykpmkomZ7NHffMqKZjzgUp0Z5Nu9KgHZsLoUUfnnFnf/UMdgIRZ382hhFnf/V9zGqSZTM5cO2Z9D854sqT4UICgTlCPCr79JKmKA1AvXrFQUhWoX+TZcxvr7PDwqB+a1gzqyjN8vU1Z3y+QdKtBfbUUzP1IUhj67isShh51h/2GoaRH3Qzq6FE3040edXOYwyAMs76b6UePutn9So+6w2jybWAKENQJ6gT1cvWIrMb6OileuchaUM+eMr45hNtCUM8cM9jOx7NtXi2F86bTo+5nQK28XAjqDhNLUDfvvBLUzbQjqJuBJrzWBPXotOPj2czuWcA67ls+R91hQPk2KgUI6p0T1Bv4HHVfHkQkBmysr5eSVYsl9X6EvtvnUc+eMk6S775WttsI6mOHWAnqFQD1+TOa62bR8+cZ+h6V2Qrb+Tth72L0hqBu3nElqJtpR1CPDjbpUTfTjx51s/uVHvUYGV8Wq3Lk7N27VxYsWCBLly61al27dq3U1dX5Aq728g7b/ng2grq/AZgWUF9tKahPnSjZk8cS1H0mk6vYskaKFs6Q5Lu7SSJB3XNbSo+6o3NAUDfvvBLUzbQjqJuBJj3q5rpp7ehRN7tn6VF3GE6+DUQBetT9AZ0eCCCoG+hm+Rz1xoZ6KVmzRFLvv84+jzpA/Q9jJfkuetS95gRAVETFlrVStHCmpBDUPUM62jiCusO8EtTNO64EdTPtCOrmwMnQ9+i0I6ib3bMEdYfh5NtAFCCoGwBnHDxHnR51f+cVHvWmhgYpWbNUUh+wFdTHSPJd1zD03aNXvQXUF32iHmtHj7r3e4Kg7jCvBHXzjitB3Uw7gnp0sMnQdzP9GPpudr8y9N1hNPk2MAUI6t47r9qbjlfrPer19VJZUeHLixb6+2Lyf1mZ1NXUyFEL5883g/pRKVm7TFIfuN5Cj/oEyX5ttCTfSVD37FHvdtqjvnj2aVC/2JpM/pyjHpgJ4+PZEK7Kx7P5hxIACR/PZg4lfDyb/2sO9ypWPp7NXDs+ni0448mS4kMBgjpBPSZQ7pZl2mZQr6iUpqNHpXTdMkl70E5QzyKo+wLtRAXq66RoyZxmUO9OUPd6r9Oj7rDf9KibAx096mba0aNuDnMMfY9OO4a+m92zDH13GE6+DUQBgjpB3WvnPertrAb1itOgvlzSHrzBSo961msvStKdXRj67jX0/TSoFy+dS1B3Gzhr5TOCusO8EtTNO64EdTPtCOrRwSZD3830Y+i72f3K0HeH0eTbwBQgqBPUowbwVjr8YWXHA6ivtxjUJxHUvYa9YzvtUS9eNk9S7ukuifSoe54KQ1B3mFiCunnnlaBuph1B3Qw0deZygrqZfgR1s/uVoO4wmnwbmAIEdYJ6GEx7hW6T7WwH9cZGKd2wQtJ63qAgzw8UxnLbxF9eKIdenyBZr74gSXdcTY+6X4/68vkEdZ/3K0HdYWIJ6uadV4K6mXYEdTPQJKib66a1Y+i72T3L0HeH4eTbQBQgqHdOUK+vr5cKJpPz7EFE4r0mgPrGlc2h790u8jUfun1AfZR9oH7tBZI+/EnJHPuspNzd1SqvdQJC37eul5IVCyTlXnrU/QzIEdQd5pWgbt5xJaibaUdQNwdOzlGPTjuCutk9S1B3GE6+DUQBgjpB3U8HPqptbfeoNzVJ2aZVktbzRis96gdfGSVJt1vmUY8HUF+1UFLu7WHVIAKzvgdivlQh3wmuqMglEdTNO64EdTPtCOrRwSZD3830Y+i72f3K0PfI9pPfRKcAQZ2gHhV8+wmpjQtQX20vqL88SpIJ6p4jHZo96hukZNUigrqf+7S8XOhRd9hVgrp555WgbqYdQd0MNHX4NkHdTD+Cutn9SlB3GE2+DUwBgnonBnWfnfOYA7vloH6s6ZiUb14jaT1vstOj/vLvJen2q+yao267R33bBildvYSg7rMtIKg7TCxB3bzzSlA3046gbgaaBHVz3bR2DH03u2cZ+u4wnHwbiAIEdYJ6zAFdQ4LtoH7MdlAfaTeo32PhHHWA+pqlknIfQ9/93OcEdYd5Jaibd1wJ6mbaEdTNgZNz1KPTjqBuds8S1B2Gk28DUYCgTlD304GPatt4APUtayXtIUs96i+NlKTbLPao2wrqa5dJKkHdc2JF3OMEdYd5Jaibd1wJ6mbaEdSjg02Gvpvpx9B3s/uVoe8Oo8m3gSlAUCeoRwXf2lvu5TUOQL1iyzpJe+hmC0Pfx8vBic+fBvVLPc/TjmU2epSdoELf+zdnfbcQ1Cu3bZCy9QR1v/c4Qd1hYgnq5p1XgrqZdgR1M9DU4dsEdTP9COpm9ytB3WE0+TYwBQjqBHW/nXjj7QnqRoDd/Bz18XJwwghJuvVKozJiBexnQH2opFgJ6hulbMNySb3vOmZ99zKYdnobgvr/396bP9lZXffe+UPe+0OqbnLLSd66N0NdOzex8zqDk1Sc68TMYJcZLQbLjAaDwWK2mYyZbBBCQBAgCSwESGhGs8QgkNQtqSepJbVa6nmUGsl4WG99t3hw9+HI3Xs9h9Zq9OmqXafP031Or/7utZ+1P3utvU9FiAXU/ZNXQN2nHaDuA01A3a9boR2l774xS+l7ReDkaU0UANQBdTd4Z0z809+YKqB+zj+HzKjvuuN62/AvfxkT1G8LCuqrBeoLAfXMsQqoV4RXQN0/cQXUfdoB6n7gZI96Oe0Add+YBdQrAidPa6IAoA6oA+qd1t3VZSMjI9a1aom9DahPeDHg44x6VFBfs8w6l78KqAPq5eIloO6fuALqPu0A9XKwSem7Tz9K333jldL3cjGWV59YAUD9MwrqAwNZh0dNCqxPhYy6QP3cf4mZUb+djHpOCb8+R717zXLrXPG6bT6N0vecMU5GvSJmAur+ySug7tMOUPeBZlG+Daj79APUfeMVUK8ImjytmQKAOqCeM4Ev9btTAdTfXBoY1L9nG/6Z0veJwnoB6l0rF9nm077MHvWMrDqgXhFiAXX/5BVQ92kHqPtAE1D361ZoR+m7b8xS+l4ROHlaEwUAdUC9FHxnTP67APUJl5SPhtF0mNwDt9uu266zDf/8F673GP1+tfw+fOn72uXWteoNQD1nnPLxbJ+MrYC6f+IKqPu0A9T9wMke9XLaAeq+MQuofzJ2cqW8AoA6oA6o/26Puj7OK2Tp+0egvh5Qn/BCxeov/rF1r12Rzh3YfDoZ9ZxxTka9IrYC6v6JK6Du0w5QLweblL779KP03TdeKX2vCJo8rZkCgDqgnjOBL/W7UyCj3r06Jqg3PXC77bz1Wlv/lagZ9esCfjzbcVDX4svm0/+e0veMrDqgXhFiAXX/5BVQ92kHqPtAsyjfBtR9+gHqvvEKqFcETZ7WTAFAHVAvBd8Zk/+pUPqeQP28eIfJHQf1a2z9V/58whnlWpa4n+i9Uun79dNSWX68z1H/Y+tZt8J6Vi+ztwD1rMMlAfWKEAuo+yevgLpPO0DdB5qAul+3QjtK331jltL3isDJ05ooAKgD6oD6qNL31cvs7fP+Ndyp700P3GY7br3G1v9TUFC/PWZGPYH6muVk1HMW1Nij/snYCqj7J66Auk87QN0PnOxRL6cdoO4bs4D6J2MnV8orAKgD6pMO6sPD6XPLJ+3vTgBSis9R714TGNRnXG3r/+l/hcuo190wzRoig/q6Fbb5jH+g9H0C46AYk2TUK2KrAuWsWbPstNNOs/POOy9MO/fcc5MtTz75pHV2dFh9XZ0J8CK1xsZGU7vlllvsrLPOCqXdxRdfbP/1X/9l7e3ttqO+PpRusqe5qckOtrfb3tbWcPY1NjSYbhSbNm2yq666ys4+++wwfXvOOefYNddcYy+++KLdeuutoWzT/UNazZgxI91TvvOd75jsjXJf0T1l2rRptn///qTfhRdeaMV9JoKN0uq6666zAwcOWMOuXaHGrO67Grf7WltNMYMvFKiFAvKl7du32/z5823BggWh2pIlS2wg4ueBd3Zab0+PdXd32xtvvGG/+MUvQummuDk4OJhgWAAaqak/Dx8+bD3SL5BtPd3dNjIyYt1rl9s73/y3BHXr/v7PLEJb+6XPWfNPtEf9GtvwL39p6/7xf4Zpa774P2zHjZdb413X2+bT/s7W/cOfhbFt7Zf/xHo2rLLejavsrXO+YmvVn0G0W/03f2TN991iA7291t3dk1WWXsD0p/kIqFdEVwXKRYsWpcn1XXfdZZHanXfemWwb6O9PQLdv716L1Nr27ze12bNn2x133GF33313iKY+vP/++2358uUpmLfu2WN79+6N01pbra2tzRScOg4dstbW1ji27d1r+/fts6HBQdu5c6c99thjofpWY+JnP/uZrVy50p555plkW6Qxe/vtd9jTTz+dxu1DDz0Uyj5p95Of/MQ6Oztt1apVds8995quRdFP95DHH388jdl9+/aFutfpvqt7iMYroF4RRHnqVkC+JL9av359WhgV5EVpW7ZssSNHjiRYF+BFakNDQ6a2bds2e+edd+zdd98N0aRZc3OzHR4eTvFdQBymdXenPhSo9/b2xrGvuzstvAjUhxt32O5ZD9mue35oDffdGqPdc4t1LF1oB+Y+nQ6U23HLd23HD68M0epuvNz2P/MzOzBvtjXcfaPV3zw9hF3Sp/4H37HB+q02WPeeNd5zcyjbtt9wqR1c8JwdGRpKi2qR7m2yZXh42B1TJvuFfzAZf1CB8u23307ZV2XpIrUXXngh2aYba0dHR8qsK7sepWlFVk61e/fulBWoq6uzKG3Xrl0JgBXIV6xYYW+++WaYJkjauHGjqZz2vS1bbMXKlWFsk07r1q1LCwnqW1VM1G3fHqZfZYuqEfbs3pMWYp5//vlQY1b2aIFI95RXXnnFNIYj3VOUtVO/bt261ebPfymUbdJKi6ayr6urK8x9rrjf6h7c39c3GWGJv3GKKKD5hxZtBZrvvfdeqKZYnuBpaMiGAzUBukD42LFjxyfZ/f2mZEaINjCQFrl1r9A9VvOPKE32tLS0pCrD+vp62xbFvq1b0/xR9/wPjx614b4eG+jssMGuzhBtoKvDRgYGrGfjamt57F5rfuC2lGFXlv1kt6Z7f2gHXnrWDr06z3b/7D7TXvqTbVPx95vun2FDO7Za76Z4ujX8+GbrXPqKjRw+kqA40v1Nthw5fHjKRMBJA3VNrlUqrVLVKO2KK65Itsi23u5uUzlysSc8ymNLc3PKzh06eNB2t7TYnt27QzQtHCgrLMh85JFH7KKLLrJLL7ssTPv2tGl20003pYzwfffdl3wvjH2XXprK3QXsWiCSjnsi9W1Lix1qb08LB9LusssuCzNmde+QParm0LhVH2tPeKR7yvXXX58malpEuPrqq624z0SwUdrdfvvtdujQIdO9Jcp9rrBD9xNVEJFRnzJziPCGypcEUFrMe/nll0O1YtGsWKiK9NjT1WUjR46kTOynWYKa+96pnLy723bs2GHz5s2zl156KUzT9orVq1cnf1u4cGEYu6SRFpB1fz169GjK9qvqS+AeoXV2ddlQf7+1PvO4bfzqX9vqv/1jW/Ol/xGivfmFP7RtV51vO26ebhu/+oVQtulE+o4lr1jrrIdsw79+PpRtq/7qv1nTj248XvoeMCmgrT1TZZ4xaaCu0u0zzzzTdFBVpKaTmp966qm0f0L7I5WBjdR0Y9WkWmWq2sMZybaWpibbUVeXoEn7hiP1q/YDC5JmzpyZSqO1NzeSfdrHrCoElb8LmCL1rWxRGbKyT9qjrj3WkbRT3952221p3F555ZVpf3ok+yoPk/vGN74RRj/ZcsMNN6SFBC1MRrqfyJbC96ZKAA1PqRiYJmPKuM6dOzfttdZ+6yht8eLFx6tbMg5BygVb7+8reREV1LWlTRV9AtAofSk7ZM+aNWtShv+1115Li0JR7NPCcVNT03FQ7+lJ1VRe36j167RokED92Sds09f+xtb+3Z+EOVBOe623X3uR7ZxxZbJtzZc+F8Y2LWZ0LnvV9j79qG389/8TSrdVn/9Da77nBx/tUe9mj3qJWDzpoC4wjtI0uZctswF114S9APUHHnggHfAVpV9lh4BEB6IJ1LVHWLAZxT753VQA9ffffz8BscA4inayowB1Lf4J1NXXUexT31aCenGfiWAjoF4iWvLSKamAFn0A9fyT3wH1/AUdQD3fzwT9AvXB/j5rjQrq1wnUr4oL6s/8zDb+X0A9ZwGJw+QqwrkCZZFRjzBZLWwoJtCAuq+KAFD3LToB6j7dinELqPv1A9QrghNPP/MKAOo+eALUAfUc8Cnzux+D+jOP26b/GzCjHh7Ufw6oZ1YlAeoVoR9Q94GwSkGnQuk7GfU8cALU8/QqAL14BNT9+gHqFcGJp595BQB1QH2yys/JqPt8rQD1Pc/EA85U+n7dxXEz6stfs73/9bhtDLbAQel77UIrpe+UvrvK3rWIQEbdB0yAuk83QL2cbtIPUK9d8OSdpoYCgLoPnsiok1EvkyXPeS2g/qeufe9pj7pA/bknbGOwvf2Aeu3iI6AOqAPqk3xuAqBeDjjJqPv1A9RrFzx5p6mhAKAOqJNR/0X6KNPIh8kN9vXZnqd/Zhv//a9DHYoWPqO+4jXbN2dmuEP4APXaxUdAHVAH1AH1MT5QnLzNYXL5QKxFGA6T82/1KXxPcMUXCtRCAUAdUAfUpwao75792HFQ/3KwU98jl76veN32Pz8r3N5+QL0W0ev4ewDqgPoYSMv5uCZK3/NBTuXHZNR9ulH6Xk43St9rFzh5p6mjAKAOqAPqUwXU9TFjX7C1oUD9v9v24KDe9sJTZNQ5TK5cUFag5NR3X5aJw+R8cKISXz6ezedzRVaTjHq+75FR9/lcsUBY+B4Z9XIxl1f/TgFAHVAH1AH1tV/27QNf/TfHQX1X0I9n61qxyNpenH38o+MCff48GfXfxaCy35FRJ6NORp3S9zE+UMASoA6oFwA9WY+F7wHqZUM7ry8UANQBdUB9ioD6U4/Yxq/GzKjvuvXqkJ+j3rVykR2YO9s2fu2LtgZQt4keYsjHsxUR8qNHBUoy6r5MExn1fFgqSnzJqPt8roAlQD3f98io+3yuWAgofA9QrwiiPHUrAKgD6oD61AH1DV/9fMjS97igvtgOzHvGNgHqE4Z0wTygXhFSAXX/5BVQz4clQN3vbwKmApYA9XzfA9Rr43uAekUQ5albAUAdUAfUpwioz3rYAPWJl+jr49m6Vi62A/OftU3/QUZ9otl0QL1KOAXU/ZNXQD0flgB1v78B6j5/k8+pAeq18T1AvUog5ZJLAUAdUAfUpwKo99ruJx+2Df9GRn2i++nXfPEjUH/pvz4C9c+5Po99on8v5/fYo+4KV1VfxB519qiP2Z9clKBO5JFT331QJ5ibNm2arVixwoYGB62luTllsSei+WT8Dhl1X78C6uUgXb5d+B6gXjVec9GhAKAOqAPqUwPUW558yDb82/+m9H2CB98dB/U37MDLcwB1Tn13RMdRL1GgZI+6bxJLRt0HTZz67vO30bBE6Xu+75FR9/vdaN8D1EcFUL4tpQCgDqgD6lME1GcC6jlZ649B/RfPHwf1L5FRn2j5O3vUK8IqoO6fvALq+bBE6bvf30bDEqCe73uAem18D1CvCKI8dSsAqAPqgPpUAfWf2oZ/JaM+UVgvQL19wQu26T++ZGsA9QkfKAeoV4RUQN0/eQXU82EJUPf7G6Du8zf5HKXv5fxutO8B6hVBlKduBQB1QB1Qnyqg/qBt+Ne/ovQ9s/S9/ZUXAXVK390xMr0QUPdPYAF1HzhR+u73uWKfMBn1fN8jo+73O0C9XJzl1dUVANQBdUB9ioD6Ez8B1CcI6cq6r9ZhcquW2MGFc23Tf5JRn2jZO6e+V4mVgLp/8gqo58MSGXW/v42GJUA93/cA9dr4nmIGXyhQCwUAdUAdUJ8CoN7bYy2PP2Ab/uUvY2XU/89/t+3fu8R23XqNbfra34QqL/8Y1F+dZ5v+8+9C2cap77WIXsffg1PfOfWdU98/Klsuypc/7UfBHKe+50Nw0S/nnXee3XbbbemAyiuvvNJUPVH87GQ/AuqAeu3CM+9UCwUAdUAdUJ8ioP5zQH2i+9N/l1FfagdffwlQp/S9XLgko+6fvJJR9wEdpe9+n6P03edzWiQA1P1+N7qag4x6uZjLq3+nAKAOqAPqUwXU7yejnlv6/uZSO/T6y4A6oP67oOf5DlD3T14BdR80Aep+nwPUfT4HqPt9TpAOqHuiK68ZTwFAHVAH1AH1nEz16N9dPbr0/T8Clr4L1Bf9wjZ9ndJ39qiPFw1/z88Bdf8EFlD3QROg7vc5QN3nc4C63+cA9d8TQPlRKQUAdUAdUJ8ioP6zqBn1bx/fox4V1BcvANTJqJeKkwao+yewgLoPmgB1v88B6j6fA9T9Pgeol4uxvPrECgDqgDqgPgVAvafHWh67zzb881/Y6Iz2yf7+eEY9Nqh3vLHANpNRn/BnqHPqe5V4Caj7J7CAug+aAHW/zwHqPp8D1P0+B6hXCZxcqokCgDqgDqhPBVDvtpZH77UNX4kK6tfapoAZ9e43l1nHklds89f/P059z8iq9/X2piRyTdALzXsAACAASURBVILMp/wmnPrOqe+c+s6p72N8AFAH1AtwnuzHwvcEV3yhQC0UANQBdUB9aoB686P32Iav/HnMjPptQUF99TLrWLoQUM+AdDLqVSIrGXV/pomMug+ayKj7fa6AJT5HPd/3OPXd73daFCh8D1CvEki55FIAUAfUAfUpAuqP3GPrAfUJL1Toc9S71yyzzmWvAuqAuis+fvwiQN0/eQXU82FJJciAut/nClgC1PN9D1D3+x2g/nHI5JsaKgCoA+qA+lQB9R/b+n8ioz7RffnHQX25dS5/DVAH1MtFTUDdP3kF1PNhCVD3+9toWALU830PUK+N7ylm8IUCtVAAUAfUAfWpAepND//I1v/T/5pwRnmiQFvm9z4+TC5q6fua5da1cpFtPu3L7FHPgHX2qFdEV0DdP3kF1PNhCVD3+xug7vM3+ZwaoF4b3wPUK4IoT90KAOqAOqAOqHthPTao/7F1r1lhXSsXA+oZkM4e9SrhFFD3T14BdR84Ufru9zlK330+B6j7fU4LRKMXiQD1KoGUSy4FAHVAHVCfIqD+0N1k1L/8pxOuKFj9xT+27rUrrOvNJbb5dDLqAvCJNjLqFeEUUPdPYAF1HzQB6n6fA9R9Pgeo+30OUK8ImjytmQKA+sQnr6Mnub3d3TZy5Ij19vRMePI7+vWf1vfdXV3W091tu3btspdeeskmC8In8ndkz5o1a2zbtm322muv2csvvxzGvldeecWamprs6NGjqU87OzrC9GtnZ6cNdndbk0D9H//nhEHVmyXPed3vMurXBfx4tuOg3v3mUtt8+t9T+g6o++MmoO6fwALqPmgC1P0+B6j7fA5Q9/scoO6Pr7zy9ysAqAPqE4HsWvwOoO7ztY9B/ad32bqIoH79NNt1W1BQX7fCelYvs7cA9ayFJzLqFXETUPdPYAF1HzQB6n6fA9R9Pgeo+30OUK8ImjytmQKAug+eyKj/IjsbDqj7fK0A9cbIoH57TFDvWbfCutcsB9Qzsumq9gHUK0IsoO6fwALqPmgC1P0+B6j7fA5Q9/scoF4RNHlaMwUAdR88AeqA+qe1faHyfY+Depc1PninrfuH/zdc6XvdDdOsITCo96xdYZtP/wdK3zNgHVCvCLGAun8CC6j7oAlQ9/scoO7zOUDd73OAekXQ5GnNFND8Y+vWrfbCCy/Y/PnzQ7XXX3/dBgYGTPuFo7Werq6P96hHsk2Qp33qO3bssHnz5qV96spkR2iy580330z+pj3h8rcIdsmOBQsWmOaTo/eoR+rXge5Oa7j/1gSbq//mjyxKW/VX/822X3uR7br1atv41c+b9qxHse3NL/xhOkyuZ+1y2/gff2dv/nUc21b+xf9jTXffYAM9PWm8RvI12aKzNxQbpsLXH0yGkRJj1qxZdtppp5kAKko777zzTE226ea/o74+nTxcTBpP+uOOHdbY0GCHDh2yfXv3mgDqpNs06nTm5qYmq6+rs/vuu8/OPPPMMP0q/zr33HPtqquusieeeMJuu+02O/vss8PYJ5+75JJLbPny5TY4OGgtzc3h+nZva6u99957NmPGjFDaqW/Vl7JL43b69OmpryPdUy699FLbv3+/zZ071y666KJQ9p1zzjn2ve99z9rb262hoSGU3+nelhaJWlunTACdjPjJ3yingOYfra2ttn79etu4cWOo9u6779qRI0cSrAvYI7WhgQE7dvSoDQ8N2eDAQKg2NDhobW1tofqy8K36+nrbu3evvf3226Hs27x5sx08eNA+/PDD1KfytSj9KluODA5a+6vzbeetV9uOGVeFaXU3fcf2PftzOzDvaWu4+0ar/8F023HLlSGabBvasdWGd26zxntnWL3sCqLd9u9fbgcXzLEjw8NpnhvF1wo7dF+bKl+TBuo6CfPRRx+1mTNnhmuyra+vzwQnAuIwrbXV9u/bl/ZS6JTTA21tduDAgTCt49ChBCTKCjz00EP22GOPhWnytWeffdZWrFiR9pk9/PDDYWyTTk8++WQ6GXZkZMQ6Ojpi9W1bW1oB1WRDq/CPP/54qDEre5StWL16tT399NPpvhLJ95566inr6ekxTYxmz56dFoui3PeknbI+ut8J1iPdT5ItbW3W1dU1VeIndk4RBQ4PD6f7bGXJ7cl+rvvE0NBQOsFcC2dRmk5U10K8gFgnv8vGKG14eNjUn0pgbNmyJS0oa1E5QpM9ylprEUEnv0ewqbBBVSWaawjUjxw+nPo2Sp/Kjg9GRmy446D1Nu2y3sadYVpP4w4bOrDPOle9YS0P321N9/7Qmu+bEaI13XOzDe/abr8cGrC+PU1hNFP/9TTU25HOg6Y5rsZsJF+TLVognSpfkwLqEkM3CAUh3cQitabGRhNwarX9xRdfDFUWpwn1gl/8wrRCO9Dfbwfb2+3QwYMhmmxR+Uj7gQO2dOnSBHPKcEZpAmH1pxZh9DEpyqxHsu2ZZ55JpXsffPCBaX9WtL7VBFY+t2/fvlDjtbh3COo08ZgzZ05aRIjSt7Ljueees97eXuvu7k6T3cLmKI9aiDx8+HCa6EbyO93bZI/ghS8UqKUCI4cPm0q5Ve4YpfX19Fh/f3+aG2nhceHChWGa7FFcVwZW2U6Vmkdp2juv/aW6n0qzV199NUyTPcqsa862ZMmSMHZJo8WLF1tLS0sqfe/v6wvTn4VfafFlaPiw9fYPWE9/f6A2YIOHD9ueZ35mb535T6n8feO//7VFaBv+9a+se/UyOzYyYv2Dg4E067eevn47PDKS7h9KNBb9HOVR915K3yuirEBdZdxRJquFHQJ1TQ6VEVZJ8gUXXBCmnX/++aYyWgVNLSaoNLRh164wrSjZfvDBB1NZucp8ozT1o0p8ld380Y9+ZNo/HMW2Cy+80K644gpbuXJlWmXc3dJiDZH6dudOk03dnZ2poqMYK5EeBXWaSF599dVpvEbq2+9+97spoxIW1PftS4sw6s9I9xPZonucqoimSgCtCHM8DaqAIEALyyc7g1759zWBFQxrH3MtPh6sVu8hexYtWpSqbrRgW2n3yXyuiX7xOerae12r/7kW7yPdis9RFxxH+Rx12VFtj/rJ7MfRf1tjc3hwMEHd6OsRvlciRYtVLU/8xDb+2+c/OrDtT2ztl09+W/23f2RdKxfZ0SOH0wJkBL0KG1KfDg19vNBXXI/yyGFyVYK1ypTC7QH/CI5UUi7Y1P5NAV2Upn233/72t9MNVmASaY+6JtQtTU22o67OHnjggbRvOIpuskPaXXPNNSnbeuedd6Z9wlHs++Y3v2nTpk1LZfkqLSwWPKRphCY/293cbF0dHbavtTWc38k+jVllCLRHXX0dqW8vv/zytCVEAUmLkxH6tLBB2rXu2ZMyedFsk42yTxl/QL1KEOWSWwFAPe8Ec4HdVAD1iAscBairki8KqGsRQgmfpqamMYfJRYGmKQHqM3+SsulrvvS5MKfSr/7iHwPqGSe9j/Z3QL1KOAXU8xcAAPV8zQpgA9T90A+o+/1OizCAejnfA9SrBFAulVIAUAfUa5ExH+89RmfUAfWJfyzg1AD1BwH1DCgmo14qZI158aTtUQfU8yf/gHq+ZoC6H5JGZ13JqPt8D1Av539k1MfEZ57USAFAHVAfD7Jr8XNAfeJwPjq7Caj/qStLT0bd52/yPTLqVYIroJ4/8QfU8zUD1MuBUlF+DKj7fA9QL+d/gHqV4Mml0goA6oB6LUB8vPcA1H3gFB/UB61lJhn10Ysr431PRr102Pr4Dcio79qV9ruyRz1/gs0edT/MsUc9399GZ/zZo+7TTyDMHvWP4x/fnCIKAOqA+niQXYufA+qA+tov+7LjnteRUff5Gxn1EwR+Mur5UEdGPV8zMuo+gCsgmIy63+fke2TUy/kfGfUTBFAul1IAUAfUawHi470HoO4Dp9AZ9Y4OGxgoMupf+OjU98mD8d8H8IC6z98A9ROEU0A9HwAA9XzNAPVyoASo+30OUK+N73GY3AmCKJfdCgDqgPp4kF2LnwPqPnCKD+oD1jLzp7bxq4D6eCXvxc8pfXeHq0+8kNJ3St/dHx9F6bsP6pR1pfTdD3XKulL67tOP0vdPxEAunAIKAOqAei1AfLz3ANQ/q6CujDqgXkD4RB4B9doFVkAdUAfUv+UD7iJ7n/sIqPsgsyjPB9T9+gHqtQuevNPUUQBQB9THg+xa/BxQ/wyD+pOA+kQAvfgdQL128RFQB9QBdUB9jA8I5jj13bd4wx51/yJCse2C0vfaBXje6bgCgDqgXgsQH+89APXPMKjPAtQLCJ/II6Beu+gLqAPqYyCtyFpO5JHSdz/MUfruBzoy6uW049T32gVQ3mlqKACoA+rjQXYtfg6oA+q/7/C3Wv+Mw+R8/qaFBj5HvUrs5jC5fKjjMLl8zYoydGl3zTXX2MyZM+3OO++0c88914qfnexHSt/9oFlkXdmj7tOQ0vcqwYlLn3kFAHVAvRYgPt57AOo+cErZ18FBGxgYsIlkayfzd2RbOvWdjHpW35BRr11YJaNORp2MOqXvY3yA0nf/AhGl774FhKKCR75H6XvtAjzvdFwBQB1QHw+ya/FzQP0zCuqDg9YCqAPqJymgAuqA+hhIKybME3mk9N0HdGTUy8McGXWfhmTUT1Kk5c+eVAUAdUC9FiA+3nsA6p9lUH+Ij2frnHj/klGvXcgD1AF1QJ2M+hgfIKPuW4DRlgoy6r4FhGJhkIx67YI77/Q7BQB1QH08yK7FzwH1iYPc6PL18KXvg0PWMgtQH91n430PqP8u/pT9DlAH1MdAWjFhnsgjGXUf0JFRLw9zZNR9GpJRLxsyef1UVABQB9RrAeLjvQegDqjX+sC43/d+HCbn8zctMnCYXJVIzmFy+VDHYXL5mhUHxXGYnA/ktEBDRt3vd2TU/X5X+B571KsEUC6VUgBQB9THg+xa/BxQ94ETGfU/td8H5Cf6GaDu8zdA/QThFFDPn/wD6vmaAerlQKmAJT5H3ed7gHo5/6P0/QQBlMulFADUAfVagPh47wGo+8Bp6oD6523Nlz7nguoTwXaZ64C6z98A9ROEU0A9f+IPqOdrBqiXAyVA3e9z7FGvje+RUT9BEOWyWwFAHVAfD7Jr8XNA3QdOgDoZ9fH2vNf655S+VwmngHo+AADq+ZoB6rWBJTLqPt8jo17O/8ioVwmeXCqtAKAOqNcCxMd7D0D9MwrqQ8PWMuthTn3n1PfSscjzBhwmx2FyHCbHqe9jfIA96j5IJ6NeDtKLag4y6p5Qzmt+nwKAOqA+HmTX4ueAOqBeppQ997WUvvv8jdL3E0RLMur5k38y6vmakVGvDSyRUff5Hhn1cv5HRv0EAZTLpRQA1AH1WoD4eO8BqPvAKXzpOxl1yy09T306NGQDAwPW3dWV/frcv5f7+5S+VwmpgHr+xB9Qz9cMUC8HSkVWE1D3+R6gXs7/APUqwZNLpRUA1AH18SC7Fj8H1AH13Kx4md8no+7zNzLqJwipgHr+xB9Qz9cMUC8HSoC63+cofa+N71H6foIgymW3AoA6oF4LEB/vPQB1HziFz6gPD1vLU4+wR5096u4YVOaF7FFnj/qY/ckCtYm2lqYm21FXZw888ICdffbZVkByhEctclxzzTU2c+ZMu/POO+3cc88NY5+yrtOmTbMVK1bY0OCgtTQ3p88un6jun/bvsUfdD+tk1Cd+/6jmx2TUy4RzXnsiBQB1QH08yK7FzwH1zyqoH7bdAvV//wIfzzZBWKf0/UTRKP86oA6oTxjMKyfWgLoP6AD18jB3oK3NFi9ebNOnTzctykRYHCKjXq5fdX8B1PODOK8YXwFAHVCvBYiP9x6AOqBeppQ997WUvvv8jdL3E8RMSt/zoY7S93zNCmAjo+6HJjLqfr8jo+73O0D9BMGTy6UVANQB9fEguxY/B9R94BS/9J2Meu5hbWTUS4etj9+AjDoZdTLqfDzbGB8A1AH1yuqZyXpORv3j2Mw3NVQAUAfUawHi470HoA6o52bFy/w+GXWfv5FRP0FwJaOeP/kno56vGRn1chnNIqvJqe8+3yOjXs7/APUTBFAul1IAUAfUx4PsWvwcUPeBExn1PzUPsAPqPn8D1E8QTgH1/Ik/oJ6vGaBeDpQAdb/PsUe9Nr7Hqe8nCKJcdisAqAPqtQDx8d4DUPeBU3RQHxym9J3Sd3f4Kf1CSt8pfR9T9pxT4sphcj6o4zC5ckCnrCuHyfk0lHate/ZYf3+/NTY0uMd+zn0i53fJqJeO6bxBFQUAdUB9PMiuxc8B9c8wqM9+lFPfJ3jiu6CePepVApHzEqAOqLsn64A6oJ4DYbX6XUDdB+nSH1B3RkpeNqUVANQB9VqA+HjvAah/RkH98GHbDahbTlYdUK9dyATUAXVAncPkxviAYI496v5FmMsvv9z279+fglq0rDWgXrvgyTtNHQUAdUB9PMiuxc8BdUDds9fc+xr2qPv8jT3qJ4jd7FHPn/izRz1fM/ao+7OtRcYbUPf7HYfJlfM/+R571E8QRLnsVgBQB9RrAeLjvQeg7gOn8HvUi4z6V79ga770OVv7d38Soq3+2z+yrpWL7OiRw9bb05OV8c7Jjnt+l4y6O1x94oVk1Mmoj8mmFrA2kUdK331Axx718jDHHnWfhmTUPxEDuXAKKHDk8GHr7uqynu7uME0T6/6+PlMSY8GCBbZw4cIwTfYsWbLEDh48aIMDA2E0U/9Jt77eXmtsbLRXXnnFXn311TBN9mzYsMHq6ursjTfeSP0ZwT751uuvv27Nzc127NgxG+jvD9Wn6lctpg0NDqb+jTROe7q6bGhkxFqffdw2f/1Ltv4f/6et/8qfh2jr/uHPrHvVG3bsyJE0JnSPi9IE98PDwzbw0f0jil2FHX19ffbb3/52SkS/SQN13fDrtm9PeyQ1WYzU2vbvt/vuu89OO+00O+ecc8K0s88+2y644ALTKu3B9nbbUV8fR7f6emtqbEx9+uMf/zicdmeddZZNnz7dfv7zn9uMGTPsjDPOCNWvF154oS1btixNgpobG0P1rfysuakpHQaig8dC+d2OHckegfrrr71ml112mamvI43bSy65xPbt25f004JXJP121NXZ7paWFNRlW6T7sGyRfXtbW6dMAJ0SUR4j04Sxo6PDOnXIUaAmINFktqmpKUGUQCpEa2qyPXv22ODgYLpXRNKsq6srLXCoP7du3Wrbtm0L02RPS0uLtbe3W319fRi7pNH27dtN2h09etR6e3tTfArTrx0dNjQ0lOZDsjGMXR8dijYwOGR9O7ZZ++IF1rZwnh14dX6I1vbKizbSts9+9ctf2pEjR9JihxY8IjTd1+RrIyMjIeyp1ER2TZWvSQN1raq0HziQgFPQGaUdOnjQtLKi1c9HH33UHn/88TBNkDlr1ix755130qpUFM0KO1TaUmQ2H3vssTC6qQ+l3Zw5c2zVqlUpWxHNvtmzZ6dVd90spGOhaZRH2aRJWnd3dzjbpJFOLdek6JlnnrGf/exnYXxPfqe+7enpSfrJ1kj3Pdmile7Dhw+H7FfZJ5/jCwVqpYCyJrt377Y333zT1q1bF6pt3rw5jUVliPsDNdmjOZvaW2+9ZWvXrg2j2/r16xN0aiFh9erVtmbNmjBN9iguyd82btwYxi5pJN3a2trS/VVzykh9Kvu0WLVz585kZ6RxKtu0yJHGRF+v9fd0W7+qYQK0vu4u+/DYMfvwww/TIsdAX1+qllDFxMluqhbS/DZl1QPYU6mHqjemytekgLoC5ZYtW+zFF1+0l196KUxTplr2vPvuuyZgV0Zn165dcdrOnam8SwdTrVq50ubPmxdKu1cXLkxlXkuXLk1grEWFKG3mzJnJ33STVemZ4D2KbU8++aQ9/fTTacVdfbt48WKbP39+qL7VwpVW4bXQEck2jVfZs2LFCmttbbWW5ubjWzeijNudO1OliVaSlSHQfUWwrscITbao9Eur79FsK+xRlpEvFKiVApp/CJ40/1DMj9RUjiwY7uroCNW0UKtxqOzmokWLQmmmfeIFPM2bNy+UbYpNBayr3DySr2k7g2D4wIEDaVuDbI1in2wRI2hxQ3ZGsUt2yMe0qKEKDo0JjQ3Pnu1P4zWyRVsZ1D62Lci9RHppDqSkSvrfg9hV3Gu1hYbS91FRVmI899xzdv7559ull14apk2bNi3ZItu0WqZSbk38IzWVge7Zvdvuvvtuu/jii0Npd80119gTTzyRIF3lvjrtOkqTn91888327LPP2v3332/f/va3w9gmjaSdArpWtm+66SaTflHGhrSSdpoQ3XPPPaFsk0bS6o477kgLHSoxV5l+pDGr7QJF4JRt2ksZpjU0pLJ8wYEmbWHsKjRqaDBtRZoqAXRUmOPboArIl7ToOHfu3HRPG+9AsMn8uRZpE6hnfD7xpzHhr/aevd3dKfsqG19++eUw2gnklHHVPnCB1GT213h/S/ZoEUH+9tprr4XSTfvnC1DXtrtIfSrd3nvvPdu0aVMC9fF0nsyfaxFB/ibw1JhIoBdkvI4G9WRbELt0P5Ftw0ND6f6m5EC1e8zJvCbmmyrzjEnLqKscVPuEdZBWpKZTwp966qnkRNpLOpFD1Cbrd5Th10RaCwjaZ33uueeG0U4n0mt/8MMPP2wPPvigaT99pH4977zz7OqrrzZl1gV12sMcxb7iNP/ly5ebSh8F7bI3kn3XXXddmtjefvvtofxOGmkcaCEh7Qdsbj5eCbPTd7japzGWNWaVUVcQati1K5R9uqdoIUGr3NFsU1/IPk59D0q8U9QsQN13EjegnndSvuARUM/XrNANUM8fp4B6vmbF4gCgXhHQFSgF6meeeaYVH58V4VGTftkxOyioa+IqSFe79dZbE8xF0E02SDtlhh955JGPQT2KbbJDMCwAFqjfeeedCe6i2CftVM2h8m2B+rXXXpvsjWTf9773vVTyJVDXIkIU22SH7LnllluOg3pLSygQLsZsAep8jnreAgqgXhE8eVpaAUDdN5kF1POhE1DP1wxQ941PASeg7tcOUK8IrYB63mR1dJYPUPd9BBqg7tNNIKyFBEC93JgF1H36AeoVwZOnpRUA1H2TWUA9HzoB9XzNAHXf+ATU/bpJO0C9IrQC6r5Ja5GdI6OeD52Aer5mRdYcUPeP12LMAuo+DQH1iuDJ09IKAOq+CS2gng+dgHq+ZoC6b3wC6n7dAPUqYRVQ901ai0k/oJ4PnYB6vmaAun+cVlbBAOo+LQH1KgGUS6UUANR9E1pAPR86AfV8zQB13/gE1P26AepVQiqg7pu0Aup+2ATU/dqRUfeP12LMAuo+DQH1KgGUS6UUANR9E1pAPR86AfV8zQB13/gE1P26AepVQiqg7pu0FpN+Mur50Amo52tGRt0/Tsmo10Y7QL1KAOVSKQUAdd+EFlDPh05APV8zQN03PgF1v26AepWQCqj7J7EcJucDTkDdpxuHyfnHagHrGrNk1H06AupVAiiXSikAqPsmtIB6PnQC6vmaAeq+8Qmo+3UD1KuEVEDdN2klo+6HTUDdrx2l7/7xWoxZQN2nIaBeJYByqZQCgLpvQguo50MnoJ6vGaDuG5+Aul83QL1KSAXUfZPWYtJP6Xs+dALq+ZpR+u4fp0U2vRizgLpPS0C9SgDlUikFAHXfhBZQz4dOQD1fM0DdNz4Bdb9ugHqVkAqo+yatxaQfUM+HTkA9XzNA3T9OAfXaaAeoVwmgXCqlAKDum9AC6vnQCajnawao+8YnoO7XDVCvElIBdf8klj3qPuAE1H26sUfdP1YLWGePul9DQL1KAOVSKQUAdd+EFlDPh05APV8zQN03PgF1v26AepWQCqj7J66Aug84AXWfboC6f6wC6uW1A9SrBFAulVIAUPdNaAH1fOgE1PM1A9R94xNQ9+sGqFcJqYC6fwILqPuAE1D36Qao+8cqoF5eO0C9SgDlUikFAHXfhBZQz4dOQD1fM0DdNz4Bdb9ugHqVkAqo+yewgLoPOAF1n26Aun+sAurltQPUqwRQLpVSAFD3TWgB9XzoBNTzNQPUfeMTUPfrBqhXCamAun8CC6j7gBNQ9+kGqPvHKqBeXjtAvUoA5VIpBQB134QWUM+HTkA9XzNA3Tc+AXW/boB6lZAKqPsnsIC6DzgBdZ9ugLp/rALq5bUD1KsEUC6VUgBQ901oAfV86ATU8zUD1H3jE1D36waoVwmpgLp/Aguo+4ATUPfpBqj7xyqgXl47QL1KAOVSKQUAdd+EFlDPh05APV8zQN03PgF1v26AepWQCqj7J7CAug84AXWfboC6f6wC6uW1A9SrBFAulVIAUPdNaAH1fOgE1PM1A9R94xNQ9+sGqFcJqYC6fwILqPuAE1D36Qao+8cqoF5eO0C9SgDlUikFAHXfhBZQz4dOQD1fM0DdNz4Bdb9ugHqVkAqo+yewgLoPOAF1n26Aun+sAurltQPUqwRQLpVSAFD3TWgB9XzoBNTzNQPUfeMTUPfrBqhXCamAun8CC6j7gBNQ9+kGqPvHKqBeXjtAvUoA5VIpBQB134QWUM+HTkA9XzNA3Tc+AXW/boB6lZAKqPsnsIC6DzgBdZ9ugLp/rALq5bUD1KsEUC6VUgBQ901oAfV86ATU8zUD1H3jE1D36waoVwmpgLp/Aguo+4ATUPfpBqj7xyqgXl47QL1KAOVSKQUAdd+EFlDPh05APV8zQN03PgF1v26AepWQCqj7J7CAug84AXWfboC6f6wC6uW1A9SrBFAulVIAUPdNaAH1fOgE1PM1A9R94xNQ9+sGqFcJqYC6fwILqPuAE1D36Qao+8cqoF5eO0C9SgDlUikFAHXfhBZQz4dOQD1fM0DdNz4Bdb9ugHqVkAqo+yewgLoPOAF1n26Aun+sAurltQPUqwRQLpVSAFD3TWgB9XzoBNTzNQPUfeMTUPfrBqhXCamAun8CC6j7gBNQ9+kGqPvHKqBeXjtAvUoA5VIpjAi/PQAAIABJREFUBQB134QWUM+HTkA9XzNA3Tc+AXW/boB6lZAKqPsnsIC6DzgBdZ9ugLp/rALq5bUD1KsEUC6VUgBQ901oAfV86ATU8zUD1H3jE1D36waoVwmpgLp/Aguo+4ATUPfpBqj7xyqgXl47QL1KAOVSKQUAdd+EFlDPh05APV8zQN03PgF1v26AepWQCqj7J7CAug84AXWfboC6f6wC6uW1A9SrBFAulVIAUPdNaAH1fOgE1PM1A9R94xNQ9+sGqFcJqYC6fwILqPuAE1D36Qao+8cqoF5eO0C9SgDlUikFAHXfhBZQz4dOQD1fM0DdNz4Bdb9ugHqVkAqo+yewgLoPOAF1n26Aun+sAurltQPUqwRQLpVSAFD3TWgB9XzoBNTzNQPUfeMTUPfrBqhXCamAun8CC6j7gBNQ9+kGqPvHKqBeXjtAvUoA5VIpBQB134QWUM+HTkA9XzNA3Tc+AXW/boB6lZAKqPsnsIC6DzgBdZ9ugLp/rALq5bUD1KsEUC6VUkDzj61bt9rzzz9v8+fPD9Vee+01GxgYsM6OjnCtu6vLurq67PXXX7d58+aF0e3ll1+2NWvW2Pbt223u3Llh7JJvSac333wz+dsrr7wSyjYBcWNjo7W1tdkbb7wRqk/Vj++++65t3LjR1L+RxumLL76Y/K2jo8N6urtDjVPZdOzoUTt27Fg82w4dsqGhIevv77eugPe33p4eU2yYCl9/MBlGAur+CSyg7gNOQN2nG6DuH6uAenntAPXJiMin1t/Q/OPgwYMJngR3kdquXbtsZGTEhgYHQ7XBwUEbHh5OTTZG0qyurs727NljghR9X19fH6bJntbW1mSbdItkm+6tAk0tDAnYt23bFqZfZcuBAwds3759tmPHjlC6qU/37t2boFNjQmMjyngdHBiwX/3qV6lFtO2DDz5I97fDhw/b4eHhUE333anyNWmg/uSTT9p//ud/2rnnnhumnXPOOaY2c+bMtEpWX1dnupmFafX16Yaqm+rNN99sZ555ZijtLrnkEvvpT39q999/v51++ulJy0LTk/141lln2fTp0+3nP/+5zZgxw84444ww9p199tl24YUX2tKlS23Tpk125ZVXmuyNMjZk39VXX20vvPBC0k5+d7L7c/Tflz3f//737f3337fmpibbUV8fZ8zu2JHG7NGjR62zs9ME7zsD2Set9uzebb29vcm2aNrJnr2trVNmpXuqBPpT2U6B+u7du1NWbP369RapvfXWWwnqFAc2b94cpskeZTgFT++8846tW7cujG4bNmxIMCcw6e7uTvApAI3QZI9A+MiRI+keG8U+2aEM4gcjI0kz9W2kPpUtGqP9fX3Jzgh9WdigypLhoaG0iKCxEGmsqgJBsbyvr8+2bNkSyjaNU/WpxqnGRLSmPp0qX5MG6m+//bY999xzqVRJZS6RmoKlVqbaDxywg+3toZpWjTXhX758eSrdi6KbyoEWLFiQSpU0IGWXSpaiNJVOLVq0yOR3q1atSmVeUWzTPjZp19zcnG7+Kn8UFEfqW5U7apVb2knLKNrJDpUXrlixwtrb29MCW8Qx++GHH6YV+EOHDoW6n0gzlbNqNVn7tNL9JVBZmuzRZI0vFKiVAgJ1ZYSL+67uvRGaSqNVgqxsXQR7Km1YvHixNTU1pblH5c9O5vOFCxcmIFFmUxAVrQlIlEEUGEeyTeCp+75igOLnyezDan9b8w1pFk237s7OBOpaRNa8qJrtJ+uatjOoPzXP0L3kZNlR7e9q3qhkykB/f1pEizQWZEt/b++USQhMGqgvW7bM7r777pR9VQY2QrvvvvuSHUuWLEnZzYceesgee/TRMO3RRx5J2X7teRLI3XPPPSF0U99Ju4cffthWrlxpHYcOpSxiUaYf4VFVCK0flce17d8fzr6W5uZ0A2toaEh9fO+994bq2yeeeMJUYRJRO/Wt4FwryLNnz7ZHHnkkzph99FGbNWuW9fT0pEUs6fhooHuKtJozZ05ahVff7t+3L1RT6aP26wqu+EKBWiggXxIEaCFUE9tITYvJKpXWAmQku2SPbNO9VvOjSPYJCpRJVHJFi42hWkdHiutFtj+SbYITgbqqJDQfj9SnWkTTORLK/MvOSLopHg0NDKRtFq+++mo43dSf2tqjhbVIfaqEynvvvZfGQ7Q+lX/1Aepjw6sC5bPPPptKey+66CKL0lR+fPHFF6fJvkqkzzvvPLvgggvCtPPPP98uu+yypN2Pf/xj0/NI2l1xxRWmzLqyYI0NDSmoK7CHaA0NqcRXtglGotlXgLoy/tdff324vr3uuutS1iKBesC+PXTwYJpAXnXVVaZ99ZHGrbZc6MAerShfeumlqW+j2CetbrzxxhTYNU4bdu06PjbUxwGa7NF4BdTHxlCe+RUA1PMXJwB15wIAoO5acALU88eoFvakG6DuG6uAekVMVaBU5kt7SzVRjNK++c1vpkm09qgr66W9uVFskx06EG3atGn29NNP21133ZUWEqLYJ+1km7Jzym5qX39xmFaER9mj0nKtNO7buzecfYIk7SvSvsRrr702XN9qj7qyFspwRuzbA21taQVZUKxxEmlcXH755bZ///5Uoq9zHDRWotgnrW644YZULicwjzBWR9sgX9N4BdQrgihP3QoA6vkQAKj7Jv863VqlvmTU83wOUM/Tq6i+AdSd45SM+ifj6VQBdR1YFWVCLTtGg7q2DSjjH8U+wYeyhYC676TrSlCPBpuAum9BUeMCUPeNCQE7oP7J+MmVcgoA6vkQAKg7AQBQJ6M+idtrAHXnOAXUPxlUAXXfpB9QLzfhn0oZdUB94n0tmCOj7r+nkFH/ZIziymdXAUAdUJ+0Pc+AOqAOqCcfYI967WLqpB0mNxVK38moT3zyT0Z94mA5urS3+J6Mul8/QH3i47SyAkcLQoB67QIo7xRfAUAdUAfUO9MhbRwml5+B5TC5/PuHSvMB9drFRkD9/PPTqdvaow6oTxwAAHU/aArWAXW/foD6xMcpoF67YMk7TU0FAPX8iTal7/lAlxYDyKiTUSejTka9xqESUAfUXfveAXU/aALq5bQD1AH1GsdB3u4zrACgDqiTUSej7vUBMur59w8y6rUNqIA6oA6o7ywHjkU5e84jGXW/5oA6oF7bMMi7fZYVANTzJ9pk1MmoFyeLT8Yjp77nj1H1C4fJOccph8l9MuQrULJHPX9yzWFy5WCOw+TyfU6l0qqW4NR3v3ac+l5u3PLxbJ+MoVzxKwCo50MAoO4EAErfKX2n9J3Sd3+4qvpKMupk1Mmok1Ef4wOAug/Si0UOQB1QrxptuXhSFADUAXVv2XP26wB1QB1QB9RrHOkAdUB9DKRVHj51oufsUffDCHvUy2lH6bt/IYFT32scQXm78AoA6oB6NnB3klGfjJL34m9Q+p4/Ril9d47Rj8Z2X2+vKTZMhS9AHVAH1Mmoj/EBMup+EJZ2ZNT9CzFahKH0fSpMHaaOjYB6PgRQ+u6EADLqZNTJqJNRr3F4BNQB9TGQdqIMeuV1Mup+GCGjXk47Mur+hQQy6jWOoLxdeAUAdUCdjDqnvnt9gFPf8+8fyvbzOeq1C42AOqAOqJNRH+MDZNT9IExGvfwiDBn12gV43slSeeO2bdts7ty5rmxfUZ77aTwuWrTIWltbTRnsT+P9ve9JRp2Mutd3PK+j9N0Hw5z67hynnPr+yamBVrQ59T1/8s+p7/5Jv7KunPqe73OqnADUfboV2lH6Xm7cAuqfjKFc8StARj0fAgB1JwBQ+u5acALU88eoFkQAdec4BdQ/GVABdd/EH1AvN+EH1H1+B6j7dAPU/eNV20HU2KP+yfjJlXIKAOr5EACoOwEAUAfU2aOefIDS93Jxa/SrKX2n9H1M2XPlXvQTPRfMXXrppTZnzhw72N6eJtjFZDvCIxn1crDJ56j79KP0vRysA+qjwzPf10IBQB1Q9+5Pzn4doA6oA+qAei0C16j3ANQBdUCdPepjfICMug/SyaiXg3Qy6qMiM9/WTAFAHVDPBm4+ns0F3J796UUJ99atW627u9u6u7ps0vprAv3MYXL59w/1KRn1moUwA9QB9TGQdqIMeuV1MurloKSxsdH6+vps8+bNdu2115q2OVRqfLKeA+qA+smqiiGjXrvgzjsdVwBQz59oU/pO6bsXuj2vY496/hgtFjgOHDhgBw8etMWLF4c6lBJQr10EBtQBdRcgAuqA+smEuQNtbSkwTZ8+PdwiB4fJ+ccGoF674M47AeoeaNJrAHVA3es7ntcB6oD6ZFdR9PX2pk8EmQpxElAH1AF1St/H+AAZdTLqJ3MRhlPfp8LUYerYSEY9HwIAdUDdA9ze1wDq+WNUWnPqu3Occur7JwO4AiUfz5Y/+efU93KZOU59z/c5ldsD6j7dCu3IqJcbt4D6J2MoV/wKAOr5EACoOwGAw+Rce9sB9fwxCqg7x+hH5xKQUa+IqYC6b+IPqJeb8APqPr8D1H26Aer+8Vpk8Cl9rwiePC2tAKCeDwGAuhMCAHVAnVPfOfW9dNQa+waUvlP6PqbseaIHmLFHvRyUcJicXz/BHHvUfYsJWvy74YYbrL293RobGtJnlxeQHOERUB8boHlWXgFAHVCftP2vgDqgDqgD6uXD1ph3ANQBdUCdPepjfICMug+Cyaj7F1+KRQJAfUx85kkNFADUAXVAvTN97NnIyIjplPBly5aFOiGc0vf8MUrpu7PqhdL36lGV0nffxJ/Sd//EXxN+St99fgeo+3QD1P3jFVCvHju5Wl4BQD0fAih9d0IAGXUy6mTUyaiXD1tj3oGMOhn1MdlUSt/Lw0YBHb/vkdJ3v86UvvsXEih9HxP/eHIKKACoA+pk1Mmoe32gs6PDhgYGrK6uzl599dVwlQh8jrpvUY3D5CqCPxl138SajHo5mCOj7vM7Muo+3cio+8drsahF6XtF8ORpaQUAdUDdC2nZryOjTkadjDoZ9dJRa+wbkFEno05GnT3qY3wAUAfUC3Ce7EdAfWyA5ll5BQB1QD0buD/ax5r9OkAdUAfUAfXyYWvMOwDqgPoYSKP0vXxWcCJwQ+m7X2dK3/0LCZS+j4l/PDkFFADUAfVs4AbUXcCtA848jcPk/LpR+k7pe03COKXvvok1pe/lYI7Sd5/fkVH36Ubpu3+8FotbZNRrEnJ5k1EKAOr5EMBhcr7JfxcZdUDduVjhXeAA1H1jlT3qo4KkvgXUfRN/QN0/8deEH1D3+R2g7tMNUPePV0C9ImjytGYKAOqAOhl1DpPz+gCHyeXfP7ToMG/ePHvvvfdsoL8/fTSgV/9P63WAekWIBdR9E39A3T/xB9R9PlfA5tVXX20bN260ffv2mbQsQCrCo+w50NZmixcvtunTp5vGyUS3bHzav6dFjssvv9z279+fAtUll1xiuvZp/92Jvr+0uuGGG6y9vd0aGxpC9at8S327b+/etLhbEUZ4igIuBQD1/Ik2GXVflo6Mer6vCeoofffrRkbdN1YB9YpwCqj7oAlQB9QnCmC1/D0y6r7xqj4A1P1jFlCvCJw8rYkCgHo+BADqvsk/oJ7va4C6T7NCN0DdN1YB9YrwCqj7Jv6Aun/ST0bd53MFbJJR9+kHqPvHLKBeETh5WhMFNP/YunWrPf/88zZ//vxQTZ/LvGfPnlR9E8k2la3KtoaGhlS5pOdR7FP2df369TYwMGAqS47W+vv6bHh42Lq6ukLZphLikZERa2trszfeeMPmzp0bpk9ly/vvv580k52R+rSjo8MGBwZs+7ZttmDBglBjVbqpPw8ePGivvfZaKNt0v3333XdN4yFan8q/ent6pkzlHqe+c+q7qyxXQHLppZfanDlz7GB7e8jyaPao+2ETUPdrR+m7H9Ypfa8Jm/ImoxQQqLe2ttq6devSdh5t6YnSNJEVCAg8o7W33nrLlK2TjZFs27Bhg+3cudNGjhxJACWIitK0eHD48GE7evRoehweGrIo7fDwsP3yl7+0np4e27JlSxoPUfpVY3P37t02ODhoQ4H6U36lPtUCh7YBvv3222HuHcU9rLe31/r6+tI4La5FeJRvtbS0JO3ke1HGQWHHkSNHRkWJ2N8C6oA6oM7nqI/xAUrffZBeVCMA6oB67LB/alknUNeZEQJPQWekpky/Jow93d3hmjJhApSBvr5YtvX0JDA/+sEHNiSwC9aK/qyvr7dt27bZ9u3bT3qTHXV1dSljfezYsXTAVzSf0wKH/G1oaChcn34wMpLOxVHW/5133glzD5Et/f39aTFB95JItul+q8UNVQxt27Y9zFjQeJRWTU1NZNRHTwUUKJ966ik7/fTT08FPKumO0gQlTzzxhD3yyCN25plnhrFL+px77rl28cUX2+zZs+2OO+6ws88+O4x95513numgrOeeey5l1HfU16esujJiEZrsaW5qskMHD6bDqVRW27BrV5jW1NiYSoI2bdpkV111lZ1zzjlh+lZ+993vftc2btiQtIvWt/KvdJjcokV2xRVXpHES5X4iOy677LIEBipLu+iii0xjJYp9suX6668/fphcY2OY8VCMTY1TBXfFDL5QoBYKyJcEKdrTuXDhwlBt2bJlKYvY09VlkVp3V5dpD6fAqb+3N5Rt0klZziOHD6eS2u7OTovSVOKrU65bd++2RYsW2SuvvBLC32SHSqNVZShQ1yKMNIvic7JFWVdlsOV7UfpTdqhPtRikKg4dYBulT3Uvky0qe1dVju4lkWzT/VZArOx+YWuU+6+2MKxatcp+85vf1CLEfOrvMWkZda0u6kahvTGR2pIlS9Jq565du2z16tWpHEhlOBHa2rVrk5Pr5iqHX7NmTQi7pE1hm0pbtBKqciqV4IRpPT0pmOsGq/0omvzvD9QEmirB0T62t996y9YG61uthurmL/20lydMv8rHenpSUG/ds8dWrlyZgmeke4psUlagsbExBc9ItmmiofGria72tkUaE4UtnZ2d+kzPTz348QdODQUE6oqfWjjTIWmRmmBOY1EwEKp1dKQsusrLdb8NZdtHMCywU2yPZJvs0cLG7ubmBCeRfE1wopiksnz1aSTtZMvw4GDIsSDbtICgxT6d26AzEqL0q2wpDpPTvSSSbbrf6uPZVAIvaI+imezQeRsrVqwA1EdPARQotdJz3XXX2U033RSq/eAHP0gHRHR3d6ePK1IWNkpT1nV3S4tp4iqw0/NotnUcOpSATnbu2b07TJM90kzZV1VMqJ9/+MMfhml33nmnbd68OcH63j17wvXt3tbWFMwPHjiQfDBa3yp4Cjh/9KMf2Y033hjqnnLXXXelMbF06VK79dZbQ9n2/e9/3x599FFTJcftt98eZjwUY1PjdNasWVMmgI6Oc3wfUwHNP1T6q4mjJoyRmhbOQoJ6Z6f1dnenfeCAesYiSgHqLS0fg3oUf9McXOW+gHpGf350sJ32zRegLtCL0qejQV33kki2FZ+jLlDXIlEUzWSHdAPUK+K1AqXKt8866yw7//zzwzTtKZU9sk2rsoK6ogQzwqPKQLUCqsymMsKhyrd37kxw2X7gwMdALPuiNPWlMq5b3n03wZLKudXfEZq2W0ybNi3dKJSx1qJCpL6VLbJJHzWzr7U1jYso/VrYIb97Y/HiVKIvPaPcV+RfKsdXtlqrtt/+9reTz0WxT1oJipcvX5621eh5hDFR2KBxqkWsX//61xVRhKco4FMAUM8DkyJDDag7dAPUXRUO0TPqgHr+Aieg7otX1V41aaXvgmHtAS8mZBEei0nq7KeeSjcX7cUtQCDKo0D90KFDCdQFn1Hskh2yLTKoKwssUJ8xY0baxxzB52SD/G40qLc0N4eCYfmZSveigrrsS3vUFy+26dOnp/3fkfo2+mFygHq1UMi1z6oCgLoDOMmou4BTMTOVvpNRz9IPUM8H4SIzXJS+k1GfuIZk1KtE+yKjDqjnZ5wB9XzNtIggmAPU/doB6r7qCy3CAOo+7bTYQka9SgDlUikFAHVAvagS+NQfAfUsQC/6A1CfOGSOLiGn9N2vG6XvFWEVUPcBU5G1JqOerx+gnq9ZUa1BRt0PmoC6XztAvSJw8rQmCgDqgHoBhJ/6I6AOqE/iORiAOqBekyCpNwHU/dBERt2nHaDu062oRiCj7gNOQN2nW7F1gYx6zcIub/SRAoA6oP6pA3pxaj+gDqgD6ungOPao1y4Es0f9W98y9qj7oI496j4oYY+6z99GZ/zZo+7zPX2eO3vUaxdAeaf4CgDqgDqg/ov0yUuc+p4/FlSWz2Fy+ZlrQL12sRFQB9TdB9QB6j5YAtQB9SKDPNmPgHrtgifvNDUUANTz4URgy6nvDt3IqJNRJ6NORr3GoRFQB9QB9Un+2DZAHVCfbEAv/h6gXuMIytuFVwBQdwAnoO4CTk599/kah8nlZ6w59d2nWaEbh8lVhG4FSj6ezQcn7FH36cYedZ9u7FH3VUkUIMwe9XL6sUe9InjytLQCgLoPnsioO3Qjo+5a4ADUfdDJYXJ+3QD1itAKqPuhCVD3aQeo+3QD1MuBJqBeTj9AvSJ48rS0AoC6AzjJqLuAk4y6z9cAdT9w8jnq+drxOepVwiqg7ocmQN2nHaDu0w1QLweagHo5/QD1KgGUS6UUANR98ERG3aEbGXXXAgegng+bRQk3oJ6vHaBeJaQC6n5oAtR92gHqPt0A9XKgCaiX0w9QrxJAuVRKAUDdAZxk1F3ASUbd52uAej5sAuo+zQrdKH2vCKuAuh+aAHWfdoC6TzdAvRxoAurl9APUK4InT0srAKj74ImMukM3MuquBQ5A3Qed7FH36waoV4RWQN0PTYC6TztA3acboF4ONAH1cvoB6hXBk6elFQDUHcBJRt0FnGTUfb4GqPuBk9L3fO0ofa8SVgF1PzQB6j7tAHWfboB6OdAE1MvpB6hXCaBcKqUAoO6DJzLqDt3IqLsWOAD1fNgsSrgB9XztAPUqIRVQ90MToO7TDlD36QaolwNNQL2cfoB6lQDKpVIKAOoO4CSj7gJOMuo+XwPU82ETUPdpVuhG6XtFWAXU/dAEqPu0A9R9ugHq5UATUC+nH6BeETx5WloBQN0HT2TUHbqRUXctcADqPuhkj7pfN0C9IrQC6n5oAtR92gHqPt0A9XKgCaiX0w9QrwiePC2tAKDuAE4y6i7gJKPu8zVA3Q+clL7na0fpe5WwCqj7oQlQ92kHqPt0A9TLgSagXk4/QL1KAOVSKQUAdR88kVF36EZG3bXAAajnw2ZRwg2o52sHqFcJqYC6H5oAdZ92gLpPN0C9HGgC6uX0A9SrBFAulVIAUHcAJxl1F3CSUff5GqCeD5uAuk+zQjdK3yvCKqDuhyZA3acdoO7TDVAvB5qAejn9APWK4MnT0goA6j54IqPu0I2MumuBA1D3QSd71P26AeoVoRVQ90MToO7TDlD36QaolwNNQL2cfoB6RfDkaWkFAHUHcJJRdwEnGXWfrwHqfuCk9D1fO0rfq4RVQN0PTYC6TztA3acboF4ONAH1cvoB6lUCKJdKKQCo++CJjLpDNzLqrgUOQD0fNosSbkA9XztAvUpIBdT90ASo+7QD1H26AerlQBNQL6cfoF4lgHKplAKAugM4yai7gJOMus/XAPV82ATUfZoVulH6XhFWAXU/NAHqPu0AdZ9ugHo50ATUy+kHqFcET56WVgBQ98ETGXWHbmTUXQscgLoPOtmj7tcNUK8IrYC6H5oAdZ92gLpPN0C9HGgC6uX0A9QrgidPSysAqDuAk4y6CzjJqPt8DVD3Ayel7/naUfpeJawC6n5oAtR92gHqPt0A9XKgCaiX0w9QrxJAuVRKAUDdB09k1B26kVF3LXAA6vmwWZRwA+r52gHqVUIqoO6HJkDdpx2g7tMNUC8HmoB6Of0A9SoBlEulFADUHcBJRt0FnGTUfb4GqOfDJqDu06zQjdL3irAKqPuhCVD3aQeo+3QD1MuBJqBeTj9AvSJ48rS0AoC6D57IqDt0I6PuWuAA1H3QyR51v26AekVoBdT90ASo+7QD1H26AerlQBNQL6cfoF4RPHlaWgFA3QGcZNRdwElG3edrgLofOCl9z9eO0vcqYRVQ90MToO7TDlD36QaolwNNQL2cfoB6lQDKpVIKAOo+eCKj7tCNjLprgQNQz4fNooQbUM/XDlCvElIBdT80Aeo+7QB1n26AejnQBNTL6QeoVwmgXCqlAKDuAE4y6i7gJKPu8zVAPR82AXWfZoVulL5XhFVA3Q9NgLpPO0DdpxugXg40AfVy+gHqFcGTp6UVANR98ERG3aEbGXXXAgeg7oNO9qj7dQPUK0IroO6HJkDdpx2g7tMNUC8HmoB6Of0A9YrgydPSCmj+sXXrVnv++edt/vz5odprr71mAwMDLrjp6nSAZMZrpgKodxw6ZIK8KK2jo8P6enutpbnZFixYEMrXlEnUfPLo0aPW29OTNPu0fWii7z8VQH379u32yiuv2Lx588L0q2wpSt91L4lk2wsvvGBbtmyxdevWmRYUIt17586da8uXL7ff/OY3pePLZLzBH0zGHwHU/dAEqPu0A9R9ugHq5UATUC+nH6A+GRH51PsbguF9+/ZZW1tbqHbw4EE7duyYDQ8N2fDwcJg2NDRkhw8ftl8eO5YeI9kmW0ZGRuzDDz+0D0ZG7IMPPojTRkaO9+fwcAKoSP4moJN2v/rVr+zIkSOmPo7Sr7JF/ah+jWJTYUeybWQkLcDoHrJnz55QTX2pFs223bt3W09Pj3V3d4cbCxqXWlQTm06FL0D9W9+y2U89lVa0d9TXm0AlUgPUff0BqPt0A9TLgSagXk4/QH0qTBumno2ayPZ0d6dMorKJUVp/X591dnba4sWLbcmSJWHaG2+8YatWrUpAsnbtWtPzKPYtXbo0ZeoEUFH6sbBDYDI4MJDASZn14nqER9mjhQ0BSrQ+lf/X19fb+++/b8uWLQvja/K2WheWAAAR3UlEQVT5RYsW2bvvvmvbtm2zlStXhhoLGpfqTzWN10jj9PXXX7e6urpUMRRtLGg8DvT3A+qjQ7lWLWbOnGlf+9rX7KyzzgrTzjzzzGTLE088kcqA6rZvN8F6pNawa5dp1X1fa6vV19WFs61NWYp9+8LZJq12t7TY22+9ZTfddJOddtppofzu/PPPT8FIQb25sdF2BOvbpsbGdPNv3bMnXN9qfLbt328q9Zo2bZqdccYZofr24osvTqvbKrUVuBf3mQj3Pml1ww03JN/7xje+Eco26fP1r3/dfvjDH9qvf/3r0SGE71GglAKHh4dDlfqqJLi7qyuBnOK7SkNVmhylvfzyywlQlCgQGOt5FNtUUr5x48YExBMtrZ603+voSACgbKwWhibt705gS4P8TRnr9vb2BMOR+lT+/95779nmzZtTeXkUX5Mdsk3+9s4775jgU9fkgxGa+lD9qXuIFjv0PIJdskFl+OpTAbF8L9JYkC1aPCCjPiqsSoydO3fakiVLTRv4I7Xly1ck23QD056sXq2CBmr9vb1pdXZwcDCUXdJI2QAFJE2C5PR6HqXJHmmmbMVbb72VAlMkv9Pqp0qVVPaoG1lacQ/kdyoV1ZjQQkI02+R78rm9ra22evXq1LfabxSlvfnmm2lcNDU1pXudMgRRbFu6dJlt2rTJ9u/fbytXrgp1L9b4lFaaEE2VADoqzPFtYAUigromi4K56KCurGIkqBMETAVQV8lvJDgpQF0l8LrPRurTAtQVm9S/kUBde6tHg3o03Yo96gWoR9EOUK9dQJyU0neZq5KgPS27rbW1NU7bsydN9gVzL774ot1888122223hWm33nqr/ehHP0qreE8//XTKNEWxL9n24x+nzJwCkjKvAqcoTfbsb2tL+2MOHTxorbtj+Z4gXQsJKvd66Kc/tRkzZoTxO9ny8MMPJ4h76qmnQvmd/F/2zZo1y1599VV74IEH0nP5Y5R27733pmoEgeddd90Vyj5lqx955BHr6uqyfXv3pnEb7Z6sA6IA9doFed7J0sKeDqyKBE6Auq+CAFD3HSIIqPv8DVD36Qao1y7yThqoaw+F9r82NjSEaSorlz3tBw7YT3/6U9P+SJUkR2nf+ta37NJLLzVB+t13320qVY1k22WXXZZO0lVGQHvCpWeUJl/TyauHDh1KmetovqfS8v7+/pTtv+6661KJdKS+vf7661Pp0h133BHK76SRxsHtt99us2fPtquvvto0Ti644IIQTfZ95zvfSQdWKcCrNF/XotgnrW688caUxVNZa3EPjHJflj379+0D1GsX43knA9Rzs2zKGmpvru4RZNQzwHhU6TsZ9YkDHhn1iWs1eixLNzLqGeNz1BYRSt+rTA0ETBEPa9PE8EBbmz344IN2zjnnpEm/JrMRmoBEE32BujJz5513Xgi7pI323moRYc6cOXawvT2BumA4StPCQXNz8/H9/Xv3hrNPE6C+vr60J+vaa68N17ff+973EqgLiCP5nXxP9iizLlC/8sorE7hHGK/FuLj88stTablWlC+55JI0VqLYp3uK9qhrX5vgPMp4LezQuFWmn4x6lSDKJbcClL7ngQCg7pv8dwHqrrJ1QD1vfBawDqg7xyl71KvHUkA9H/5Hg7oy6pGACVAvtyhRCerq6ygwp74F1PPHK6BebkwI1gH16vGTq+UUANTzQABQdwIAoA6oT+KhkIC6c5wC6tUDKqCeP/EH1P0T/6mWUQfUJz4+yKhPXKvKxR/5GRn16jGKq59dBQB1QH1SzicA1AF1QD35AHvUaxdPJ22POqCeP7kG1AH1StCajOdk1PPHatEv0o7S93LjltL32gV43um4AoA6oA6oH/94Nk59zxsLHCaXp1dRlg+o1y76AupTZI86pe95k38y6uVgk9J3n36Aet44LfamF4+UvtcuuPNOv1MAUM+bbFP67iypJaNORp2MOhn134WemnwHqAPqrr3RAhIOk/NDCXvUfSCszDWl737tKH2vSdzkTaaYAoA6oE5GnYx6ke3NeSSjnnfvKLQlo167IAmoA+qA+kk4rR5Q98MmoO7XDlCvXfDknaaOAoB63mSbjDoZ9QK4JuORU9/zxmfRJxwm5xynHCZXPXizRz1/cs0edX/GmtL3fH8bvc+a0neffpS++8csp75Xj51cLa8AoJ4HAoC6EwAofaf0ndJ3St/Lh6wx70BGnYw6GXUy6mN8QLAJqAPqxb7xyXxkj/qY+MyTGikAqAPqlL5T+l5konMeKX3Pu3cU2lL6XqPgZWaAOqA+BtKKrOp4j+xRL5c5pPTdB8LsUffrJu0ofa9d8OSdpo4CgHreZJuMOhn1Argm45HS97zxWfQJpe/OcUrpe/XgTel7/gSb0nc/DFP6nu9vxeIMGfVy2vHxbOXGLR/PVj2GctWvAKCeBwKAuhMAKH2n9J3Sd0rf/aGq6ivJqJNRJ6NO6fsYHwDUAfXJLHcf/bcofa8ap7lYUgFAHVCn9J3S9yITnfNI6XvevaPQltL3kkFr1MsBdUB9DKQVWdXxHil992cNBSaUvvthmFPf/dpR+j4q+vHtKaMAoJ432SajTka9AK7JeKT0PW98Fn1C6btznFL6Xj32U/qeP7mm9N0Pw5S+5/tbsThDRr2cdpS+lxu3lL5Xj6Fc9SsAqOeBAKDuBABK3yl9p/Sd0nd/qKr6SjLqZNTJqFP6PsYHAHVAfXQ5+mR+T+l71TjNxZIKAOqAOqXvlL4XmeicR0rf8+4dhbaUvpcMWqNeDqgD6mMgrciqjvdI6bs/a0jpux+E5ZeUvvv1o/R9VPTj21NGAUA9b7JNRp2MegFck/FI6Xve+Cz6hNJ35zil9L167Kf0PX9yTem7H4Ypfc/3t2Jxhox6Oe0ofS83bil9rx5DuepXAFDPAwFA3QkAlL5T+k7pO6Xv/lBV9ZVk1Mmok1Gn9H2MDwDqgPpklruP/luUvleN01wsqQCgDqhT+k7pe5GJznmk9D3v3lFoS+l7yaA16uWAOqA+BtKKrOp4j5S++7OGlL77QZjS93LaUfo+Kvrx7SmjAKCeN9kmo05GvQCuyXik9D1vfBZ9Qum7c5xS+l499lP6nj/BpvTdD8OUvuf7W7E4Q0a9nHaUvpcbt5S+V4+hXPUrAKjngQCg7gQASt8pfaf0ndJ3f6iq+koy6mTUyahT+j7GBwB1QH10Ofpkfk/pe9U4zcWSCgDqgDql75S+F5nonEdK3/PuHYW2lL6XDFqjXg6oA+pjIK3Iqo73SOm7P2tI6bsfhCl9L6cdpe+joh/fnjIKAOp5k20y6mTUC+CajEdK3/PGZ9EnlL47xyml79VjP6Xv+RNsSt/9MEzpe76/FYszZNTLaUfpe7lxS+l79RjKVb8CgHoeCADqTgCg9J3Sd0rfKX33h6qqrySjTkadjDql72N8AFAH1Cez3H3036L0vWqc5mJJBQB1QJ3Sd0rfi0x0ziOl73n3jkJbSt9LBq1RLwfUAfUxkFZkVcd7pPTdnzWk9N0PwpS+l9OO0vdR0Y9vTxkFAPW8yTYZdTLqBXBNxiOl73njs+gTSt+d45TS9+qxn9L3/Ak2pe9+GKb0Pd/fisUZMurltKP0vdy4pfS9egzlql8BQD0PBAB1JwBQ+k7pO6XvlL77Q1XVV5JRJ6NORp3S9zE+AKgD6qPL0Sfze0rfq8ZpLpZUAFAH1Cl9p/S9yETnPFL6nnfvKLSl9L1k0Br1ckAdUB8DaUVWdbxHSt/9WUNK3/0gTOl7Oe0ofR8V/fj2lFEAUM+bbJNRJ6NeANdkPFL6njc+iz6h9N05Til9rx77KX3Pn2BT+u6HYUrf8/2tWJwho15OO0rfy41bSt+rx1Cu+hUA1PNAAFB3AgCl75S+U/pO6bs/VFV9JRl1Mupk1Cl9H+MDgDqgPpnl7qP/FqXvVeM0F0sqAKgD6pS+U/peZKJzHil9z7t3FNpS+l4yaI16OaAOqI+BtCKrOt4jpe/+rCGl734QpvS9nHaUvo+Kfnx7yigAqOdNtsmok1EvgGsyHil9zxufRZ9Q+u4cp5S+V4/9lL7nT7ApfffDMKXv+f5WLM6QUS+nHaXv5cYtpe/VYyhX/QoA6nkgAKg7AYDSd0rfKX2n9N0fqqq+kow6GXUy6pS+j/EBQB1QH12OPpnfU/peNU5zsaQCw0ND1nHokHV2dIRq3V1d1t7ebi+++KKpVDRKmzt3ri1cuNB27dplixYtMj2PYptKkdetW2cDAwOh+lK+1dHRYf19fTY8PGwqtY/kb7Jn5MgRa2trS30ayedkyzvvvGMbNmwwZYmj+JrseOGFF2zNmjW2adMmW7BgQaixoHGp/jxw4EAar5HG6Zw5c1Kf9vX1WVew+67GZW9Pj/32t78tGVkm5+WAOqA+BtKKrOp4j5S++7OGlL77QZjS93LaUfo+OYGVvxJLgWNHj9rQ4KAJ2CM1ZfoFnO+++65t2bIlVNu2bVsCz7q6ulD2vffee7Z79277YGQkVF/Kr+RjguGjR48mWI/ka7Lll8eOWX9/v9XX14fqU/n/vn37Ur++//77ocaBFhCam5uttbXVtm7dGso26ab7h9r27dtD2Sbd1KcaD9HGgew5cvhwrCD1e6wB1AF1QJ2M+hgfIKPuh2FpR+m7fxGLjPrvidb86DOrgDI7tDwNPrPOMAn/GL6W52uR9SrcJaqNhX08+hUA1AH1MZA2Xia9+DkZdT+MkFH3gzAZ9XLakVH3B0teiQIogAIogAIogAKTqcCkgfrBgwetbvt221FfH6opg7N//36777777Otf/7qdc845YdpZZ51lF1xwgc2aNctuu+02O/3008PYdvbZZ9uFF15ozz77rLUfOGD1dXWh+lX2NDU2pv1/rXv2hLOvYdcu6+vttY0bN9r06dPtzDPPDNO38rurrrrKnn/+ebvlllvsjDPOCGObxqfskV0zZ860yy67LJR2GheXXHJJKvnS3jYtLOhalPuK+vaaa65Je9q0YBTtfqxxu7e1dcrsHZvMYM3fQgEUQAEUQAEUOLUUmDRQP3bsWNoTcOTIEYvUiv1EgnXtxdq5c2eYtmPHDmtoaDCdmL937960ryiKfYVtOjxF+7G03yNSv8qekZERk9998MEH4eyTbR9++KENDg5aU1OTSc9Ifas9WZ2dnbZnz55Qtkkj7a/TfjEt/jU2NoazTzZpTGhs6DCmSH0r7dS3Ghe694Uasx/Zo/HKFwqgAAqgAAqgAAqc6gpMGqhHFzrq/o6pYFf0vo1u31ToY2zM29Mmn4usWfQxgX0ogAIogAIogAIocKorAKif6h7A/48CKIACKIACKIACKIACKIACKBBKAUA9VHdgDAqgAAqgAAqgAAqgAAqgAAqgwKmuAKB+qnsA/z8KoAAKoAAKoAAKoAAKoAAKoEAoBQD1UN2BMSiAAiiAAiiAAiiAAiiAAiiAAqe6AoD6qe4B/P8ogAIogAIogAIogAIogAIogAKhFADUQ3UHxqAACqAACqAACqAACqAACqAACpzqCgDqp7oH8P+jAAqgAAqgAAqgAAqgAAqgAAqEUgBQD9UdGIMCKIACKIACKIACKIACKIACKHCqKwCon+oewP+PAiiAAiiAAiiAAiiAAiiAAigQSgFAPVR3YAwKoAAKoAAKoAAKoAAKoAAKoMCprgCgfqp7AP8/CqAACqAACqAACqAACqAACqBAKAUA9VDdgTEogAIogAIogAIogAIogAIogAKnugKA+qnuAfz/KIACKIACKIACKIACKIACKIACoRQA1EN1B8agAAqgAAqgAAqgAAqgAAqgAAqc6goA6qe6B/D/owAKoAAKoAAKoAAKoAAKoAAKhFIAUA/VHRiDAiiAAiiAAiiAAiiAAiiAAihwqisAqJ/qHsD/jwIogAIogAIogAIogAIogAIoEEoBQD1Ud2AMCqAACqAACqAACqAACqAACqDAqa4AoH6qewD/PwqgAAqgAAqgAAqgAAqgAAqgQCgFAPVQ3YExKIACKIACKIACKIACKIACKIACp7oCgPqp7gH8/yiAAiiAAiiAAiiAAiiAAiiAAqEUANRDdQfGoAAKoAAKoAAKoAAKoAAKoAAKnOoK/P/cigLhYwO4VQAAAABJRU5ErkJggg=="
    }
   },
   "cell_type": "markdown",
   "metadata": {},
   "source": [
    "# Finding clusters\n",
    "Given an Ising configuration, we define a cluster of spins as a set of neighbouring spins of the same sign surrounded by spins of the opposite sign.\n",
    "\n",
    "<img src=\"attachment:image.png\" width=\"600\">"
   ]
  },
  {
   "cell_type": "markdown",
   "metadata": {},
   "source": [
    "### Exercise 4.16\n",
    "The formal definition of cluster is very clear, but in practice, how do you find (*efficiently* if possible) all clusters for a given configuration? We need to assign a **unique cluster label** to each spin. The cluster label could be anything (a color, a letter, a number...), it just needs to be the same for all spins that belong to the same cluster. For simplicity, we will use integers.\n",
    "\n",
    "Think about an algorithm that assigns unique cluster labels to spins. Explain your algorithm in simple words / steps / pseudocode.\n",
    "\n",
    "Remember:\n",
    "+ Clusters can trespass (periodic) boundary conditions\n",
    "+ Both `+1`'s and `-1`'s can form clusters!"
   ]
  },
  {
   "cell_type": "markdown",
   "metadata": {},
   "source": [
    "*Your answer here*"
   ]
  },
  {
   "attachments": {
    "image.png": {
     "image/png": "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"
    }
   },
   "cell_type": "markdown",
   "metadata": {},
   "source": [
    "### Exercise 4.17\n",
    "Write a function that, given a configuration array `config`, returns another array `labels` where each cluster has a different label.\n",
    "\n",
    "<img src=\"attachment:image.png\" width=\"600\">\n",
    "\n",
    "Remember:\n",
    "+ Clusters can trespass (periodic) boundary conditions\n",
    "+ Both `+1`'s and `-1`'s can form clusters!\n"
   ]
  },
  {
   "cell_type": "code",
   "execution_count": null,
   "metadata": {},
   "outputs": [],
   "source": [
    "def get_labels(config):\n",
    "    \"\"\"\n",
    "    Get unique cluster labels.\n",
    "    \n",
    "    Parameters\n",
    "    ----------\n",
    "    config : np.array, (N, N)\n",
    "        Configuration of the system in {-1, 1} notation\n",
    "    Returns\n",
    "    -------\n",
    "    labels : np.array, (N, N)\n",
    "        Labels that identify the clusters\n",
    "    \"\"\"\n",
    "    ...\n",
    "            \n",
    "    return labels"
   ]
  },
  {
   "cell_type": "markdown",
   "metadata": {},
   "source": [
    "### Test your function\n",
    "To help you **test** your function, I have prepared some test data, so that we can all try our algorithms using the same input."
   ]
  },
  {
   "cell_type": "code",
   "execution_count": null,
   "metadata": {},
   "outputs": [],
   "source": [
    "config_test_0 = np.array([[ 1,  1,  1],\n",
    "                          [-1, -1,  1],\n",
    "                          [-1, -1,  1]])"
   ]
  },
  {
   "cell_type": "code",
   "execution_count": null,
   "metadata": {},
   "outputs": [],
   "source": [
    "config_test_1 = np.array([[ 1, -1, -1,  1, -1,  1],\n",
    "                          [-1, -1, -1,  1, -1,  1],\n",
    "                          [-1,  1, -1, -1, -1,  1],\n",
    "                          [-1,  1, -1,  1,  1,  1],\n",
    "                          [-1,  1, -1, -1,  1, -1],\n",
    "                          [-1, -1, -1,  1,  1,  1]])"
   ]
  },
  {
   "cell_type": "code",
   "execution_count": null,
   "metadata": {},
   "outputs": [],
   "source": [
    "config_test_2 = np.array([[ 1, -1,  1,  1, -1,  1, -1,  1,  1,  1],\n",
    "                          [-1, -1, -1,  1,  1, -1, -1, -1,  1, -1],\n",
    "                          [ 1, -1,  1, -1, -1, -1,  1,  1, -1,  1],\n",
    "                          [ 1, -1,  1,  1,  1, -1,  1, -1,  1, -1],\n",
    "                          [-1, -1,  1,  1, -1,  1, -1,  1,  1,  1],\n",
    "                          [ 1, -1, -1, -1,  1, -1,  1,  1, -1,  1],\n",
    "                          [-1,  1, -1,  1,  1, -1, -1, -1,  1,  1],\n",
    "                          [-1, -1, -1, -1,  1,  1, -1, -1, -1,  1],\n",
    "                          [ 1,  1, -1, -1,  1, -1,  1,  1,  1,  1],\n",
    "                          [ 1,  1, -1, -1, -1,  1,  1,  1,  1, -1]])\n"
   ]
  },
  {
   "cell_type": "markdown",
   "metadata": {},
   "source": [
    "Execute the following cell to make sure your function works correctly. The left column will show the test configurations, and the right column will show the clusters your function found, with different clusters colored in different colors"
   ]
  },
  {
   "cell_type": "code",
   "execution_count": null,
   "metadata": {},
   "outputs": [],
   "source": [
    "for i, config in enumerate([config_test_0, config_test_1, config_test_2]):\n",
    "    labels = get_labels(config)\n",
    "\n",
    "    fig, (ax1, ax2) = plt.subplots(1, 2, figsize=(10,4))\n",
    "    ax1.set_xticks(range(len(config)))\n",
    "    ax1.set_yticks(range(len(config)))\n",
    "    ax2.set_xticks(range(len(config)))\n",
    "    ax2.set_yticks(range(len(config)))\n",
    "    ax1.set_title(\"Configuration\")\n",
    "    ax2.set_title(\"Clusters\")\n",
    "    ax1.imshow(config, cmap=\"Greys\")\n",
    "    ax2.imshow(labels, cmap=\"rainbow\")\n",
    "    \n",
    "    fig.suptitle(f\"Test data {i}\", fontsize=22)"
   ]
  },
  {
   "cell_type": "markdown",
   "metadata": {},
   "source": [
    "If your function doesn't work, you might want to use this cell to inspect your results"
   ]
  },
  {
   "cell_type": "code",
   "execution_count": null,
   "metadata": {},
   "outputs": [],
   "source": [
    "fig, ax = plt.subplots(1, 1, figsize=(10, 9))\n",
    "ax.set_aspect(1)\n",
    "sns.heatmap(labels, annot=True, ax=ax, cmap=\"viridis\")"
   ]
  },
  {
   "cell_type": "markdown",
   "metadata": {},
   "source": [
    "### Measuring cluster sizes\n",
    "Use your `get_labels()` function to find clusters in a large Ising model, say $N=500$. You can use your own Ising implementation. If you use Sethna's code, remember that he uses $s \\in \\{0, 1\\}$ spins!"
   ]
  },
  {
   "cell_type": "code",
   "execution_count": null,
   "metadata": {},
   "outputs": [],
   "source": [
    "...\n",
    "...\n",
    "...\n",
    "labels = get_labels(config)"
   ]
  },
  {
   "cell_type": "code",
   "execution_count": null,
   "metadata": {},
   "outputs": [],
   "source": [
    "plt.figure(figsize=(10, 8))\n",
    "plt.imshow(labels)"
   ]
  },
  {
   "cell_type": "markdown",
   "metadata": {},
   "source": [
    "### Exercise 4.18\n",
    "Find an efficient way to measure cluster sizes. Remind that all you care about is the distribution of cluster sizes, their location does not matter. You might want to use the `.reshape()` method of a numpy array, and the `Counter` class from the `collections` package."
   ]
  },
  {
   "cell_type": "code",
   "execution_count": null,
   "metadata": {},
   "outputs": [],
   "source": [
    "def get_sizes(labels):\n",
    "    ...\n",
    "    ...\n",
    "    ...\n",
    "    return sizes"
   ]
  },
  {
   "cell_type": "markdown",
   "metadata": {},
   "source": [
    "### Exercise 4.19\n",
    "For $T >> T_c$, spins are essentially uncorrelated. What is the distribution of cluster sizes you expect to find in this case? **Hint** Think about the 1D case assuming totally uncorrelated spins."
   ]
  },
  {
   "cell_type": "markdown",
   "metadata": {},
   "source": [
    "*Your answer here*\n",
    "\n"
   ]
  },
  {
   "cell_type": "markdown",
   "metadata": {},
   "source": [
    "### Exercice 4.20\n",
    "Do a simulation at very high temperature and measure the cluster size distribution. Plot your results in log-log scale. Do your results agree with your previous answer?"
   ]
  },
  {
   "cell_type": "markdown",
   "metadata": {},
   "source": [
    "*Your answer here*"
   ]
  },
  {
   "cell_type": "code",
   "execution_count": null,
   "metadata": {},
   "outputs": [],
   "source": [
    "...\n",
    "...\n",
    "config = ...\n",
    "labels = get_labels(config)\n",
    "sizes = get_sizes(labels)"
   ]
  },
  {
   "cell_type": "code",
   "execution_count": null,
   "metadata": {},
   "outputs": [],
   "source": [
    "# use logarithmic bins and logarithmic axes!\n",
    "bins = np.geomspace(min(sizes), max(sizes), num=20)\n",
    "\n",
    "fig, ax = plt.subplots(1, 1, figsize=(5, 4))\n",
    "ax.hist(sizes, bins=bins, histtype=\"step\")\n",
    "ax.set_xscale(\"log\")\n",
    "ax.set_yscale(\"log\")\n",
    "ax.set_xlim(min(sizes), max(sizes))"
   ]
  },
  {
   "cell_type": "markdown",
   "metadata": {},
   "source": [
    "### Exercise 4.21\n",
    "\n",
    "At $T_c$, the distribution of cluster sizes is known to be a power law with exponent close to $\\alpha \\simeq 2$.\n",
    "\n",
    "$$\n",
    "P(s) \\propto s^{-\\alpha}\n",
    "$$\n",
    "\n",
    "Do a simulation at $T=T_c$ and compare the resulting cluster size distribution with that obtained at $T>>T_c$."
   ]
  },
  {
   "cell_type": "code",
   "execution_count": null,
   "metadata": {},
   "outputs": [],
   "source": [
    "# do simulation\n",
    "...\n",
    "...\n"
   ]
  },
  {
   "cell_type": "code",
   "execution_count": null,
   "metadata": {},
   "outputs": [],
   "source": [
    "# plot results\n",
    "...\n",
    "..."
   ]
  },
  {
   "cell_type": "code",
   "execution_count": null,
   "metadata": {},
   "outputs": [],
   "source": []
  },
  {
   "cell_type": "code",
   "execution_count": null,
   "metadata": {},
   "outputs": [],
   "source": []
  }
 ],
 "metadata": {
  "kernelspec": {
   "display_name": "Python 3",
   "language": "python",
   "name": "python3"
  },
  "language_info": {
   "codemirror_mode": {
    "name": "ipython",
    "version": 3
   },
   "file_extension": ".py",
   "mimetype": "text/x-python",
   "name": "python",
   "nbconvert_exporter": "python",
   "pygments_lexer": "ipython3",
   "version": "3.8.8"
  }
 },
 "nbformat": 4,
 "nbformat_minor": 4
}
