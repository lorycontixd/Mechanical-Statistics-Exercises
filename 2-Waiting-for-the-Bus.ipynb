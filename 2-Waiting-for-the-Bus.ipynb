{
 "cells": [
  {
   "cell_type": "code",
   "execution_count": null,
   "metadata": {},
   "outputs": [],
   "source": [
    "# multidimensional arrays\n",
    "import numpy as np\n",
    "\n",
    "# inline plots\n",
    "import matplotlib.pyplot as plt\n",
    "%matplotlib inline\n",
    "\n",
    "# nicer figures\n",
    "import matplotlib as mpl\n",
    "mpl.rcParams['axes.titlesize'] = 16\n",
    "mpl.rcParams['axes.labelsize'] = 14\n",
    "mpl.rcParams['legend.fontsize'] = 12\n",
    "mpl.rcParams['xtick.labelsize'] = 12\n",
    "mpl.rcParams['ytick.labelsize'] = 12\n",
    "mpl.rcParams['axes.spines.right'] = False\n",
    "mpl.rcParams['axes.spines.top'] = False"
   ]
  },
  {
   "cell_type": "markdown",
   "metadata": {},
   "source": [
    "# Waiting for the bus\n",
    "### Exercise 2.1\n",
    "Suppose you are at the bus stop, waiting for the bus. Assume that, at any moment in time, the probability of the next bus arriving in exactly $t$ minutes is given by:\n",
    "$$\n",
    "P(t) = \\lambda e^{-\\lambda t}\n",
    "$$\n",
    "where $t > 0$ is a continous variable and $\\lambda > 0$ is a parameter.\n",
    "\n",
    "1. What is the probability that you have to wait 10 minutes *or more* for the next bus?\n",
    "   \n",
    "2. What is the probability that it takes $T$ minutes *or less* for the next bus to arrive?\n",
    "   \n",
    "3. If the last bust arrived 15 minutes ago, does the answer to questions 1 and 2 change? Explain why / why not.\n",
    "   \n",
    "4. If you sit at the bus stop for $T$ minutes, what is the probability that you will see $k$ buses passing by? **Hint**: You might want to divide $T$ into many small time intervals. "
   ]
  },
  {
   "cell_type": "markdown",
   "metadata": {},
   "source": [
    "### Exercise 2.2\n",
    "The take-home message of the previous exercise is that **exponential** waiting times between events imply **Poisson** number of events in a given time interval. What are the events? In our exercise they were bus arrivals, but they could be anything.\n",
    "\n",
    "We will start by generating exponential random numbers. In the [previous session](1.1-Generating-Random-Numbers.ipynb) we learnt howe to generate random numbers with a given distribution via **inverse sampling**. Today, however, we will use functions from `numpy.random`.\n",
    "\n",
    "Find a `numpy.random` function that generates numbers drawn from the exponential distribution. You might simply google \"numpy random exponential\" or browse [numpy's website]()."
   ]
  },
  {
   "cell_type": "markdown",
   "metadata": {},
   "source": [
    "## Function's documentation"
   ]
  },
  {
   "cell_type": "markdown",
   "metadata": {},
   "source": [
    "Using the `?` command, you will get a quick view of a functions documentation. "
   ]
  },
  {
   "cell_type": "code",
   "execution_count": null,
   "metadata": {},
   "outputs": [],
   "source": [
    "np.random.exponential?"
   ]
  },
  {
   "cell_type": "markdown",
   "metadata": {},
   "source": [
    "\n",
    "Well-documented python functions, such as most found in numpy, follow a standardized format. The most important parts of a function's documentation are:\n",
    "\n",
    "The *first line*: gives a briev description of what the function does. It is followed by a more lengthy and detailed paragraph, but the first line should be enough to undersand what a function does.\n",
    "\n",
    "The *Parameters* section, which tells you what are the arguments or parameters of the function. It tells you what `type` they should be: a string, a float, and integer, etc. Notice that in python, parameters can be almost anything: you can pass a function to another function, you can pass an array, or a whole class, or any kind of python object.\n",
    "\n",
    "The *Returns* section is also very important, because it tells you what the function returns. Sometimes it is obvious, sometimes not, specially with functions that compute and return more than one thing."
   ]
  },
  {
   "cell_type": "markdown",
   "metadata": {},
   "source": [
    "### Exercise 2.3\n",
    "\n",
    "Using numpy's functions, write a function called `get_waiting_times` of your own that has as input arguments an integer `size` and a float `lam`, and returns `size` samples from an exponential distribution with $\\lambda=$`lam`. The probability density function of an exponential random variable is:\n",
    "$$\n",
    "f(x) = \\lambda e^{-\\lambda x}\n",
    "$$\n",
    "Make sure you check what do the parameters of numpy's random exponential function mean!"
   ]
  },
  {
   "cell_type": "code",
   "execution_count": null,
   "metadata": {},
   "outputs": [],
   "source": [
    "def get_waiting_times(size: int, lam: float):\n",
    "    ...\n",
    "    w_times = np.random.exponential(...)\n",
    "    return w_times"
   ]
  },
  {
   "cell_type": "markdown",
   "metadata": {},
   "source": [
    "## From exponential to Poisson\n",
    "The rest of the exercise consists in verifying computationally that exponential waiting times between events imply Poisson number of events in a given time period, as we already showed analytically during last lecture. So, in case you didn't find the proof convincing, now you get a chance to see for yourself!"
   ]
  },
  {
   "cell_type": "markdown",
   "metadata": {},
   "source": [
    "### Exercise 2.4\n",
    "Write a function that computes the event times. Your function should call the `get_waiting_times` function, and should have the same parameters. In case it is not clear, the event times $t_i$ are computed from the waiting times $w_i$ as\n",
    "$$\n",
    "t_i = \\sum_{k=1}^{i} w_k\n",
    "$$"
   ]
  },
  {
   "cell_type": "code",
   "execution_count": null,
   "metadata": {},
   "outputs": [],
   "source": [
    "def get_event_times(size, lam):\n",
    "    waiting_times = ...\n",
    "    # we simply do a cumulative sum of the waiting times\n",
    "    # find a numpy function that does cumulatives sums\n",
    "    event_times = ...\n",
    "    return event_times"
   ]
  },
  {
   "cell_type": "markdown",
   "metadata": {},
   "source": [
    "Now we need to count the number of events in a given time interval. There is a practical problem, since we don't know how many events to generate."
   ]
  },
  {
   "cell_type": "markdown",
   "metadata": {},
   "source": [
    "### Exercise 2.5\n",
    "Device a strategy to make sure you generate enough events. That is, given a time period $T$ and the rate $\\lambda$ of the exponential, how many events $N(T, \\lambda)$ should you generate to make sure that $t_N > T$ ? \n",
    "\n",
    "\n",
    "\n",
    "\n"
   ]
  },
  {
   "cell_type": "markdown",
   "metadata": {},
   "source": []
  },
  {
   "cell_type": "markdown",
   "metadata": {},
   "source": [
    "## Assertions\n",
    "The `assert` statement is used to verify conditions that we expect to be `True`. For instance:\n",
    "```python\n",
    "assert 4 > 1 #True\n",
    "assert \"a\" in [\"a\", \"b\", \"c\"] #True\n",
    "assert 1 >= 2 #AssertionError\n",
    "```\n",
    "If the condition after `assert` is `False`, then an error is raised. But otherwise, nothing happens. Think of `assert` as \"make sure\": we don't want to do anything if the condition is `True`, we just want to make sure it is not `False`. A typical use case is to make sure that the passed arguments have some properties. For instance:\n",
    "\n",
    "```python\n",
    "def polar_to_cartesian(r, phi):\n",
    "    \"\"\"\n",
    "    Transform polar to cartesian coordinates.\n",
    "    \"\"\"\n",
    "    # let's make sure r is positive\n",
    "    assert r >= 0\n",
    "  \n",
    "    # then compute the coordinates\n",
    "    x = r * np.cos(phi)\n",
    "    y = r * np.sin(phi)\n",
    "    \n",
    "    return x, y\n",
    "```\n",
    "\n",
    "Notice that, without the assertion, the function would work for negative radius without complaining, and that is something we want to avoid."
   ]
  },
  {
   "cell_type": "markdown",
   "metadata": {},
   "source": [
    "### Exercise 2.6\n",
    "Write a function that counts the events in a given time period. The input parameters should be `time_period` and `lam`. Your function should call the `get_event_times` function. The output should be an integer, the number of events in the time period.\n",
    "\n",
    "Add an `assert` statement to make sure that we have generate enough events."
   ]
  },
  {
   "cell_type": "code",
   "execution_count": null,
   "metadata": {},
   "outputs": [],
   "source": [
    "from scipy.stats import poisson\n",
    "\n",
    "def count_events(time_period, lam):\n",
    "    # make sure everything is fine\n",
    "    assert time_period > 0\n",
    "    assert lam > 0\n",
    "    \n",
    "    # estimate number of events necessary\n",
    "    num_events = int( poisson(mu=time_period * lam).isf(1e-6))\n",
    "    \n",
    "    # generate event times\n",
    "    event_times = ...\n",
    "        \n",
    "    # make sure that the last event is outside the time period\n",
    "    # you can access the last element of an array 'x' with 'x[-1]'\n",
    "    assert ...\n",
    "    \n",
    "    # see which events are inside the time period\n",
    "    event_inside = event_times < time_period\n",
    "    \n",
    "    # count how many are inside\n",
    "    num_inside = ...\n",
    "    \n",
    "    return num_inside"
   ]
  },
  {
   "cell_type": "markdown",
   "metadata": {},
   "source": [
    "## Checking your results\n",
    "To make sure your functions work correctly, you can use the code below, which compares the number of intervals in a given interval with a Poisson distribution. If everything went well, the histrograms should be one on top of the other!"
   ]
  },
  {
   "cell_type": "code",
   "execution_count": null,
   "metadata": {},
   "outputs": [],
   "source": [
    "def test_with_numpy(time_period, lam, num_samples):\n",
    "    # generate our results\n",
    "    sample = [\n",
    "        count_events(time_period=time_period, lam=lam)\n",
    "        for _ in range(num_samples)\n",
    "    ]\n",
    "    # compare with real poisson sample\n",
    "    sample_ground_truth = np.random.poisson(lam=lam * time_period, size=num_samples)\n",
    "    return sample, sample_ground_truth"
   ]
  },
  {
   "cell_type": "code",
   "execution_count": null,
   "metadata": {},
   "outputs": [],
   "source": [
    "lams = [0.5, 1, 2.4]\n",
    "time_periods = [0.3, 1, 5]\n",
    "\n",
    "fig, axx = plt.subplots(3, 3, figsize=(16, 10), tight_layout=True)\n",
    "axx = axx.reshape(-1)\n",
    "i = 0\n",
    "for lam in lams:\n",
    "    for time_period in time_periods:\n",
    "        \n",
    "        ax = axx[i]\n",
    "        i = i+1\n",
    "        \n",
    "        sample, sample_true = test_with_numpy(time_period=time_period, lam=lam, num_samples=10000)\n",
    "        M = max(max(sample), max(sample_true))\n",
    "        ax.set_title(f\"$\\lambda$ = {lam}\\n$T$ =  {time_period}\")\n",
    "        ax.hist(\n",
    "            sample,\n",
    "            bins=np.arange(-0.5, M + 0.5),\n",
    "            alpha=0.4,\n",
    "            label=\"results\"\n",
    "        );\n",
    "        ax.hist(\n",
    "            sample_true,\n",
    "            bins=np.arange(-0.5, M + 0.5),\n",
    "            alpha=0.3,\n",
    "            label=\"numpy\"\n",
    "        );\n",
    "        ax.set_xlabel(r\"Num events, $k$\")\n",
    "        ax.set_ylabel(f\"$P(k)$\")\n",
    "        ax.legend(loc=(1, 0))"
   ]
  },
  {
   "cell_type": "code",
   "execution_count": null,
   "metadata": {},
   "outputs": [],
   "source": []
  },
  {
   "cell_type": "code",
   "execution_count": null,
   "metadata": {},
   "outputs": [],
   "source": []
  }
 ],
 "metadata": {
  "kernelspec": {
   "display_name": "Python 3",
   "language": "python",
   "name": "python3"
  },
  "language_info": {
   "codemirror_mode": {
    "name": "ipython",
    "version": 3
   },
   "file_extension": ".py",
   "mimetype": "text/x-python",
   "name": "python",
   "nbconvert_exporter": "python",
   "pygments_lexer": "ipython3",
   "version": "3.9.4"
  }
 },
 "nbformat": 4,
 "nbformat_minor": 4
}
